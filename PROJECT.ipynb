{
 "cells": [
  {
   "cell_type": "markdown",
   "metadata": {},
   "source": [
    "# 0. Setting up the environment"
   ]
  },
  {
   "cell_type": "code",
   "execution_count": 1,
   "metadata": {
    "ExecuteTime": {
     "end_time": "2020-02-22T11:13:14.700673Z",
     "start_time": "2020-02-22T11:13:13.648825Z"
    }
   },
   "outputs": [],
   "source": [
    "import requests\n",
    "import json\n",
    "from bs4 import BeautifulSoup\n",
    "import pandas as pd\n",
    "from pandas.io.json import json_normalize\n",
    "import re\n",
    "import math\n",
    "import numpy as np\n",
    "import matplotlib.pyplot as plt\n",
    "%matplotlib inline\n",
    "from pandas.plotting import register_matplotlib_converters\n",
    "\n",
    "import seaborn as sns\n"
   ]
  },
  {
   "cell_type": "markdown",
   "metadata": {},
   "source": [
    "# 1. Web scraping: Getting artists from Discogs.com"
   ]
  },
  {
   "cell_type": "markdown",
   "metadata": {},
   "source": [
    "We want to get a list with 'n' artists, searching by most popular albums by style in discogs.com. By changing the style in the link, we can apply the same job on other music styles.\n",
    "The style code in the link its noted as '&style_exact=Sample+Style'. By concatenating them, we can choose multiple styles."
   ]
  },
  {
   "cell_type": "code",
   "execution_count": 2,
   "metadata": {
    "ExecuteTime": {
     "end_time": "2020-02-22T11:13:14.705947Z",
     "start_time": "2020-02-22T11:13:14.703058Z"
    }
   },
   "outputs": [],
   "source": [
    "url = 'https://www.discogs.com/search/?sort=have%2Cdesc&ev=gs_mc&type=master&page=1'\n",
    "\n",
    "## Sample Rock URL ='https://www.discogs.com/search/?sort=have%2Cdesc&genre_exact=Rock&ev=gs_mc&type=master&page=1'"
   ]
  },
  {
   "cell_type": "markdown",
   "metadata": {},
   "source": [
    "Iterating over page 1 of the website"
   ]
  },
  {
   "cell_type": "code",
   "execution_count": 3,
   "metadata": {
    "ExecuteTime": {
     "end_time": "2020-02-22T11:13:17.288839Z",
     "start_time": "2020-02-22T11:13:14.708429Z"
    }
   },
   "outputs": [],
   "source": [
    "html = requests.get(url).content"
   ]
  },
  {
   "cell_type": "code",
   "execution_count": 4,
   "metadata": {
    "ExecuteTime": {
     "end_time": "2020-02-22T11:13:20.833935Z",
     "start_time": "2020-02-22T11:13:17.291161Z"
    }
   },
   "outputs": [],
   "source": [
    "html = requests.get(url).content\n",
    "soup = BeautifulSoup(html, 'lxml')"
   ]
  },
  {
   "cell_type": "markdown",
   "metadata": {},
   "source": [
    "\n",
    "We will extract the artist name for each record stored in the page. The tag for the artist is named 'h5'."
   ]
  },
  {
   "cell_type": "code",
   "execution_count": 5,
   "metadata": {
    "ExecuteTime": {
     "end_time": "2020-02-22T11:13:20.838338Z",
     "start_time": "2020-02-22T11:13:20.835768Z"
    }
   },
   "outputs": [],
   "source": [
    "tag = ['h5']"
   ]
  },
  {
   "cell_type": "code",
   "execution_count": 6,
   "metadata": {
    "ExecuteTime": {
     "end_time": "2020-02-22T11:13:20.899289Z",
     "start_time": "2020-02-22T11:13:20.841132Z"
    },
    "code_folding": []
   },
   "outputs": [
    {
     "data": {
      "text/plain": [
       "['\\n\\nPink Floyd',\n",
       " '\\n\\nThe Beatles',\n",
       " '\\n\\nThe Beatles',\n",
       " '\\n\\nPink Floyd',\n",
       " '\\n\\nMichael Jackson']"
      ]
     },
     "execution_count": 6,
     "metadata": {},
     "output_type": "execute_result"
    }
   ],
   "source": [
    "#\n",
    "artists = [element.text for element in soup.find_all(tag)]\n",
    "artists = artists[:-5]# last five elements of the list are not useful for us\n",
    "artists[:5]"
   ]
  },
  {
   "cell_type": "markdown",
   "metadata": {
    "ExecuteTime": {
     "end_time": "2020-02-17T18:44:30.164658Z",
     "start_time": "2020-02-17T18:44:30.159746Z"
    }
   },
   "source": [
    "We'll create a function to clean up the string. Luckily for us, these strings come pretty clean."
   ]
  },
  {
   "cell_type": "code",
   "execution_count": 7,
   "metadata": {
    "ExecuteTime": {
     "end_time": "2020-02-22T11:13:20.904297Z",
     "start_time": "2020-02-22T11:13:20.901139Z"
    },
    "code_folding": []
   },
   "outputs": [],
   "source": [
    "def clean_artist(string):\n",
    "    '''\n",
    "    This function takes a string and erases the skipline '\\n', parenthesis '()' and stars '*'\n",
    "    '''\n",
    "    \n",
    "    new_str = re.sub('\\s\\(\\d\\)', '', string).replace('\\n\\n', '').replace('*', '')\n",
    "    \n",
    "    \n",
    "    return new_str"
   ]
  },
  {
   "cell_type": "code",
   "execution_count": 8,
   "metadata": {
    "ExecuteTime": {
     "end_time": "2020-02-22T11:13:20.911143Z",
     "start_time": "2020-02-22T11:13:20.907056Z"
    }
   },
   "outputs": [
    {
     "data": {
      "text/plain": [
       "['Pink Floyd', 'The Beatles', 'The Beatles', 'Pink Floyd', 'Michael Jackson']"
      ]
     },
     "execution_count": 8,
     "metadata": {},
     "output_type": "execute_result"
    }
   ],
   "source": [
    "artist_clean = [clean_artist(elem) for elem in artists]\n",
    "artist_clean[:5]\n"
   ]
  },
  {
   "cell_type": "markdown",
   "metadata": {},
   "source": [
    "We will extract all the genres and styles:\n",
    "\n"
   ]
  },
  {
   "cell_type": "code",
   "execution_count": 9,
   "metadata": {
    "ExecuteTime": {
     "end_time": "2020-02-22T11:13:20.915090Z",
     "start_time": "2020-02-22T11:13:20.912976Z"
    }
   },
   "outputs": [],
   "source": [
    "tag = 'span'"
   ]
  },
  {
   "cell_type": "code",
   "execution_count": 10,
   "metadata": {
    "ExecuteTime": {
     "end_time": "2020-02-22T11:13:20.969318Z",
     "start_time": "2020-02-22T11:13:20.916482Z"
    }
   },
   "outputs": [
    {
     "data": {
      "text/plain": [
       "['Rock', 'Electronic', 'Pop', 'Folk, World, & Country', 'Jazz']"
      ]
     },
     "execution_count": 10,
     "metadata": {},
     "output_type": "execute_result"
    }
   ],
   "source": [
    "genres_styles = [element.text for element in soup.find_all(tag, class_=\"facet_name\")]\n",
    "\n",
    "genres_styles[:5]\n"
   ]
  },
  {
   "cell_type": "markdown",
   "metadata": {},
   "source": [
    "We'll store this list for later use."
   ]
  },
  {
   "cell_type": "markdown",
   "metadata": {},
   "source": [
    "Now we find a problem. The sited is mainly organized by GENRES or STYLES (sub-genres). In order to properly use one of them, we'll need to extract the page link instead of the genre/style name, because each type has its own path:"
   ]
  },
  {
   "cell_type": "code",
   "execution_count": 11,
   "metadata": {
    "ExecuteTime": {
     "end_time": "2020-02-22T11:13:20.974076Z",
     "start_time": "2020-02-22T11:13:20.971591Z"
    }
   },
   "outputs": [],
   "source": [
    "tag = 'a'"
   ]
  },
  {
   "cell_type": "code",
   "execution_count": 12,
   "metadata": {
    "ExecuteTime": {
     "end_time": "2020-02-22T11:13:21.018259Z",
     "start_time": "2020-02-22T11:13:20.975813Z"
    }
   },
   "outputs": [
    {
     "data": {
      "text/plain": [
       "['/search/?sort=have%2Cdesc&genre_exact=Rock&ev=gs_mc&type=master&page=1',\n",
       " '/search/?sort=have%2Cdesc&genre_exact=Electronic&ev=gs_mc&type=master&page=1',\n",
       " '/search/?sort=have%2Cdesc&genre_exact=Pop&ev=gs_mc&type=master&page=1',\n",
       " '/search/?sort=have%2Cdesc&genre_exact=Folk%2C+World%2C+%26+Country&ev=gs_mc&type=master&page=1',\n",
       " '/search/?sort=have%2Cdesc&genre_exact=Jazz&ev=gs_mc&type=master&page=1']"
      ]
     },
     "execution_count": 12,
     "metadata": {},
     "output_type": "execute_result"
    }
   ],
   "source": [
    "genres_link = [element.get('href') for element in soup.find_all(tag, attrs={'href': re.compile(\"genre_exact=\")})]\n",
    "\n",
    "genres_link[:5]"
   ]
  },
  {
   "cell_type": "markdown",
   "metadata": {
    "ExecuteTime": {
     "end_time": "2020-02-19T23:07:29.958550Z",
     "start_time": "2020-02-19T23:07:29.954924Z"
    }
   },
   "source": [
    "Given this strings, we can extract the exact **_'genre_exact=Sample+Genre'_** items:"
   ]
  },
  {
   "cell_type": "code",
   "execution_count": 13,
   "metadata": {
    "ExecuteTime": {
     "end_time": "2020-02-22T11:13:21.024964Z",
     "start_time": "2020-02-22T11:13:21.019903Z"
    }
   },
   "outputs": [
    {
     "data": {
      "text/plain": [
       "['&genre_exact=Hip+Hop',\n",
       " '&genre_exact=Jazz',\n",
       " '&genre_exact=Brass',\n",
       " '&genre_exact=Blues',\n",
       " '&genre_exact=Children']"
      ]
     },
     "execution_count": 13,
     "metadata": {},
     "output_type": "execute_result"
    }
   ],
   "source": [
    "genres_list = [str(re.findall('&genre_exact=\\w+\\+?\\-?\\w+', link))[2:-2] for link in genres_link ]\n",
    "\n",
    "genres = list(set(genres_list))\n",
    "\n",
    "genres[:5]"
   ]
  },
  {
   "cell_type": "markdown",
   "metadata": {},
   "source": [
    "Similarly, we can extract the **_'style_exact=Sample+Style'_** items:"
   ]
  },
  {
   "cell_type": "code",
   "execution_count": 14,
   "metadata": {
    "ExecuteTime": {
     "end_time": "2020-02-22T11:13:21.078449Z",
     "start_time": "2020-02-22T11:13:21.026508Z"
    }
   },
   "outputs": [
    {
     "data": {
      "text/plain": [
       "['/search/?sort=have%2Cdesc&style_exact=House&ev=gs_mc&type=master&page=1',\n",
       " '/search/?sort=have%2Cdesc&style_exact=Pop+Rock&ev=gs_mc&type=master&page=1',\n",
       " '/search/?sort=have%2Cdesc&style_exact=Punk&ev=gs_mc&type=master&page=1',\n",
       " '/search/?sort=have%2Cdesc&style_exact=Vocal&ev=gs_mc&type=master&page=1',\n",
       " '/search/?sort=have%2Cdesc&style_exact=Techno&ev=gs_mc&type=master&page=1']"
      ]
     },
     "execution_count": 14,
     "metadata": {},
     "output_type": "execute_result"
    }
   ],
   "source": [
    "styles_list = [element.get('href') for element in soup.find_all(tag, attrs={'href': re.compile(\"style_exact=\")})]\n",
    "\n",
    "styles_list[:5]"
   ]
  },
  {
   "cell_type": "code",
   "execution_count": 15,
   "metadata": {
    "ExecuteTime": {
     "end_time": "2020-02-22T11:13:21.085638Z",
     "start_time": "2020-02-22T11:13:21.080071Z"
    }
   },
   "outputs": [
    {
     "data": {
      "text/plain": [
       "['&style_exact=House',\n",
       " '&style_exact=Pop+Rock',\n",
       " '&style_exact=Punk',\n",
       " '&style_exact=Vocal',\n",
       " '&style_exact=Techno']"
      ]
     },
     "execution_count": 15,
     "metadata": {},
     "output_type": "execute_result"
    }
   ],
   "source": [
    "styles = [str(re.findall('&style_exact=\\w+\\+?\\w\\+?\\-?\\w+', link))[2:-2] for link in styles_list]\n",
    "\n",
    "styles[:5]\n"
   ]
  },
  {
   "cell_type": "markdown",
   "metadata": {},
   "source": [
    "We'll define a function that searches for a Genre or Style, and returns it's link piece, with the format ' &'GENRE/STYLE'_exact=ENTRY'\n",
    "For that matter, we'll filter if the keyword belongs to Genre or Style, then we'll apply the link piece format."
   ]
  },
  {
   "cell_type": "code",
   "execution_count": 16,
   "metadata": {
    "ExecuteTime": {
     "end_time": "2020-02-22T11:13:21.092901Z",
     "start_time": "2020-02-22T11:13:21.087077Z"
    }
   },
   "outputs": [
    {
     "data": {
      "text/plain": [
       "'&genre_exact=Rock'"
      ]
     },
     "execution_count": 16,
     "metadata": {},
     "output_type": "execute_result"
    }
   ],
   "source": [
    "def genre_link(string, genres=genres, styles=styles):\n",
    "    '''\n",
    "    This function takes as an input a genre or style name, and returns a piece of link depending on its category\n",
    "    ''' \n",
    "    \n",
    "    string = re.sub(' ', '+', string).title()\n",
    "    link_piece = ''\n",
    "    \n",
    "    if ('&genre_exact=' + string) in genres:\n",
    "        link_piece = ('&genre_exact=' + string)\n",
    "        \n",
    "    elif ('&style_exact=' + string) in styles:\n",
    "        link_piece = ('&style_exact=' + string)\n",
    "    else:\n",
    "        raise ValueError('The selected genre doesnt exist')\n",
    "    \n",
    "    return link_piece\n",
    "\n",
    "genre_link(string ='Rock')"
   ]
  },
  {
   "cell_type": "markdown",
   "metadata": {},
   "source": [
    "We can clearly see that there are some elements which are repeated, so to find 'n' artists we'll iterate over the webpage until our list meets the requirements."
   ]
  },
  {
   "cell_type": "code",
   "execution_count": 17,
   "metadata": {
    "ExecuteTime": {
     "end_time": "2020-02-22T11:13:21.101047Z",
     "start_time": "2020-02-22T11:13:21.094454Z"
    },
    "code_folding": []
   },
   "outputs": [],
   "source": [
    "def artist_scrape(genres='Rock', n=10):\n",
    "    '''\n",
    "    This function scrapes the Discogs.com webpage to get 'n' artist names, sorted by popularity and filtered by genre.\n",
    "    Returns a list with artist names.\n",
    "    \n",
    "    Takes 2 arguments:\n",
    "    \n",
    "        genre= type str or type list: Selects the genre(s) you're interested on.\n",
    "        \n",
    "        n= type int: Indicates the number of artist returned\n",
    "    \n",
    "    '''\n",
    "    \n",
    "    i = 0\n",
    "    \n",
    "    artists = []\n",
    "    \n",
    "    \n",
    "    \n",
    "    if type(genres) == list:\n",
    "        genre_link_list = [genre_link(genre) for genre in genres]\n",
    "        genres = ''.join(genre_link_list)\n",
    "    \n",
    "    else:\n",
    "        genres = genre_link(genres)    \n",
    "    \n",
    "    while len(artists) < n:\n",
    "                \n",
    "        i += 1\n",
    "        \n",
    "        url = 'https://www.discogs.com/search/?sort=have%2Cdesc' + genres + '&ev=gs_mc&type=master&page=' + str(i)\n",
    "        html = requests.get(url).content\n",
    "        soup = BeautifulSoup(html, 'lxml')\n",
    "        tag = 'h5'\n",
    "        \n",
    "        text = [element.text for element in soup.find_all(tag)]\n",
    "        clean_text = [clean_artist(elem) for elem in text[:-5]]\n",
    "        \n",
    "        for elem in clean_text:\n",
    "            if len(artists) < n:\n",
    "                if elem not in artists:\n",
    "                    artists.append(elem)\n",
    "                    \n",
    "    return artists"
   ]
  },
  {
   "cell_type": "code",
   "execution_count": 18,
   "metadata": {
    "ExecuteTime": {
     "end_time": "2020-02-22T11:13:23.782466Z",
     "start_time": "2020-02-22T11:13:21.102479Z"
    }
   },
   "outputs": [],
   "source": [
    "rock_bands = artist_scrape(genres=['rock'], n=10)"
   ]
  },
  {
   "cell_type": "code",
   "execution_count": 19,
   "metadata": {
    "ExecuteTime": {
     "end_time": "2020-02-22T11:13:23.787747Z",
     "start_time": "2020-02-22T11:13:23.784229Z"
    }
   },
   "outputs": [
    {
     "data": {
      "text/plain": [
       "['Pink Floyd',\n",
       " 'The Beatles',\n",
       " 'Led Zeppelin',\n",
       " 'Fleetwood Mac',\n",
       " 'Nirvana',\n",
       " 'Dire Straits',\n",
       " 'David Bowie',\n",
       " 'Black Sabbath',\n",
       " 'AC/DC',\n",
       " 'Eagles']"
      ]
     },
     "execution_count": 19,
     "metadata": {},
     "output_type": "execute_result"
    }
   ],
   "source": [
    "rock_bands"
   ]
  },
  {
   "cell_type": "markdown",
   "metadata": {},
   "source": [
    "# 2.  Songkick API Querying"
   ]
  },
  {
   "cell_type": "code",
   "execution_count": 65,
   "metadata": {
    "ExecuteTime": {
     "end_time": "2020-02-22T11:32:44.017261Z",
     "start_time": "2020-02-22T11:32:44.014822Z"
    }
   },
   "outputs": [],
   "source": [
    "apikey = '-'"
   ]
  },
  {
   "cell_type": "markdown",
   "metadata": {},
   "source": [
    "Now that we have the bands list, we want to find out how many concerts they made, when and where. Because of the structure of this API and the data we collected, we'll have to break this step in two parts:"
   ]
  },
  {
   "cell_type": "markdown",
   "metadata": {},
   "source": [
    "### 2.1 Artist ID gathering"
   ]
  },
  {
   "cell_type": "markdown",
   "metadata": {},
   "source": [
    "In order to locate an artist we're interested in, we'll have to find the unique ID of this artist on a separated part of the API of Songkick.\n",
    "https://www.songkick.com/developer/artist-search"
   ]
  },
  {
   "cell_type": "code",
   "execution_count": 21,
   "metadata": {
    "ExecuteTime": {
     "end_time": "2020-02-22T11:13:23.796094Z",
     "start_time": "2020-02-22T11:13:23.793567Z"
    }
   },
   "outputs": [],
   "source": [
    "id_url = 'https://api.songkick.com/api/3.0/search/artists.json?apikey={your_api_key}&query={artist_name}'"
   ]
  },
  {
   "cell_type": "markdown",
   "metadata": {},
   "source": [
    "We'll test our code with just one band: Pink Floyd"
   ]
  },
  {
   "cell_type": "markdown",
   "metadata": {},
   "source": [
    "First thing we find out is that in order to correctly acces the band name, we'll have to replace all whitespaces with '_' (underscores). So we're making a function for it:"
   ]
  },
  {
   "cell_type": "code",
   "execution_count": 22,
   "metadata": {
    "ExecuteTime": {
     "end_time": "2020-02-22T11:13:23.801572Z",
     "start_time": "2020-02-22T11:13:23.797806Z"
    }
   },
   "outputs": [],
   "source": [
    "def underscore_artist(artist):\n",
    "    '''\n",
    "    This function takes an artist name and transforms its string into \n",
    "    a 'Str_Str' format\n",
    "    '''\n",
    "    return artist.replace(' ', '_') \n"
   ]
  },
  {
   "cell_type": "code",
   "execution_count": 23,
   "metadata": {
    "ExecuteTime": {
     "end_time": "2020-02-22T11:13:23.810845Z",
     "start_time": "2020-02-22T11:13:23.807292Z"
    }
   },
   "outputs": [
    {
     "data": {
      "text/plain": [
       "'Pink_Floyd'"
      ]
     },
     "execution_count": 23,
     "metadata": {},
     "output_type": "execute_result"
    }
   ],
   "source": [
    "underscore_artist('Pink Floyd')"
   ]
  },
  {
   "cell_type": "code",
   "execution_count": 24,
   "metadata": {
    "ExecuteTime": {
     "end_time": "2020-02-22T11:13:23.816780Z",
     "start_time": "2020-02-22T11:13:23.814075Z"
    }
   },
   "outputs": [],
   "source": [
    "# FIND ARTIST ID:\n",
    "\n",
    "band_name = 'Pink_Floyd'\n",
    "\n",
    "pinkfloyd_url = 'https://api.songkick.com/api/3.0/search/artists.json?apikey=' + apikey + '&query=Pink_Floyd'"
   ]
  },
  {
   "cell_type": "code",
   "execution_count": 25,
   "metadata": {
    "ExecuteTime": {
     "end_time": "2020-02-22T11:13:24.092005Z",
     "start_time": "2020-02-22T11:13:23.818378Z"
    }
   },
   "outputs": [],
   "source": [
    "# Doing the request to the api\n",
    "response = requests.get(pinkfloyd_url)\n",
    "results = response.json()"
   ]
  },
  {
   "cell_type": "markdown",
   "metadata": {},
   "source": [
    "After examining the JSON Dictionary, we find out that the ID Key it's stored in the following path:"
   ]
  },
  {
   "cell_type": "code",
   "execution_count": 26,
   "metadata": {
    "ExecuteTime": {
     "end_time": "2020-02-22T11:13:24.098342Z",
     "start_time": "2020-02-22T11:13:24.094053Z"
    }
   },
   "outputs": [
    {
     "data": {
      "text/plain": [
       "400904"
      ]
     },
     "execution_count": 26,
     "metadata": {},
     "output_type": "execute_result"
    }
   ],
   "source": [
    "# Display the naked json\n",
    "artist_id = results['resultsPage']['results']['artist'][0]['id']\n",
    "\n",
    "artist_id"
   ]
  },
  {
   "cell_type": "markdown",
   "metadata": {},
   "source": [
    "Similarly to the Discogs.com process, we'll make a function that returns all the Artists IDs (in the same order)"
   ]
  },
  {
   "cell_type": "code",
   "execution_count": 27,
   "metadata": {
    "ExecuteTime": {
     "end_time": "2020-02-22T11:13:24.106531Z",
     "start_time": "2020-02-22T11:13:24.100330Z"
    }
   },
   "outputs": [],
   "source": [
    "def songkick_artist_id(artist_list, apikey = apikey):\n",
    "    '''\n",
    "    This function locates an Songkick ID number for a given list of artists. Then, it creates a tuple\n",
    "    with the band ID and the band name\n",
    "    \n",
    "    Takes two arguments:\n",
    "        \n",
    "        artist_list = type lst: List of artist names to be found. If an input it's a string, transform it\n",
    "                                into a list for a correct processing.\n",
    "                                \n",
    "        apikey = type str: Your Songkick API key\n",
    "    \n",
    "    The output is a tuple composed of two parts:\n",
    "    \n",
    "        output[0]= type int: List of Songkick IDs\n",
    "        output[1]= type str: Artist names\n",
    "        \n",
    "    '''\n",
    "    \n",
    "    \n",
    "    if type(artist_list) == str:\n",
    "        artist_list = [artist_list]\n",
    "    \n",
    "    IDs = []\n",
    "    not_found = []\n",
    "    \n",
    "    \n",
    "    for artist in artist_list:\n",
    "        \n",
    "        url = 'https://api.songkick.com/api/3.0/search/artists.json?apikey=' + apikey +'&query=' +underscore_artist(artist)\n",
    "        response = requests.get(url)\n",
    "        results = response.json()\n",
    "        try:\n",
    "            songkick_id = results['resultsPage']['results']['artist'][0]['id']\n",
    "            IDs.append((str(songkick_id), str(artist)))\n",
    "        except:\n",
    "            not_found.append(artist)\n",
    "        \n",
    "        print(f'Found the artist {artist}, with Songkick ID: {songkick_id}')\n",
    "        \n",
    "    if len(not_found) > 0:\n",
    "        print(f'The following artist couldnt be found: {not_found}')\n",
    "        \n",
    "    return IDs\n",
    "    \n",
    "    "
   ]
  },
  {
   "cell_type": "code",
   "execution_count": 28,
   "metadata": {
    "ExecuteTime": {
     "end_time": "2020-02-22T11:13:24.476500Z",
     "start_time": "2020-02-22T11:13:24.108451Z"
    }
   },
   "outputs": [
    {
     "name": "stdout",
     "output_type": "stream",
     "text": [
      "Found the artist Pink Floyd, with Songkick ID: 400904\n"
     ]
    }
   ],
   "source": [
    "bands = songkick_artist_id(artist_list = 'Pink Floyd')"
   ]
  },
  {
   "cell_type": "markdown",
   "metadata": {},
   "source": [
    "We want to store the IDs and the Artist Name, because later on we found out that if an Artist plays in a Festival, this artist ID it's kinda randomized on the API"
   ]
  },
  {
   "cell_type": "markdown",
   "metadata": {},
   "source": [
    "### 2.2 Getting data from the API"
   ]
  },
  {
   "cell_type": "markdown",
   "metadata": {},
   "source": [
    "Now that we have the artist name and the artist id, we can now find some more data we're interested on.\n",
    "We want to find:\n",
    "    - The concert name\n",
    "    - The concert date\n",
    "    - The concert time\n",
    "    - The city where the concert was done\n",
    "    - The venue where the concert was done\n",
    "    - The coordinates of that venue\n",
    "    - If the artist was headlining the concert (billing)\n",
    "    "
   ]
  },
  {
   "cell_type": "markdown",
   "metadata": {},
   "source": [
    "https://www.songkick.com/developer/past-events-for-artist"
   ]
  },
  {
   "cell_type": "markdown",
   "metadata": {},
   "source": [
    "All the data we're looking for it's located on this API link, we'll have to explore the JSON object to find it out:"
   ]
  },
  {
   "cell_type": "markdown",
   "metadata": {},
   "source": [
    "`https://api.songkick.com/api/3.0/artists/{artist_id}/gigography.json?apikey={your_api_key}`"
   ]
  },
  {
   "cell_type": "markdown",
   "metadata": {},
   "source": [
    "Again, we'll use Pink Floyd and its ID for testing:"
   ]
  },
  {
   "cell_type": "code",
   "execution_count": 29,
   "metadata": {
    "ExecuteTime": {
     "end_time": "2020-02-22T11:13:24.746332Z",
     "start_time": "2020-02-22T11:13:24.478345Z"
    }
   },
   "outputs": [
    {
     "name": "stdout",
     "output_type": "stream",
     "text": [
      "Found the artist Pink Floyd, with Songkick ID: 400904\n"
     ]
    },
    {
     "data": {
      "text/plain": [
       "'400904'"
      ]
     },
     "execution_count": 29,
     "metadata": {},
     "output_type": "execute_result"
    }
   ],
   "source": [
    "pinkfloyd_id = songkick_artist_id(['Pink Floyd'])[0][0]\n",
    "pinkfloyd_id"
   ]
  },
  {
   "cell_type": "markdown",
   "metadata": {},
   "source": [
    "This would be the URL where the Pink Floyd data is stored:"
   ]
  },
  {
   "cell_type": "code",
   "execution_count": 30,
   "metadata": {
    "ExecuteTime": {
     "end_time": "2020-02-22T11:13:24.751568Z",
     "start_time": "2020-02-22T11:13:24.747982Z"
    }
   },
   "outputs": [
    {
     "data": {
      "text/plain": [
       "'https://api.songkick.com/api/3.0/artists/400904/gigography.json?apikey=PxrJ1AnxJlC6uT7i'"
      ]
     },
     "execution_count": 30,
     "metadata": {},
     "output_type": "execute_result"
    }
   ],
   "source": [
    "pinkfloyd_url = 'https://api.songkick.com/api/3.0/artists/'+pinkfloyd_id +'/gigography.json?apikey=' + apikey\n",
    "pinkfloyd_url"
   ]
  },
  {
   "cell_type": "markdown",
   "metadata": {},
   "source": [
    "Calling the API:"
   ]
  },
  {
   "cell_type": "code",
   "execution_count": 31,
   "metadata": {
    "ExecuteTime": {
     "end_time": "2020-02-22T11:13:25.058711Z",
     "start_time": "2020-02-22T11:13:24.753291Z"
    }
   },
   "outputs": [
    {
     "data": {
      "text/plain": [
       "<Response [200]>"
      ]
     },
     "execution_count": 31,
     "metadata": {},
     "output_type": "execute_result"
    }
   ],
   "source": [
    "response = requests.get(pinkfloyd_url)\n",
    "response"
   ]
  },
  {
   "cell_type": "markdown",
   "metadata": {},
   "source": [
    "Works!"
   ]
  },
  {
   "cell_type": "code",
   "execution_count": 32,
   "metadata": {
    "ExecuteTime": {
     "end_time": "2020-02-22T11:13:25.063913Z",
     "start_time": "2020-02-22T11:13:25.060491Z"
    }
   },
   "outputs": [],
   "source": [
    "result = response.json()"
   ]
  },
  {
   "cell_type": "markdown",
   "metadata": {},
   "source": [
    "### 2.2.1 Finding the concert name"
   ]
  },
  {
   "cell_type": "markdown",
   "metadata": {
    "ExecuteTime": {
     "end_time": "2020-02-20T02:36:26.906286Z",
     "start_time": "2020-02-20T02:36:26.902687Z"
    }
   },
   "source": [
    "In this phase, we're doing a bit of exploration. After finding the right information navegating through the `.keys()` dictionary method, since we're working with a `json` file"
   ]
  },
  {
   "cell_type": "code",
   "execution_count": 33,
   "metadata": {
    "ExecuteTime": {
     "end_time": "2020-02-22T11:13:25.070464Z",
     "start_time": "2020-02-22T11:13:25.065710Z"
    }
   },
   "outputs": [
    {
     "data": {
      "text/plain": [
       "'Pink Floyd at Homerton College (May 22, 1965)'"
      ]
     },
     "execution_count": 33,
     "metadata": {},
     "output_type": "execute_result"
    }
   ],
   "source": [
    "result['resultsPage']['results']['event'][0]['displayName']\n",
    "\n",
    "# Show name"
   ]
  },
  {
   "cell_type": "markdown",
   "metadata": {},
   "source": [
    "How many results are on the page?"
   ]
  },
  {
   "cell_type": "code",
   "execution_count": 34,
   "metadata": {
    "ExecuteTime": {
     "end_time": "2020-02-22T11:13:25.076114Z",
     "start_time": "2020-02-22T11:13:25.072303Z"
    }
   },
   "outputs": [
    {
     "data": {
      "text/plain": [
       "50"
      ]
     },
     "execution_count": 34,
     "metadata": {},
     "output_type": "execute_result"
    }
   ],
   "source": [
    "len(result['resultsPage']['results']['event'])\n",
    "\n",
    "# Results per page"
   ]
  },
  {
   "cell_type": "markdown",
   "metadata": {},
   "source": [
    "### 2.2.2 Finding the concert date"
   ]
  },
  {
   "cell_type": "code",
   "execution_count": 35,
   "metadata": {
    "ExecuteTime": {
     "end_time": "2020-02-22T11:13:25.081000Z",
     "start_time": "2020-02-22T11:13:25.077494Z"
    }
   },
   "outputs": [
    {
     "data": {
      "text/plain": [
       "'1965-05-22'"
      ]
     },
     "execution_count": 35,
     "metadata": {},
     "output_type": "execute_result"
    }
   ],
   "source": [
    "result['resultsPage']['results']['event'][0]['start']['date']\n",
    "\n",
    "# Show date"
   ]
  },
  {
   "cell_type": "markdown",
   "metadata": {},
   "source": [
    "### 2.2.3 Finding the concert time"
   ]
  },
  {
   "cell_type": "code",
   "execution_count": 36,
   "metadata": {
    "ExecuteTime": {
     "end_time": "2020-02-22T11:13:25.084796Z",
     "start_time": "2020-02-22T11:13:25.082371Z"
    }
   },
   "outputs": [],
   "source": [
    "result['resultsPage']['results']['event'][0]['start']['time'] \n",
    "\n",
    "# Show time\n",
    "# In this particular case we have no info, so the result is None."
   ]
  },
  {
   "cell_type": "markdown",
   "metadata": {},
   "source": [
    "### 2.2.4 Finding the city where the concert was done"
   ]
  },
  {
   "cell_type": "code",
   "execution_count": 37,
   "metadata": {
    "ExecuteTime": {
     "end_time": "2020-02-22T11:13:25.089777Z",
     "start_time": "2020-02-22T11:13:25.086122Z"
    }
   },
   "outputs": [
    {
     "data": {
      "text/plain": [
       "'Cambridge, UK'"
      ]
     },
     "execution_count": 37,
     "metadata": {},
     "output_type": "execute_result"
    }
   ],
   "source": [
    "result['resultsPage']['results']['event'][0]['location']['city']\n",
    "\n",
    "# Show city"
   ]
  },
  {
   "cell_type": "markdown",
   "metadata": {},
   "source": [
    "### 2.2.5 Finding the venue name where the concert was played\n",
    "\n"
   ]
  },
  {
   "cell_type": "code",
   "execution_count": 38,
   "metadata": {
    "ExecuteTime": {
     "end_time": "2020-02-22T11:13:25.094820Z",
     "start_time": "2020-02-22T11:13:25.091350Z"
    }
   },
   "outputs": [
    {
     "data": {
      "text/plain": [
       "'Homerton College'"
      ]
     },
     "execution_count": 38,
     "metadata": {},
     "output_type": "execute_result"
    }
   ],
   "source": [
    "result['resultsPage']['results']['event'][0]['venue']['displayName']\n",
    "\n",
    "# Venue name"
   ]
  },
  {
   "cell_type": "markdown",
   "metadata": {},
   "source": [
    "### 2.2.6 Finding the coordinates of that venue"
   ]
  },
  {
   "cell_type": "code",
   "execution_count": 39,
   "metadata": {
    "ExecuteTime": {
     "end_time": "2020-02-22T11:13:25.098665Z",
     "start_time": "2020-02-22T11:13:25.096221Z"
    }
   },
   "outputs": [],
   "source": [
    "result['resultsPage']['results']['event'][0]['venue']['lat'] # This particular show has no info"
   ]
  },
  {
   "cell_type": "code",
   "execution_count": 40,
   "metadata": {
    "ExecuteTime": {
     "end_time": "2020-02-22T11:13:25.102632Z",
     "start_time": "2020-02-22T11:13:25.100079Z"
    }
   },
   "outputs": [],
   "source": [
    "result['resultsPage']['results']['event'][0]['venue']['lng'] # This particular show has no info"
   ]
  },
  {
   "cell_type": "markdown",
   "metadata": {},
   "source": [
    "### 2.2.7 Finding out if the artist was headlining the concert ( billing )"
   ]
  },
  {
   "cell_type": "code",
   "execution_count": 41,
   "metadata": {
    "ExecuteTime": {
     "end_time": "2020-02-22T11:13:25.108700Z",
     "start_time": "2020-02-22T11:13:25.104285Z"
    }
   },
   "outputs": [
    {
     "data": {
      "text/plain": [
       "'headline'"
      ]
     },
     "execution_count": 41,
     "metadata": {},
     "output_type": "execute_result"
    }
   ],
   "source": [
    "result['resultsPage']['results']['event'][0]['performance'][0]['billing']\n",
    "\n",
    "# Was the artist the headliner of the show?"
   ]
  },
  {
   "cell_type": "markdown",
   "metadata": {},
   "source": [
    "### 2.2.8 Getting the artist's name\n",
    "We are doing this to directly assing the artist in a row for each lecture of the data"
   ]
  },
  {
   "cell_type": "code",
   "execution_count": 42,
   "metadata": {
    "ExecuteTime": {
     "end_time": "2020-02-22T11:13:25.114834Z",
     "start_time": "2020-02-22T11:13:25.110546Z"
    }
   },
   "outputs": [
    {
     "data": {
      "text/plain": [
       "'Pink Floyd'"
      ]
     },
     "execution_count": 42,
     "metadata": {},
     "output_type": "execute_result"
    }
   ],
   "source": [
    "result['resultsPage']['results']['event'][0]['performance'][0]['displayName']"
   ]
  },
  {
   "cell_type": "markdown",
   "metadata": {},
   "source": [
    "## 2.3 Defining a function for our data rows:\n",
    "Finding out that the pagination comes as an argument in the link= '&page=%s'. We have 50 entries per page"
   ]
  },
  {
   "cell_type": "code",
   "execution_count": 43,
   "metadata": {
    "ExecuteTime": {
     "end_time": "2020-02-22T11:13:25.119774Z",
     "start_time": "2020-02-22T11:13:25.116317Z"
    }
   },
   "outputs": [
    {
     "name": "stdout",
     "output_type": "stream",
     "text": [
      "The number of pages on each ID will be equal to its entries (1104), \n",
      "divided by the elements by page (50). \n",
      "For example, 1104/50=22.08 pages. \n",
      "Since the number of pages is not an integer, we'll round up this number to iter on the elements that are left. \n",
      "If the pages are 22.08, we'll iter over 23 pages\n"
     ]
    }
   ],
   "source": [
    "entries = result['resultsPage']['totalEntries']\n",
    "\n",
    "elm_per_page = result['resultsPage']['perPage']\n",
    "\n",
    "pages = entries / elm_per_page\n",
    "\n",
    "print(f\"The number of pages on each ID will be equal to its entries ({entries}), \\ndivided by the elements by page ({elm_per_page}). \\nFor example, {entries}/{elm_per_page}={pages} pages. \\nSince the number of pages is not an integer, we'll round up this number to iter on the elements that are left. \\nIf the pages are {pages}, we'll iter over {round(pages) + 1} pages\" )\n",
    "      \n",
    "      \n",
    "      "
   ]
  },
  {
   "cell_type": "markdown",
   "metadata": {},
   "source": [
    "Now, we're making a function to collect the data of each show for every artist id we pass on the list #artist_id"
   ]
  },
  {
   "cell_type": "code",
   "execution_count": 44,
   "metadata": {
    "ExecuteTime": {
     "end_time": "2020-02-22T11:13:25.132839Z",
     "start_time": "2020-02-22T11:13:25.121501Z"
    }
   },
   "outputs": [],
   "source": [
    "def collect_data(artist_id_list, apikey=apikey):  \n",
    "    '''\n",
    "    This function iterates over an artist id list to get the links on each artist.\n",
    "    Calculates in how many pages the data is stored, and iterates on all of them.\n",
    "    Then, for each page, requests the information to the API and fetchs all the data we need.\n",
    "    Stores this data as a list of lists object to ensure compatibility with Pandas Dataframes.\n",
    "    '''\n",
    "    \n",
    "    artist_data = []\n",
    "    \n",
    "    for artist in artist_id_list:\n",
    "        url = 'https://api.songkick.com/api/3.0/artists/'+str(artist[0]) +'/gigography.json?apikey=' + apikey\n",
    "        response = requests.get(url)\n",
    "        result = response.json()\n",
    "        \n",
    "        ## Iterating over different pages:\n",
    "        entries = result['resultsPage']['totalEntries'] \n",
    "        per_page = result['resultsPage']['perPage']\n",
    "        \n",
    "        pages_round= int(math.ceil(entries/per_page))\n",
    "        \n",
    "        print('\\n')\n",
    "        \n",
    "    \n",
    "        for z in range(pages_round):\n",
    "                \n",
    "                # Page 0 and Page 1 are equal, so we'll start from page 1\n",
    "                url = 'https://api.songkick.com/api/3.0/artists/'+str(artist[0]) +'/gigography.json?&page='+ str(z+1) +'&apikey=' + apikey\n",
    "                response = requests.get(url)\n",
    "                result = response.json()\n",
    "        \n",
    "    \n",
    "                for i in range(len(result['resultsPage']['results']['event'])):\n",
    "                        \n",
    "                    print(f'Fetching {artist[1]} data... entry nº {str(z*50+i+1)} of {entries}', end='\\r', flush=True)\n",
    "\n",
    "        \n",
    "                    band = artist[1]\n",
    "                    b_id = artist[0]\n",
    "                    bill = result['resultsPage']['results']['event'][i]['performance'][0]['billing']\n",
    "                    name = result['resultsPage']['results']['event'][i]['displayName']\n",
    "                    date = result['resultsPage']['results']['event'][i]['start']['date']\n",
    "                    time = result['resultsPage']['results']['event'][i]['start']['time']\n",
    "                    city = result['resultsPage']['results']['event'][i]['location']['city']\n",
    "                    venu = result['resultsPage']['results']['event'][i]['venue']['displayName']\n",
    "                    lat = result['resultsPage']['results']['event'][i]['venue']['lat'] \n",
    "                    lng = result['resultsPage']['results']['event'][i]['venue']['lng'] \n",
    "        \n",
    "                    artist_data.append([band, b_id, bill, name, date, time, city, venu, lat, lng])\n",
    "    \n",
    "    return artist_data\n"
   ]
  },
  {
   "cell_type": "code",
   "execution_count": 45,
   "metadata": {
    "ExecuteTime": {
     "end_time": "2020-02-22T11:13:32.515205Z",
     "start_time": "2020-02-22T11:13:25.134235Z"
    }
   },
   "outputs": [
    {
     "name": "stdout",
     "output_type": "stream",
     "text": [
      "\n",
      "\n",
      "Fetching Pink Floyd data... entry nº 1104 of 1104\r"
     ]
    }
   ],
   "source": [
    "data = collect_data(bands)"
   ]
  },
  {
   "cell_type": "markdown",
   "metadata": {},
   "source": [
    "## Bringing it all together"
   ]
  },
  {
   "cell_type": "markdown",
   "metadata": {
    "ExecuteTime": {
     "end_time": "2020-02-17T23:37:39.771130Z",
     "start_time": "2020-02-17T23:37:39.766883Z"
    }
   },
   "source": [
    "Our goal is to make a dataframe with the gathered data, to be able to study it.\n",
    "We'll define a function with the scripts we used through the process.\n",
    "This function is called get_shows_data():"
   ]
  },
  {
   "cell_type": "code",
   "execution_count": 46,
   "metadata": {
    "ExecuteTime": {
     "end_time": "2020-02-22T11:13:32.521057Z",
     "start_time": "2020-02-22T11:13:32.516949Z"
    }
   },
   "outputs": [],
   "source": [
    "def get_shows_data(n=10, genres='Rock', apikey=apikey, artists = None):\n",
    "    '''\n",
    "    This function returns an organized Dataframe which contains information about all the shows played\n",
    "    by that artist over its history. Contains the following variables:\n",
    "        n = type int: Tells the function hoy many artists to get info\n",
    "        \n",
    "        genre = type str or type list: Tells the function which genre (or genres) of music to scrape\n",
    "        \n",
    "        apikey = type str: (needed) your Songkick API key\n",
    "        \n",
    "        artist = type str or type lst: By default, set to None. This means that artist will be chosen\n",
    "                                       based on all-time popularity. If specified, tells what artist to scrape'''\n",
    "    \n",
    "    if artists == None:\n",
    "\n",
    "        artists = artist_scrape(n=n, genres=genres)\n",
    "    \n",
    "    \n",
    "    ids = songkick_artist_id(artists)\n",
    "    \n",
    "    data = collect_data(ids)\n",
    "    \n",
    "    print('\\n\\n-Done-')\n",
    "    \n",
    "    return data"
   ]
  },
  {
   "cell_type": "code",
   "execution_count": 47,
   "metadata": {
    "ExecuteTime": {
     "end_time": "2020-02-22T11:13:32.526488Z",
     "start_time": "2020-02-22T11:13:32.523030Z"
    }
   },
   "outputs": [
    {
     "name": "stdout",
     "output_type": "stream",
     "text": [
      " We have 1041 music styles to choose from!!\n"
     ]
    }
   ],
   "source": [
    "print(f' We have {len(genres_styles)} music styles to choose from!!')"
   ]
  },
  {
   "cell_type": "code",
   "execution_count": 48,
   "metadata": {
    "ExecuteTime": {
     "end_time": "2020-02-22T11:22:17.830283Z",
     "start_time": "2020-02-22T11:13:32.527953Z"
    }
   },
   "outputs": [
    {
     "name": "stdout",
     "output_type": "stream",
     "text": [
      "Found the artist Queen, with Songkick ID: 469904\n",
      "Found the artist Jethro Tull, with Songkick ID: 111953\n",
      "Found the artist Mike Oldfield, with Songkick ID: 486950\n",
      "Found the artist Genesis, with Songkick ID: 137873\n",
      "Found the artist Emerson, Lake & Palmer, with Songkick ID: 265092\n",
      "Found the artist Kansas, with Songkick ID: 336136\n",
      "Found the artist Styx, with Songkick ID: 540471\n",
      "Found the artist Uriah Heep, with Songkick ID: 14365\n",
      "Found the artist Traffic, with Songkick ID: 211165\n",
      "Found the artist Deep Purple, with Songkick ID: 99952\n",
      "Found the artist Wishbone Ash, with Songkick ID: 121758\n",
      "Found the artist Yes, with Songkick ID: 8373\n",
      "Found the artist Judas Priest, with Songkick ID: 313183\n",
      "Found the artist Manfred Mann's Earth Band, with Songkick ID: 109391\n",
      "Found the artist Procol Harum, with Songkick ID: 368829\n",
      "Found the artist Rush, with Songkick ID: 18841\n",
      "Found the artist Barclay James Harvest, with Songkick ID: 281471\n",
      "Found the artist The Moody Blues, with Songkick ID: 182796\n",
      "Found the artist Babe Ruth, with Songkick ID: 520817\n",
      "Found the artist Marillion, with Songkick ID: 243083\n",
      "Found the artist Birth Control, with Songkick ID: 175101\n",
      "Found the artist The Jimi Hendrix Experience, with Songkick ID: 432829\n",
      "Found the artist Premiata Forneria Marconi, with Songkick ID: 183376\n",
      "Found the artist Renaissance, with Songkick ID: 443410\n",
      "Found the artist Savoy Brown, with Songkick ID: 168421\n",
      "Found the artist Strawbs, with Songkick ID: 508441\n",
      "Found the artist Groundhogs, with Songkick ID: 157518\n",
      "Found the artist Gentle Giant, with Songkick ID: 277377\n",
      "Found the artist Family, with Songkick ID: 2476051\n",
      "Found the artist Pink Floyd, with Songkick ID: 400904\n",
      "Found the artist Golden Earring, with Songkick ID: 193473\n",
      "Found the artist PFM, with Songkick ID: 8948809\n",
      "Found the artist Various, with Songkick ID: 2978241\n",
      "Found the artist Frijid Pink, with Songkick ID: 35830\n",
      "Found the artist New Trolls, with Songkick ID: 392149\n",
      "Found the artist Curved Air, with Songkick ID: 47786\n",
      "Found the artist Barrabas, with Songkick ID: 5604098\n",
      "Found the artist Humble Pie, with Songkick ID: 391933\n",
      "Found the artist Argent, with Songkick ID: 286593\n",
      "Found the artist Trapeze, with Songkick ID: 221548\n",
      "Found the artist Mike Batt And Friends, with Songkick ID: 221548\n",
      "Found the artist Deep Purple, The London Symphony Orchestra, Paul Mann, with Songkick ID: 221548\n",
      "Found the artist Rare Bird, with Songkick ID: 222160\n",
      "Found the artist Journey, with Songkick ID: 129375\n",
      "Found the artist Ekseption, with Songkick ID: 350350\n",
      "Found the artist Jan Akkerman, with Songkick ID: 349738\n",
      "Found the artist CCS, with Songkick ID: 480258\n",
      "Found the artist King Crimson, with Songkick ID: 315745\n",
      "Found the artist Horslips, with Songkick ID: 372801\n",
      "Found the artist Titanic, with Songkick ID: 5131088\n",
      "Found the artist Lucifer's Friend, with Songkick ID: 271567\n",
      "Found the artist Electric Light Orchestra, with Songkick ID: 9330984\n",
      "Found the artist Lighthouse, with Songkick ID: 378765\n",
      "Found the artist Rough Diamond, with Songkick ID: 373647\n",
      "Found the artist The Soundtrack Of Our Lives, with Songkick ID: 293522\n",
      "Found the artist Crack The Sky, with Songkick ID: 2326801\n",
      "Found the artist Bloodrock, with Songkick ID: 98251\n",
      "Found the artist SBB, with Songkick ID: 312589\n",
      "Found the artist David Gilmour, with Songkick ID: 20890\n",
      "Found the artist Udo Lindenberg, with Songkick ID: 454398\n",
      "Found the artist Steve Morse, with Songkick ID: 142490\n",
      "Found the artist Le Orme, with Songkick ID: 309724\n",
      "Found the artist Steve Walsh, with Songkick ID: 28990\n",
      "Found the artist Trillion, with Songkick ID: 208734\n",
      "Found the artist Edgar Broughton Band, with Songkick ID: 288305\n",
      "Found the artist Phish, with Songkick ID: 46745\n",
      "Found the artist Focus, with Songkick ID: 59719\n",
      "Found the artist Acqua Fragile, with Songkick ID: 59719\n",
      "Found the artist Camel, with Songkick ID: 116727\n",
      "Found the artist Mick Abrahams, with Songkick ID: 498567\n",
      "Found the artist Justin Hayward, with Songkick ID: 225631\n",
      "Found the artist The Nice, with Songkick ID: 530402\n",
      "Found the artist Giles > Giles > Fripp, with Songkick ID: 530402\n",
      "Found the artist Ian Anderson, with Songkick ID: 55024\n",
      "Found the artist Rick Wakeman, with Songkick ID: 60438\n",
      "Found the artist Roy Harper, with Songkick ID: 300195\n",
      "Found the artist Year Of The Goat, with Songkick ID: 300195\n",
      "Found the artist Jimmy Page / Robert Plant, with Songkick ID: 4176706\n",
      "Found the artist Chilliwack, with Songkick ID: 353397\n",
      "Found the artist The Flower Kings, with Songkick ID: 84715\n",
      "Found the artist Pugh Rogefeldt, with Songkick ID: 236169\n",
      "Found the artist The Edgar Broughton Band, with Songkick ID: 236169\n",
      "Found the artist Locomotiv GT, with Songkick ID: 311741\n",
      "Found the artist Bijelo Dugme, with Songkick ID: 8927194\n",
      "Found the artist Alquin, with Songkick ID: 185823\n",
      "Found the artist C.C.S., with Songkick ID: 32776\n",
      "Found the artist Atomic Rooster, with Songkick ID: 133805\n",
      "Found the artist Svensk Rock Mot Apartheid, with Songkick ID: 133805\n",
      "Found the artist Saga, with Songkick ID: 1660006\n",
      "Found the artist Wild Turkey, with Songkick ID: 384562\n",
      "Found the artist Foxy Shazam, with Songkick ID: 411711\n",
      "Found the artist Joe Walsh, with Songkick ID: 264430\n",
      "Found the artist Pugh, with Songkick ID: 236169\n",
      "Found the artist Hardin/York, with Songkick ID: 353192\n",
      "Found the artist Capability Brown, with Songkick ID: 221795\n",
      "Found the artist Budka Suflera, with Songkick ID: 420056\n",
      "Found the artist Bigelf, with Songkick ID: 112423\n",
      "Found the artist Motvind, with Songkick ID: 3218581\n",
      "Found the artist Magnum, with Songkick ID: 247907\n",
      "Found the artist T. Rex, The Sweet, Suzi Quatro, Gary Glitter, with Songkick ID: 247907\n",
      "Found the artist The Move / Jethro Tull / Joe Cocker / Family, with Songkick ID: 247907\n",
      "Found the artist Bergendy, with Songkick ID: 247907\n",
      "Found the artist Home, with Songkick ID: 1392702\n",
      "Found the artist Stern-Combo Meißen, with Songkick ID: 8634124\n",
      "Found the artist Chango, with Songkick ID: 167563\n",
      "Found the artist Edda Művek, with Songkick ID: 167563\n",
      "Found the artist Nektar, with Songkick ID: 148217\n",
      "Found the artist להקת כוורת, with Songkick ID: 148217\n",
      "Found the artist Jack Bruce, with Songkick ID: 466161\n",
      "Found the artist Siena Root, with Songkick ID: 186933\n",
      "Found the artist Goodthunder, with Songkick ID: 186933\n",
      "Found the artist Fish, with Songkick ID: 361504\n",
      "Found the artist Devin Townsend Project, with Songkick ID: 2439171\n",
      "Found the artist Веселые Ребята, with Songkick ID: 2439171\n",
      "Found the artist Klaus Renft Combo, with Songkick ID: 393549\n",
      "Found the artist Ayers Rock, with Songkick ID: 8286538\n",
      "Found the artist Justin Hayward With Mike Batt & The London Philharmonic Orchestra, with Songkick ID: 8286538\n",
      "Found the artist Jenghiz Khan, with Songkick ID: 8286538\n",
      "Found the artist Greg Lake, with Songkick ID: 80742\n",
      "Found the artist Mörbyligan, with Songkick ID: 80742\n",
      "Found the artist Gary Wright, with Songkick ID: 307103\n",
      "Found the artist Yes, Friends And Relatives, with Songkick ID: 307103\n",
      "Found the artist Rita Lee & Tutti Frutti, with Songkick ID: 9030\n",
      "Found the artist Prudence, with Songkick ID: 233072\n",
      "Found the artist Steve Winwood, with Songkick ID: 79869\n",
      "Found the artist Dixie Dregs, with Songkick ID: 346472\n",
      "Found the artist Goblin, with Songkick ID: 99001\n",
      "Found the artist Jeronimo, with Songkick ID: 1863219\n",
      "Found the artist Kalevala, with Songkick ID: 226025\n",
      "Found the artist Jon Lord, with Songkick ID: 312461\n",
      "Found the artist Parrish & Gurvitz, with Songkick ID: 385899\n",
      "Found the artist Tehosekoitin, with Songkick ID: 234679\n",
      "Found the artist Gnags, with Songkick ID: 205639\n",
      "Found the artist Anthony Phillips, with Songkick ID: 9122374\n",
      "Found the artist Wallace Collection, with Songkick ID: 9122374\n",
      "Found the artist Byzantium, with Songkick ID: 237928\n",
      "Found the artist Gainsbourg, with Songkick ID: 548048\n",
      "Found the artist Aut'Chose, with Songkick ID: 8698553\n",
      "Found the artist Ray Owen's Moon, with Songkick ID: 8698553\n",
      "Found the artist Frumpy, with Songkick ID: 361416\n",
      "Found the artist Corbeau, with Songkick ID: 959674\n",
      "Found the artist Kirka, with Songkick ID: 959674\n",
      "Found the artist Gypsy (15), with Songkick ID: 959674\n",
      "Found the artist Porcupine Tree, with Songkick ID: 260805\n",
      "Found the artist The Zombies, with Songkick ID: 2512\n",
      "Found the artist Odyssey (22), with Songkick ID: 2512\n"
     ]
    },
    {
     "name": "stdout",
     "output_type": "stream",
     "text": [
      "Found the artist Jun Fukamachi, with Songkick ID: 2512\n",
      "Found the artist Eden Rose, with Songkick ID: 2512\n",
      "Found the artist Rupert Hine, with Songkick ID: 2512\n",
      "Found the artist Mick Pointer Band, with Songkick ID: 2601556\n",
      "Found the artist Frank Zappa, with Songkick ID: 191953\n",
      "Found the artist The Dingoes, with Songkick ID: 42151\n",
      "Found the artist Prinzip, with Songkick ID: 6551464\n",
      "Found the artist Cyril Havermans, with Songkick ID: 6551464\n",
      "Found the artist Corvina, with Songkick ID: 2361897\n",
      "Found the artist Iguana, with Songkick ID: 1329469\n",
      "Found the artist Glencoe, with Songkick ID: 2538961\n",
      "Found the artist Chris Spedding, with Songkick ID: 369923\n",
      "Found the artist Caravan, with Songkick ID: 504256\n",
      "Found the artist Captain Beyond, with Songkick ID: 307683\n",
      "Found the artist Serú Girán, with Songkick ID: 307683\n",
      "Found the artist Keith Emerson / Marc Bonilla / Terje Mikkelsen / The Keith Emerson Band / Münchner Rundfunkorchester, with Songkick ID: 307683\n",
      "Found the artist UFO, with Songkick ID: 2529421\n",
      "Found the artist Renaissance With The Royal Philharmonic Orchestra, with Songkick ID: 2529421\n",
      "Found the artist Yellow, with Songkick ID: 3735966\n",
      "Found the artist I Nomadi, with Songkick ID: 512093\n",
      "Found the artist להקת \"כוורת‏\"‏ = Poogy, with Songkick ID: 512093\n",
      "Found the artist Moirana, with Songkick ID: 2381587\n",
      "Found the artist Supertramp, with Songkick ID: 420142\n",
      "Found the artist Beggars Opera, with Songkick ID: 2501076\n",
      "Found the artist Gringo (22), with Songkick ID: 2501076\n",
      "Found the artist Domo, with Songkick ID: 4673938\n",
      "Found the artist Moe., with Songkick ID: 183105\n",
      "Found the artist Emerson Lake & Palmer, with Songkick ID: 265092\n",
      "Found the artist Francoeur, with Songkick ID: 9617184\n",
      "Found the artist The DeGarmo & Key Band, with Songkick ID: 9617184\n",
      "Found the artist Anderson Bruford Wakeman Howe, with Songkick ID: 324180\n",
      "Found the artist Joe Walsh, The James Gang, with Songkick ID: 324180\n",
      "Found the artist Jefferson Starship, with Songkick ID: 452107\n",
      "Found the artist Phil Manzanera, with Songkick ID: 277762\n",
      "Found the artist Three Seasons, with Songkick ID: 5181403\n",
      "Found the artist PFM + Pagani, with Songkick ID: 5181403\n",
      "Found the artist Roger Waters, with Songkick ID: 278888\n",
      "Found the artist Black Bonzo, with Songkick ID: 132660\n",
      "Found the artist John Wetton And Geoffrey Downes, with Songkick ID: 132660\n",
      "Found the artist Morse, Portnoy, George, with Songkick ID: 132660\n",
      "Found the artist John Wetton ♦ Geoffrey Downes, with Songkick ID: 132660\n",
      "Found the artist Fludd, with Songkick ID: 385674\n",
      "Found the artist The New Eyes, with Songkick ID: 343242\n",
      "Found the artist Experience, with Songkick ID: 340623\n",
      "Found the artist Spy (10), with Songkick ID: 340623\n",
      "Found the artist Barock Project, with Songkick ID: 8524833\n",
      "Found the artist Steve Howe, with Songkick ID: 172451\n",
      "Found the artist Shaman Elephant, with Songkick ID: 9868239\n",
      "Found the artist Borealis, with Songkick ID: 414038\n",
      "Found the artist Global Village Trucking Company, with Songkick ID: 7669679\n",
      "Found the artist Max Werner, with Songkick ID: 7669679\n",
      "Found the artist Day Of Phoenix, with Songkick ID: 196513\n",
      "Found the artist Bambibanda E Melodie, with Songkick ID: 196513\n",
      "Found the artist Chelsea Beige, with Songkick ID: 196513\n",
      "The following artist couldnt be found: ['Mike Batt And Friends', 'Deep Purple, The London Symphony Orchestra, Paul Mann', 'Acqua Fragile', 'Giles > Giles > Fripp', 'Year Of The Goat', 'The Edgar Broughton Band', 'Svensk Rock Mot Apartheid', 'T. Rex, The Sweet, Suzi Quatro, Gary Glitter', 'The Move / Jethro Tull / Joe Cocker / Family', 'Bergendy', 'Edda Művek', 'להקת כוורת', 'Goodthunder', 'Веселые Ребята', 'Justin Hayward With Mike Batt & The London Philharmonic Orchestra', 'Jenghiz Khan', 'Mörbyligan', 'Yes, Friends And Relatives', 'Wallace Collection', \"Ray Owen's Moon\", 'Kirka', 'Gypsy (15)', 'Odyssey (22)', 'Jun Fukamachi', 'Eden Rose', 'Rupert Hine', 'Cyril Havermans', 'Serú Girán', 'Keith Emerson / Marc Bonilla / Terje Mikkelsen / The Keith Emerson Band / Münchner Rundfunkorchester', 'Renaissance With The Royal Philharmonic Orchestra', 'להקת \"כוורת\\u200f\"\\u200f = Poogy', 'Gringo (22)', 'The DeGarmo & Key Band', 'Joe Walsh, The James Gang', 'PFM + Pagani', 'John Wetton And Geoffrey Downes', 'Morse, Portnoy, George', 'John Wetton ♦ Geoffrey Downes', 'Spy (10)', 'Max Werner', 'Bambibanda E Melodie', 'Chelsea Beige']\n",
      "\n",
      "\n",
      "Fetching Queen data... entry nº 940 of 940\n",
      "\n",
      "Fetching Jethro Tull data... entry nº 2613 of 2613\n",
      "\n",
      "Fetching Mike Oldfield data... entry nº 379 of 379\n",
      "\n",
      "Fetching Genesis data... entry nº 685 of 685\n",
      "\n",
      "Fetching Emerson, Lake & Palmer data... entry nº 656 of 656\n",
      "\n",
      "Fetching Kansas data... entry nº 2139 of 2139\n",
      "\n",
      "Fetching Styx data... entry nº 2170 of 2170\n",
      "\n",
      "Fetching Uriah Heep data... entry nº 2680 of 2680\n",
      "\n",
      "Fetching Traffic data... entry nº 83 of 83\n",
      "\n",
      "Fetching Deep Purple data... entry nº 2543 of 2543\n",
      "\n",
      "Fetching Wishbone Ash data... entry nº 1825 of 1825\n",
      "\n",
      "Fetching Yes data... entry nº 2700 of 2700\n",
      "\n",
      "Fetching Judas Priest data... entry nº 825 of 825\n",
      "\n",
      "Fetching Manfred Mann's Earth Band data... entry nº 1249 of 1249\n",
      "\n",
      "Fetching Procol Harum data... entry nº 525 of 525\n",
      "\n",
      "Fetching Rush data... entry nº 1737 of 1737\n",
      "\n",
      "Fetching Barclay James Harvest data... entry nº 295 of 295\n",
      "\n",
      "Fetching The Moody Blues data... entry nº 2533 of 2533\n",
      "\n",
      "Fetching Babe Ruth data... entry nº 73 of 73\n",
      "\n",
      "Fetching Marillion data... entry nº 1595 of 1595\n",
      "\n",
      "Fetching Birth Control data... entry nº 66 of 66\n",
      "\n",
      "Fetching The Jimi Hendrix Experience data... entry nº 158 of 158\n",
      "\n",
      "Fetching Premiata Forneria Marconi data... entry nº 45 of 45\n",
      "\n",
      "Fetching Renaissance data... entry nº 189 of 189\n",
      "\n",
      "Fetching Savoy Brown data... entry nº 329 of 329\n",
      "\n",
      "Fetching Strawbs data... entry nº 630 of 630\n",
      "\n",
      "Fetching Groundhogs data... entry nº 88 of 88\n",
      "\n",
      "Fetching Gentle Giant data... entry nº 51 of 51\n",
      "\n",
      "Fetching Family data... entry nº 122 of 122\n",
      "\n",
      "Fetching Pink Floyd data... entry nº 1104 of 1104\n",
      "\n",
      "Fetching Golden Earring data... entry nº 3137 of 3137\n",
      "\n",
      "Fetching PFM data... entry nº 95 of 95\n",
      "\n",
      "Fetching Various data... entry nº 109 of 109\n",
      "\n",
      "Fetching Frijid Pink data... entry nº 14 of 14\n",
      "\n",
      "Fetching New Trolls data... entry nº 4 of 4\n",
      "\n",
      "Fetching Curved Air data... entry nº 143 of 143\n",
      "\n",
      "Fetching Barrabas data... entry nº 2 of 2\n",
      "\n",
      "Fetching Humble Pie data... entry nº 407 of 407\n",
      "\n",
      "Fetching Argent data... entry nº 47 of 47\n",
      "\n",
      "Fetching Trapeze data... entry nº 151 of 151\n",
      "\n",
      "Fetching Rare Bird data... entry nº 56 of 56\n",
      "\n",
      "Fetching Journey data... entry nº 1366 of 1366\n",
      "\n",
      "Fetching Ekseption data... entry nº 2 of 2\n",
      "\n",
      "Fetching Jan Akkerman data... entry nº 187 of 187\n",
      "\n",
      "Fetching CCS data... entry nº 2 of 2\n",
      "\n",
      "Fetching King Crimson data... entry nº 610 of 610\n",
      "\n",
      "Fetching Horslips data... entry nº 136 of 136\n",
      "\n",
      "Fetching Titanic data... entry nº 10 of 10\n",
      "\n",
      "Fetching Lucifer's Friend data... entry nº 6 of 6\n",
      "\n",
      "Fetching Electric Light Orchestra data... entry nº 35 of 35\n",
      "\n",
      "Fetching Lighthouse data... entry nº 143 of 143\n",
      "\n",
      "Fetching Rough Diamond data... entry nº 12 of 12\n",
      "\n",
      "Fetching The Soundtrack Of Our Lives data... entry nº 266 of 266\n",
      "\n",
      "Fetching Crack The Sky data... entry nº 1 of 1\n",
      "\n",
      "Fetching Bloodrock data... entry nº 11 of 11\n",
      "\n",
      "Fetching SBB data... entry nº 30 of 30\n",
      "\n",
      "Fetching David Gilmour data... entry nº 131 of 131\n",
      "\n",
      "Fetching Udo Lindenberg data... entry nº 412 of 412\n",
      "\n",
      "Fetching Steve Morse data... entry nº 87 of 87\n",
      "\n",
      "Fetching Le Orme data... entry nº 22 of 22\n",
      "\n",
      "Fetching Steve Walsh data... entry nº 12 of 12\n",
      "\n",
      "Fetching Trillion data... entry nº 10 of 10\n",
      "\n",
      "Fetching Edgar Broughton Band data... entry nº 54 of 54\n",
      "\n",
      "Fetching Phish data... entry nº 1655 of 1655\n",
      "\n",
      "Fetching Focus data... entry nº 339 of 339\n",
      "\n",
      "Fetching Camel data... entry nº 603 of 603\n",
      "\n",
      "Fetching Mick Abrahams data... entry nº 6 of 6\n",
      "\n",
      "Fetching Justin Hayward data... entry nº 233 of 233\n",
      "\n",
      "Fetching The Nice data... entry nº 80 of 80\n",
      "\n",
      "Fetching Ian Anderson data... entry nº 499 of 499\n",
      "\n",
      "Fetching Rick Wakeman data... entry nº 583 of 583\n",
      "\n",
      "Fetching Roy Harper data... entry nº 100 of 100\n",
      "\n",
      "Fetching Jimmy Page / Robert Plant data... entry nº 10 of 10\n",
      "\n",
      "Fetching Chilliwack data... entry nº 127 of 127\n",
      "\n",
      "Fetching The Flower Kings data... entry nº 135 of 135\n",
      "\n",
      "Fetching Pugh Rogefeldt data... entry nº 45 of 45\n",
      "\n",
      "Fetching Locomotiv GT data... entry nº 4 of 4\n",
      "\n"
     ]
    },
    {
     "name": "stdout",
     "output_type": "stream",
     "text": [
      "Fetching Bijelo Dugme data... entry nº 11 of 11\n",
      "\n",
      "Fetching Alquin data... entry nº 10 of 10\n",
      "\n",
      "Fetching C.C.S. data... entry nº 280 of 280\n",
      "\n",
      "Fetching Atomic Rooster data... entry nº 39 of 39\n",
      "\n",
      "Fetching Saga data... entry nº 328 of 328\n",
      "\n",
      "Fetching Wild Turkey data... entry nº 23 of 23\n",
      "\n",
      "Fetching Foxy Shazam data... entry nº 521 of 521\n",
      "\n",
      "Fetching Joe Walsh data... entry nº 240 of 240\n",
      "\n",
      "Fetching Pugh data... entry nº 45 of 45\n",
      "\n",
      "Fetching Hardin/York data... entry nº 2 of 2\n",
      "\n",
      "Fetching Capability Brown data... entry nº 6 of 6\n",
      "\n",
      "Fetching Budka Suflera data... entry nº 25 of 25\n",
      "\n",
      "Fetching Bigelf data... entry nº 107 of 107\n",
      "\n",
      "Fetching Motvind data... entry nº 8 of 8\n",
      "\n",
      "Fetching Magnum data... entry nº 466 of 466\n",
      "\n",
      "Fetching Home data... entry nº 41 of 41\n",
      "\n",
      "Fetching Stern-Combo Meißen data... entry nº 16 of 16\n",
      "\n",
      "Fetching Chango data... entry nº 15 of 15\n",
      "\n",
      "Fetching Nektar data... entry nº 162 of 162\n",
      "\n",
      "Fetching Jack Bruce data... entry nº 1002 of 1002\n",
      "\n",
      "Fetching Siena Root data... entry nº 117 of 117\n",
      "\n",
      "Fetching Fish data... entry nº 558 of 558\n",
      "\n",
      "Fetching Devin Townsend Project data... entry nº 498 of 498\n",
      "\n",
      "Fetching Klaus Renft Combo data... entry nº 3 of 3\n",
      "\n",
      "Fetching Ayers Rock data... entry nº 2 of 2\n",
      "\n",
      "Fetching Greg Lake data... entry nº 79 of 79\n",
      "\n",
      "Fetching Gary Wright data... entry nº 157 of 157\n",
      "\n",
      "Fetching Rita Lee & Tutti Frutti data... entry nº 23 of 23\n",
      "\n",
      "Fetching Prudence data... entry nº 18 of 18\n",
      "\n",
      "Fetching Steve Winwood data... entry nº 488 of 488\n",
      "\n",
      "Fetching Dixie Dregs data... entry nº 46 of 46\n",
      "\n",
      "Fetching Goblin data... entry nº 141 of 141\n",
      "\n",
      "Fetching Jeronimo data... entry nº 4 of 4\n",
      "\n",
      "Fetching Kalevala data... entry nº 46 of 46\n",
      "\n",
      "Fetching Jon Lord data... entry nº 43 of 43\n",
      "\n",
      "Fetching Parrish & Gurvitz data... entry nº 29 of 29\n",
      "\n",
      "Fetching Tehosekoitin data... entry nº 1 of 1\n",
      "\n",
      "Fetching Gnags data... entry nº 28 of 28\n",
      "\n",
      "Fetching Anthony Phillips data... entry nº 9 of 9\n",
      "\n",
      "Fetching Byzantium data... entry nº 20 of 20\n",
      "\n",
      "Fetching Gainsbourg data... entry nº 137 of 137\n",
      "\n",
      "Fetching Aut'Chose data... entry nº 16 of 16\n",
      "\n",
      "Fetching Frumpy data... entry nº 1 of 1\n",
      "\n",
      "Fetching Corbeau data... entry nº 31 of 31\n",
      "\n",
      "Fetching Porcupine Tree data... entry nº 753 of 753\n",
      "\n",
      "Fetching The Zombies data... entry nº 596 of 596\n",
      "\n",
      "Fetching Mick Pointer Band data... entry nº 1 of 1\n",
      "\n",
      "Fetching Frank Zappa data... entry nº 1526 of 1526\n",
      "\n",
      "Fetching The Dingoes data... entry nº 8 of 8\n",
      "\n",
      "Fetching Prinzip data... entry nº 43 of 43\n",
      "\n",
      "Fetching Corvina data... entry nº 2 of 2\n",
      "\n",
      "Fetching Iguana data... entry nº 61 of 61\n",
      "\n",
      "Fetching Glencoe data... entry nº 9 of 9\n",
      "\n",
      "Fetching Chris Spedding data... entry nº 95 of 95\n",
      "\n",
      "Fetching Caravan data... entry nº 191 of 191\n",
      "\n",
      "Fetching Captain Beyond data... entry nº 27 of 27\n",
      "\n",
      "Fetching UFO data... entry nº 307 of 307\n",
      "\n",
      "Fetching Yellow data... entry nº 446 of 446\n",
      "\n",
      "Fetching I Nomadi data... entry nº 4 of 4\n",
      "\n",
      "Fetching Moirana data... entry nº 4 of 4\n",
      "\n",
      "Fetching Supertramp data... entry nº 172 of 172\n",
      "\n",
      "Fetching Beggars Opera data... entry nº 2 of 2\n",
      "\n",
      "Fetching Domo data... entry nº 56 of 56\n",
      "\n",
      "Fetching Moe. data... entry nº 2190 of 2190\n",
      "\n",
      "Fetching Emerson Lake & Palmer data... entry nº 656 of 656\n",
      "\n",
      "Fetching Francoeur data... entry nº 4 of 4\n",
      "\n",
      "Fetching Anderson Bruford Wakeman Howe data... entry nº 10 of 10\n",
      "\n",
      "Fetching Jefferson Starship data... entry nº 573 of 573\n",
      "\n",
      "Fetching Phil Manzanera data... entry nº 12 of 12\n",
      "\n",
      "Fetching Three Seasons data... entry nº 7 of 7\n",
      "\n",
      "Fetching Roger Waters data... entry nº 602 of 602\n",
      "\n",
      "Fetching Black Bonzo data... entry nº 9 of 9\n",
      "\n",
      "Fetching Fludd data... entry nº 2 of 2\n",
      "\n",
      "Fetching The New Eyes data... entry nº 1 of 1\n",
      "\n",
      "Fetching Experience data... entry nº 158 of 158\n",
      "\n",
      "Fetching Barock Project data... entry nº 8 of 8\n",
      "\n",
      "Fetching Steve Howe data... entry nº 32 of 32\n",
      "\n",
      "Fetching Shaman Elephant data... entry nº 1 of 1\n",
      "\n",
      "Fetching Borealis data... entry nº 48 of 48\n",
      "\n",
      "Fetching Global Village Trucking Company data... entry nº 1 of 1\n",
      "\n",
      "Fetching Day Of Phoenix data... entry nº 3 of 3\n",
      "\n",
      "-Done-\n"
     ]
    }
   ],
   "source": [
    "data = get_shows_data(n=200, genres=['classic rock', 'prog rock'])"
   ]
  },
  {
   "cell_type": "markdown",
   "metadata": {},
   "source": [
    "Ok, we have our data in a tidy way (as a list of lists for each show). Now, it's time to construct our DataFrame with this data:"
   ]
  },
  {
   "cell_type": "markdown",
   "metadata": {},
   "source": [
    "## 4. Building the DataFrame"
   ]
  },
  {
   "cell_type": "markdown",
   "metadata": {},
   "source": [
    "We stored our values in a convenient list of arrays for each show we collected. So, to construct it, we'll just have to call `pd.DataFrame` and introduce the list we created, along with the columns names:"
   ]
  },
  {
   "cell_type": "code",
   "execution_count": 49,
   "metadata": {
    "ExecuteTime": {
     "end_time": "2020-02-22T11:22:17.912477Z",
     "start_time": "2020-02-22T11:22:17.832076Z"
    }
   },
   "outputs": [],
   "source": [
    "df = pd.DataFrame(data)"
   ]
  },
  {
   "cell_type": "code",
   "execution_count": 50,
   "metadata": {
    "ExecuteTime": {
     "end_time": "2020-02-22T11:22:17.917537Z",
     "start_time": "2020-02-22T11:22:17.914106Z"
    }
   },
   "outputs": [
    {
     "data": {
      "text/plain": [
       "(57618, 10)"
      ]
     },
     "execution_count": 50,
     "metadata": {},
     "output_type": "execute_result"
    }
   ],
   "source": [
    "df.shape"
   ]
  },
  {
   "cell_type": "code",
   "execution_count": 51,
   "metadata": {
    "ExecuteTime": {
     "end_time": "2020-02-22T11:22:17.931845Z",
     "start_time": "2020-02-22T11:22:17.919044Z"
    }
   },
   "outputs": [
    {
     "data": {
      "text/html": [
       "<div>\n",
       "<style scoped>\n",
       "    .dataframe tbody tr th:only-of-type {\n",
       "        vertical-align: middle;\n",
       "    }\n",
       "\n",
       "    .dataframe tbody tr th {\n",
       "        vertical-align: top;\n",
       "    }\n",
       "\n",
       "    .dataframe thead th {\n",
       "        text-align: right;\n",
       "    }\n",
       "</style>\n",
       "<table border=\"1\" class=\"dataframe\">\n",
       "  <thead>\n",
       "    <tr style=\"text-align: right;\">\n",
       "      <th></th>\n",
       "      <th>0</th>\n",
       "      <th>1</th>\n",
       "      <th>2</th>\n",
       "      <th>3</th>\n",
       "      <th>4</th>\n",
       "      <th>5</th>\n",
       "      <th>6</th>\n",
       "      <th>7</th>\n",
       "      <th>8</th>\n",
       "      <th>9</th>\n",
       "    </tr>\n",
       "  </thead>\n",
       "  <tbody>\n",
       "    <tr>\n",
       "      <td>0</td>\n",
       "      <td>Queen</td>\n",
       "      <td>469904</td>\n",
       "      <td>headline</td>\n",
       "      <td>Queen at Truro City Hall (June 27, 1970)</td>\n",
       "      <td>1970-06-27</td>\n",
       "      <td>None</td>\n",
       "      <td>Truro, UK</td>\n",
       "      <td>Truro City Hall</td>\n",
       "      <td>NaN</td>\n",
       "      <td>NaN</td>\n",
       "    </tr>\n",
       "    <tr>\n",
       "      <td>1</td>\n",
       "      <td>Queen</td>\n",
       "      <td>469904</td>\n",
       "      <td>headline</td>\n",
       "      <td>Queen at Imperial College Union (July 18, 1970)</td>\n",
       "      <td>1970-07-18</td>\n",
       "      <td>None</td>\n",
       "      <td>London, UK</td>\n",
       "      <td>Imperial College Union</td>\n",
       "      <td>51.499939</td>\n",
       "      <td>-0.178061</td>\n",
       "    </tr>\n",
       "    <tr>\n",
       "      <td>2</td>\n",
       "      <td>Queen</td>\n",
       "      <td>469904</td>\n",
       "      <td>headline</td>\n",
       "      <td>Queen at PJ's Club (July 25, 1970)</td>\n",
       "      <td>1970-07-25</td>\n",
       "      <td>None</td>\n",
       "      <td>Truro, UK</td>\n",
       "      <td>PJ's Club</td>\n",
       "      <td>NaN</td>\n",
       "      <td>NaN</td>\n",
       "    </tr>\n",
       "    <tr>\n",
       "      <td>3</td>\n",
       "      <td>Queen</td>\n",
       "      <td>469904</td>\n",
       "      <td>headline</td>\n",
       "      <td>Queen at Imperial College Union (August 23, 1970)</td>\n",
       "      <td>1970-08-23</td>\n",
       "      <td>None</td>\n",
       "      <td>London, UK</td>\n",
       "      <td>Imperial College Union</td>\n",
       "      <td>51.499939</td>\n",
       "      <td>-0.178061</td>\n",
       "    </tr>\n",
       "    <tr>\n",
       "      <td>4</td>\n",
       "      <td>Queen</td>\n",
       "      <td>469904</td>\n",
       "      <td>headline</td>\n",
       "      <td>Queen at Swiss Cottage Private School (Septemb...</td>\n",
       "      <td>1970-09-04</td>\n",
       "      <td>None</td>\n",
       "      <td>London, UK</td>\n",
       "      <td>Swiss Cottage Private School</td>\n",
       "      <td>NaN</td>\n",
       "      <td>NaN</td>\n",
       "    </tr>\n",
       "  </tbody>\n",
       "</table>\n",
       "</div>"
      ],
      "text/plain": [
       "       0       1         2                                                  3  \\\n",
       "0  Queen  469904  headline           Queen at Truro City Hall (June 27, 1970)   \n",
       "1  Queen  469904  headline    Queen at Imperial College Union (July 18, 1970)   \n",
       "2  Queen  469904  headline                 Queen at PJ's Club (July 25, 1970)   \n",
       "3  Queen  469904  headline  Queen at Imperial College Union (August 23, 1970)   \n",
       "4  Queen  469904  headline  Queen at Swiss Cottage Private School (Septemb...   \n",
       "\n",
       "            4     5           6                             7          8  \\\n",
       "0  1970-06-27  None   Truro, UK               Truro City Hall        NaN   \n",
       "1  1970-07-18  None  London, UK        Imperial College Union  51.499939   \n",
       "2  1970-07-25  None   Truro, UK                     PJ's Club        NaN   \n",
       "3  1970-08-23  None  London, UK        Imperial College Union  51.499939   \n",
       "4  1970-09-04  None  London, UK  Swiss Cottage Private School        NaN   \n",
       "\n",
       "          9  \n",
       "0       NaN  \n",
       "1 -0.178061  \n",
       "2       NaN  \n",
       "3 -0.178061  \n",
       "4       NaN  "
      ]
     },
     "execution_count": 51,
     "metadata": {},
     "output_type": "execute_result"
    }
   ],
   "source": [
    "df.head()"
   ]
  },
  {
   "cell_type": "code",
   "execution_count": 52,
   "metadata": {
    "ExecuteTime": {
     "end_time": "2020-02-22T11:22:17.936362Z",
     "start_time": "2020-02-22T11:22:17.933518Z"
    }
   },
   "outputs": [],
   "source": [
    "df.columns = ['artist', 'artist_id', 'relevance', 'show_name', 'date', 'time', 'city', 'venue', 'lat', 'lng']"
   ]
  },
  {
   "cell_type": "code",
   "execution_count": 53,
   "metadata": {
    "ExecuteTime": {
     "end_time": "2020-02-22T11:22:17.949827Z",
     "start_time": "2020-02-22T11:22:17.937852Z"
    }
   },
   "outputs": [
    {
     "data": {
      "text/html": [
       "<div>\n",
       "<style scoped>\n",
       "    .dataframe tbody tr th:only-of-type {\n",
       "        vertical-align: middle;\n",
       "    }\n",
       "\n",
       "    .dataframe tbody tr th {\n",
       "        vertical-align: top;\n",
       "    }\n",
       "\n",
       "    .dataframe thead th {\n",
       "        text-align: right;\n",
       "    }\n",
       "</style>\n",
       "<table border=\"1\" class=\"dataframe\">\n",
       "  <thead>\n",
       "    <tr style=\"text-align: right;\">\n",
       "      <th></th>\n",
       "      <th>artist</th>\n",
       "      <th>artist_id</th>\n",
       "      <th>relevance</th>\n",
       "      <th>show_name</th>\n",
       "      <th>date</th>\n",
       "      <th>time</th>\n",
       "      <th>city</th>\n",
       "      <th>venue</th>\n",
       "      <th>lat</th>\n",
       "      <th>lng</th>\n",
       "    </tr>\n",
       "  </thead>\n",
       "  <tbody>\n",
       "    <tr>\n",
       "      <td>0</td>\n",
       "      <td>Queen</td>\n",
       "      <td>469904</td>\n",
       "      <td>headline</td>\n",
       "      <td>Queen at Truro City Hall (June 27, 1970)</td>\n",
       "      <td>1970-06-27</td>\n",
       "      <td>None</td>\n",
       "      <td>Truro, UK</td>\n",
       "      <td>Truro City Hall</td>\n",
       "      <td>NaN</td>\n",
       "      <td>NaN</td>\n",
       "    </tr>\n",
       "    <tr>\n",
       "      <td>1</td>\n",
       "      <td>Queen</td>\n",
       "      <td>469904</td>\n",
       "      <td>headline</td>\n",
       "      <td>Queen at Imperial College Union (July 18, 1970)</td>\n",
       "      <td>1970-07-18</td>\n",
       "      <td>None</td>\n",
       "      <td>London, UK</td>\n",
       "      <td>Imperial College Union</td>\n",
       "      <td>51.499939</td>\n",
       "      <td>-0.178061</td>\n",
       "    </tr>\n",
       "    <tr>\n",
       "      <td>2</td>\n",
       "      <td>Queen</td>\n",
       "      <td>469904</td>\n",
       "      <td>headline</td>\n",
       "      <td>Queen at PJ's Club (July 25, 1970)</td>\n",
       "      <td>1970-07-25</td>\n",
       "      <td>None</td>\n",
       "      <td>Truro, UK</td>\n",
       "      <td>PJ's Club</td>\n",
       "      <td>NaN</td>\n",
       "      <td>NaN</td>\n",
       "    </tr>\n",
       "    <tr>\n",
       "      <td>3</td>\n",
       "      <td>Queen</td>\n",
       "      <td>469904</td>\n",
       "      <td>headline</td>\n",
       "      <td>Queen at Imperial College Union (August 23, 1970)</td>\n",
       "      <td>1970-08-23</td>\n",
       "      <td>None</td>\n",
       "      <td>London, UK</td>\n",
       "      <td>Imperial College Union</td>\n",
       "      <td>51.499939</td>\n",
       "      <td>-0.178061</td>\n",
       "    </tr>\n",
       "    <tr>\n",
       "      <td>4</td>\n",
       "      <td>Queen</td>\n",
       "      <td>469904</td>\n",
       "      <td>headline</td>\n",
       "      <td>Queen at Swiss Cottage Private School (Septemb...</td>\n",
       "      <td>1970-09-04</td>\n",
       "      <td>None</td>\n",
       "      <td>London, UK</td>\n",
       "      <td>Swiss Cottage Private School</td>\n",
       "      <td>NaN</td>\n",
       "      <td>NaN</td>\n",
       "    </tr>\n",
       "  </tbody>\n",
       "</table>\n",
       "</div>"
      ],
      "text/plain": [
       "  artist artist_id relevance  \\\n",
       "0  Queen    469904  headline   \n",
       "1  Queen    469904  headline   \n",
       "2  Queen    469904  headline   \n",
       "3  Queen    469904  headline   \n",
       "4  Queen    469904  headline   \n",
       "\n",
       "                                           show_name        date  time  \\\n",
       "0           Queen at Truro City Hall (June 27, 1970)  1970-06-27  None   \n",
       "1    Queen at Imperial College Union (July 18, 1970)  1970-07-18  None   \n",
       "2                 Queen at PJ's Club (July 25, 1970)  1970-07-25  None   \n",
       "3  Queen at Imperial College Union (August 23, 1970)  1970-08-23  None   \n",
       "4  Queen at Swiss Cottage Private School (Septemb...  1970-09-04  None   \n",
       "\n",
       "         city                         venue        lat       lng  \n",
       "0   Truro, UK               Truro City Hall        NaN       NaN  \n",
       "1  London, UK        Imperial College Union  51.499939 -0.178061  \n",
       "2   Truro, UK                     PJ's Club        NaN       NaN  \n",
       "3  London, UK        Imperial College Union  51.499939 -0.178061  \n",
       "4  London, UK  Swiss Cottage Private School        NaN       NaN  "
      ]
     },
     "execution_count": 53,
     "metadata": {},
     "output_type": "execute_result"
    }
   ],
   "source": [
    "df.head()"
   ]
  },
  {
   "cell_type": "code",
   "execution_count": 54,
   "metadata": {
    "ExecuteTime": {
     "end_time": "2020-02-22T11:22:17.991027Z",
     "start_time": "2020-02-22T11:22:17.951199Z"
    }
   },
   "outputs": [
    {
     "name": "stdout",
     "output_type": "stream",
     "text": [
      "<class 'pandas.core.frame.DataFrame'>\n",
      "RangeIndex: 57618 entries, 0 to 57617\n",
      "Data columns (total 10 columns):\n",
      "artist       57618 non-null object\n",
      "artist_id    57618 non-null object\n",
      "relevance    57618 non-null object\n",
      "show_name    57618 non-null object\n",
      "date         57618 non-null object\n",
      "time         15475 non-null object\n",
      "city         57618 non-null object\n",
      "venue        57618 non-null object\n",
      "lat          46052 non-null float64\n",
      "lng          46052 non-null float64\n",
      "dtypes: float64(2), object(8)\n",
      "memory usage: 4.4+ MB\n"
     ]
    }
   ],
   "source": [
    "df.info()"
   ]
  },
  {
   "cell_type": "markdown",
   "metadata": {
    "ExecuteTime": {
     "end_time": "2020-02-20T03:30:55.813271Z",
     "start_time": "2020-02-20T03:30:55.809937Z"
    }
   },
   "source": [
    "Setting a datetime column:"
   ]
  },
  {
   "cell_type": "code",
   "execution_count": 55,
   "metadata": {
    "ExecuteTime": {
     "end_time": "2020-02-22T11:22:18.011000Z",
     "start_time": "2020-02-22T11:22:17.992770Z"
    }
   },
   "outputs": [],
   "source": [
    "df_time = df['date']\n",
    "\n",
    "df_time = pd.to_datetime(df_time, errors='coerce')"
   ]
  },
  {
   "cell_type": "markdown",
   "metadata": {
    "ExecuteTime": {
     "end_time": "2020-02-20T03:00:56.119170Z",
     "start_time": "2020-02-20T03:00:56.108212Z"
    }
   },
   "source": [
    "We'll use a function to know the percentage of NA values:"
   ]
  },
  {
   "cell_type": "code",
   "execution_count": 56,
   "metadata": {
    "ExecuteTime": {
     "end_time": "2020-02-22T11:22:18.016223Z",
     "start_time": "2020-02-22T11:22:18.012750Z"
    }
   },
   "outputs": [],
   "source": [
    "def df_total_na(df):\n",
    "    '''\n",
    "    Returns the percentage of total NULL values in the dataset\n",
    "    '''\n",
    "    total_obs = df.count().sum()\n",
    "    total_nas = df.isna().sum().sum()\n",
    "    nas_percentage = total_nas *100 / total_obs\n",
    "    \n",
    "    print(f'Our dataset has {round(nas_percentage, 2)}% missing values overall' )"
   ]
  },
  {
   "cell_type": "code",
   "execution_count": 57,
   "metadata": {
    "ExecuteTime": {
     "end_time": "2020-02-22T11:22:18.089562Z",
     "start_time": "2020-02-22T11:22:18.017812Z"
    }
   },
   "outputs": [
    {
     "name": "stdout",
     "output_type": "stream",
     "text": [
      "Our dataset has 12.78% missing values overall\n"
     ]
    }
   ],
   "source": [
    "df_total_na(df)"
   ]
  },
  {
   "cell_type": "markdown",
   "metadata": {},
   "source": [
    "Also checking what columns have more percentage of null values"
   ]
  },
  {
   "cell_type": "code",
   "execution_count": 58,
   "metadata": {
    "ExecuteTime": {
     "end_time": "2020-02-22T11:22:18.140367Z",
     "start_time": "2020-02-22T11:22:18.091132Z"
    }
   },
   "outputs": [
    {
     "name": "stdout",
     "output_type": "stream",
     "text": [
      "artist        0.00\n",
      "artist_id     0.00\n",
      "relevance     0.00\n",
      "show_name     0.00\n",
      "date          0.00\n",
      "time         73.14\n",
      "city          0.00\n",
      "venue         0.00\n",
      "lat          20.07\n",
      "lng          20.07\n",
      "dtype: float64\n"
     ]
    }
   ],
   "source": [
    "def column_nulls_percentage(df):\n",
    "    '''\n",
    "    Returns a series indicating percentage of NULLS per column\n",
    "    '''\n",
    "    # .mean() gets the NULL values and divides it by the total length of the column\n",
    "    \n",
    "    return df.isna().mean().round(4) * 100\n",
    "\n",
    "\n",
    "print(column_nulls_percentage(df))"
   ]
  },
  {
   "cell_type": "markdown",
   "metadata": {
    "ExecuteTime": {
     "end_time": "2020-02-20T03:00:42.221609Z",
     "start_time": "2020-02-20T03:00:42.218147Z"
    }
   },
   "source": [
    "We find out that `time` column has a considerable amount of `NAs` an is not useful for us. We'll arrange the dataframe and don't preserve it for now.\n",
    "`artist_id`, and `show_name` are also not useful for us for the moment."
   ]
  },
  {
   "cell_type": "code",
   "execution_count": 59,
   "metadata": {
    "ExecuteTime": {
     "end_time": "2020-02-22T11:22:18.151426Z",
     "start_time": "2020-02-22T11:22:18.142048Z"
    }
   },
   "outputs": [],
   "source": [
    "df_original = df\n",
    "\n",
    "df = df[['artist', 'date', 'time', 'venue', 'city', 'relevance', 'lat', 'lng']]"
   ]
  },
  {
   "cell_type": "code",
   "execution_count": 60,
   "metadata": {
    "ExecuteTime": {
     "end_time": "2020-02-22T11:22:18.162433Z",
     "start_time": "2020-02-22T11:22:18.152885Z"
    }
   },
   "outputs": [
    {
     "data": {
      "text/html": [
       "<div>\n",
       "<style scoped>\n",
       "    .dataframe tbody tr th:only-of-type {\n",
       "        vertical-align: middle;\n",
       "    }\n",
       "\n",
       "    .dataframe tbody tr th {\n",
       "        vertical-align: top;\n",
       "    }\n",
       "\n",
       "    .dataframe thead th {\n",
       "        text-align: right;\n",
       "    }\n",
       "</style>\n",
       "<table border=\"1\" class=\"dataframe\">\n",
       "  <thead>\n",
       "    <tr style=\"text-align: right;\">\n",
       "      <th></th>\n",
       "      <th>artist</th>\n",
       "      <th>date</th>\n",
       "      <th>time</th>\n",
       "      <th>venue</th>\n",
       "      <th>city</th>\n",
       "      <th>relevance</th>\n",
       "      <th>lat</th>\n",
       "      <th>lng</th>\n",
       "    </tr>\n",
       "  </thead>\n",
       "  <tbody>\n",
       "    <tr>\n",
       "      <td>0</td>\n",
       "      <td>Queen</td>\n",
       "      <td>1970-06-27</td>\n",
       "      <td>None</td>\n",
       "      <td>Truro City Hall</td>\n",
       "      <td>Truro, UK</td>\n",
       "      <td>headline</td>\n",
       "      <td>NaN</td>\n",
       "      <td>NaN</td>\n",
       "    </tr>\n",
       "    <tr>\n",
       "      <td>1</td>\n",
       "      <td>Queen</td>\n",
       "      <td>1970-07-18</td>\n",
       "      <td>None</td>\n",
       "      <td>Imperial College Union</td>\n",
       "      <td>London, UK</td>\n",
       "      <td>headline</td>\n",
       "      <td>51.499939</td>\n",
       "      <td>-0.178061</td>\n",
       "    </tr>\n",
       "    <tr>\n",
       "      <td>2</td>\n",
       "      <td>Queen</td>\n",
       "      <td>1970-07-25</td>\n",
       "      <td>None</td>\n",
       "      <td>PJ's Club</td>\n",
       "      <td>Truro, UK</td>\n",
       "      <td>headline</td>\n",
       "      <td>NaN</td>\n",
       "      <td>NaN</td>\n",
       "    </tr>\n",
       "    <tr>\n",
       "      <td>3</td>\n",
       "      <td>Queen</td>\n",
       "      <td>1970-08-23</td>\n",
       "      <td>None</td>\n",
       "      <td>Imperial College Union</td>\n",
       "      <td>London, UK</td>\n",
       "      <td>headline</td>\n",
       "      <td>51.499939</td>\n",
       "      <td>-0.178061</td>\n",
       "    </tr>\n",
       "    <tr>\n",
       "      <td>4</td>\n",
       "      <td>Queen</td>\n",
       "      <td>1970-09-04</td>\n",
       "      <td>None</td>\n",
       "      <td>Swiss Cottage Private School</td>\n",
       "      <td>London, UK</td>\n",
       "      <td>headline</td>\n",
       "      <td>NaN</td>\n",
       "      <td>NaN</td>\n",
       "    </tr>\n",
       "  </tbody>\n",
       "</table>\n",
       "</div>"
      ],
      "text/plain": [
       "  artist        date  time                         venue        city  \\\n",
       "0  Queen  1970-06-27  None               Truro City Hall   Truro, UK   \n",
       "1  Queen  1970-07-18  None        Imperial College Union  London, UK   \n",
       "2  Queen  1970-07-25  None                     PJ's Club   Truro, UK   \n",
       "3  Queen  1970-08-23  None        Imperial College Union  London, UK   \n",
       "4  Queen  1970-09-04  None  Swiss Cottage Private School  London, UK   \n",
       "\n",
       "  relevance        lat       lng  \n",
       "0  headline        NaN       NaN  \n",
       "1  headline  51.499939 -0.178061  \n",
       "2  headline        NaN       NaN  \n",
       "3  headline  51.499939 -0.178061  \n",
       "4  headline        NaN       NaN  "
      ]
     },
     "execution_count": 60,
     "metadata": {},
     "output_type": "execute_result"
    }
   ],
   "source": [
    "df.head()"
   ]
  },
  {
   "cell_type": "markdown",
   "metadata": {
    "ExecuteTime": {
     "end_time": "2020-02-20T02:53:34.986095Z",
     "start_time": "2020-02-20T02:53:34.982605Z"
    }
   },
   "source": [
    "## 5. Usage of the data"
   ]
  },
  {
   "cell_type": "markdown",
   "metadata": {},
   "source": [
    "This dataframe is very interesting to understand the music movement and artists. For example, how many concerts did Bob Dylan made as a headliner since he started music compared to other ones?"
   ]
  },
  {
   "cell_type": "code",
   "execution_count": 63,
   "metadata": {
    "ExecuteTime": {
     "end_time": "2020-02-22T11:27:47.728266Z",
     "start_time": "2020-02-22T11:27:47.717986Z"
    }
   },
   "outputs": [
    {
     "data": {
      "text/plain": [
       "headline    940\n",
       "Name: relevance, dtype: int64"
      ]
     },
     "execution_count": 63,
     "metadata": {},
     "output_type": "execute_result"
    }
   ],
   "source": [
    "df[df.artist == 'Queen'].relevance.value_counts()"
   ]
  },
  {
   "cell_type": "code",
   "execution_count": 64,
   "metadata": {
    "ExecuteTime": {
     "end_time": "2020-02-22T11:27:52.880333Z",
     "start_time": "2020-02-22T11:27:52.869697Z"
    }
   },
   "outputs": [
    {
     "data": {
      "text/plain": [
       "headline    1104\n",
       "Name: relevance, dtype: int64"
      ]
     },
     "execution_count": 64,
     "metadata": {},
     "output_type": "execute_result"
    }
   ],
   "source": [
    "df[df.artist == 'Pink Floyd'].relevance.value_counts()"
   ]
  },
  {
   "cell_type": "code",
   "execution_count": null,
   "metadata": {},
   "outputs": [],
   "source": []
  }
 ],
 "metadata": {
  "kernelspec": {
   "display_name": "Python 3",
   "language": "python",
   "name": "python3"
  },
  "language_info": {
   "codemirror_mode": {
    "name": "ipython",
    "version": 3
   },
   "file_extension": ".py",
   "mimetype": "text/x-python",
   "name": "python",
   "nbconvert_exporter": "python",
   "pygments_lexer": "ipython3",
   "version": "3.7.4"
  },
  "toc": {
   "base_numbering": 1,
   "nav_menu": {},
   "number_sections": true,
   "sideBar": true,
   "skip_h1_title": false,
   "title_cell": "Table of Contents",
   "title_sidebar": "Contents",
   "toc_cell": false,
   "toc_position": {},
   "toc_section_display": true,
   "toc_window_display": false
  },
  "varInspector": {
   "cols": {
    "lenName": 16,
    "lenType": 16,
    "lenVar": 40
   },
   "kernels_config": {
    "python": {
     "delete_cmd_postfix": "",
     "delete_cmd_prefix": "del ",
     "library": "var_list.py",
     "varRefreshCmd": "print(var_dic_list())"
    },
    "r": {
     "delete_cmd_postfix": ") ",
     "delete_cmd_prefix": "rm(",
     "library": "var_list.r",
     "varRefreshCmd": "cat(var_dic_list()) "
    }
   },
   "types_to_exclude": [
    "module",
    "function",
    "builtin_function_or_method",
    "instance",
    "_Feature"
   ],
   "window_display": false
  }
 },
 "nbformat": 4,
 "nbformat_minor": 2
}
