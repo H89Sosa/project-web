{
 "cells": [
  {
   "cell_type": "markdown",
   "metadata": {},
   "source": [
    "# 0. Setting up the environment"
   ]
  },
  {
   "cell_type": "code",
   "execution_count": 130,
   "metadata": {
    "ExecuteTime": {
     "end_time": "2020-02-20T19:35:57.589407Z",
     "start_time": "2020-02-20T19:35:57.028628Z"
    }
   },
   "outputs": [],
   "source": [
    "import requests\n",
    "import json\n",
    "from bs4 import BeautifulSoup\n",
    "import pandas as pd\n",
    "from pandas.io.json import json_normalize\n",
    "import re\n",
    "import math\n",
    "import numpy as np\n",
    "import matplotlib.pyplot as plt\n",
    "%matplotlib inline\n",
    "from pandas.plotting import register_matplotlib_converters\n",
    "\n",
    "import seaborn as sns\n"
   ]
  },
  {
   "cell_type": "markdown",
   "metadata": {},
   "source": [
    "# 1. Web scraping: Getting artists from Discogs.com"
   ]
  },
  {
   "cell_type": "markdown",
   "metadata": {},
   "source": [
    "We want to get a list with 'n' artists, searching by most popular albums by style in discogs.com. By changing the style in the link, we can apply the same job on other music styles.\n",
    "The style code in the link its noted as '&style_exact=Sample+Style'. By concatenating them, we can choose multiple styles."
   ]
  },
  {
   "cell_type": "code",
   "execution_count": 2,
   "metadata": {
    "ExecuteTime": {
     "end_time": "2020-02-20T03:09:14.604682Z",
     "start_time": "2020-02-20T03:09:14.602417Z"
    }
   },
   "outputs": [],
   "source": [
    "url = 'https://www.discogs.com/search/?sort=have%2Cdesc&ev=gs_mc&type=master&page=1'\n",
    "\n",
    "## Sample Rock URL ='https://www.discogs.com/search/?sort=have%2Cdesc&genre_exact=Rock&ev=gs_mc&type=master&page=1'"
   ]
  },
  {
   "cell_type": "markdown",
   "metadata": {},
   "source": [
    "Iterating over page 1 of the website"
   ]
  },
  {
   "cell_type": "code",
   "execution_count": 3,
   "metadata": {
    "ExecuteTime": {
     "end_time": "2020-02-20T03:09:17.135628Z",
     "start_time": "2020-02-20T03:09:14.606673Z"
    }
   },
   "outputs": [],
   "source": [
    "html = requests.get(url).content"
   ]
  },
  {
   "cell_type": "code",
   "execution_count": 4,
   "metadata": {
    "ExecuteTime": {
     "end_time": "2020-02-20T03:09:22.320310Z",
     "start_time": "2020-02-20T03:09:17.138215Z"
    }
   },
   "outputs": [],
   "source": [
    "html = requests.get(url).content\n",
    "soup = BeautifulSoup(html, 'lxml')"
   ]
  },
  {
   "cell_type": "markdown",
   "metadata": {},
   "source": [
    "\n",
    "We will extract the artist name for each record stored in the page. The tag for the artist is named 'h5'."
   ]
  },
  {
   "cell_type": "code",
   "execution_count": 5,
   "metadata": {
    "ExecuteTime": {
     "end_time": "2020-02-20T03:09:22.324702Z",
     "start_time": "2020-02-20T03:09:22.322238Z"
    }
   },
   "outputs": [],
   "source": [
    "tag = ['h5']"
   ]
  },
  {
   "cell_type": "code",
   "execution_count": 6,
   "metadata": {
    "ExecuteTime": {
     "end_time": "2020-02-20T03:09:22.386949Z",
     "start_time": "2020-02-20T03:09:22.326520Z"
    },
    "code_folding": []
   },
   "outputs": [
    {
     "data": {
      "text/plain": [
       "['\\n\\nPink Floyd',\n",
       " '\\n\\nThe Beatles',\n",
       " '\\n\\nThe Beatles',\n",
       " '\\n\\nPink Floyd',\n",
       " '\\n\\nMichael Jackson']"
      ]
     },
     "execution_count": 6,
     "metadata": {},
     "output_type": "execute_result"
    }
   ],
   "source": [
    "#\n",
    "artists = [element.text for element in soup.find_all(tag)]\n",
    "artists = artists[:-5]# last five elements of the list are not useful for us\n",
    "artists[:5]"
   ]
  },
  {
   "cell_type": "markdown",
   "metadata": {
    "ExecuteTime": {
     "end_time": "2020-02-17T18:44:30.164658Z",
     "start_time": "2020-02-17T18:44:30.159746Z"
    }
   },
   "source": [
    "We'll create a function to clean up the string. Luckily for us, these strings come pretty clean."
   ]
  },
  {
   "cell_type": "code",
   "execution_count": 7,
   "metadata": {
    "ExecuteTime": {
     "end_time": "2020-02-20T03:09:22.392677Z",
     "start_time": "2020-02-20T03:09:22.388730Z"
    },
    "code_folding": []
   },
   "outputs": [],
   "source": [
    "def clean_artist(string):\n",
    "    '''\n",
    "    This function takes a string and erases the skipline '\\n', parenthesis '()' and stars '*'\n",
    "    '''\n",
    "    \n",
    "    new_str = re.sub('\\s\\(\\d\\)', '', string).replace('\\n\\n', '').replace('*', '')\n",
    "    \n",
    "    \n",
    "    return new_str"
   ]
  },
  {
   "cell_type": "code",
   "execution_count": 8,
   "metadata": {
    "ExecuteTime": {
     "end_time": "2020-02-20T03:09:22.399912Z",
     "start_time": "2020-02-20T03:09:22.395524Z"
    }
   },
   "outputs": [
    {
     "data": {
      "text/plain": [
       "['Pink Floyd', 'The Beatles', 'The Beatles', 'Pink Floyd', 'Michael Jackson']"
      ]
     },
     "execution_count": 8,
     "metadata": {},
     "output_type": "execute_result"
    }
   ],
   "source": [
    "artist_clean = [clean_artist(elem) for elem in artists]\n",
    "artist_clean[:5]\n"
   ]
  },
  {
   "cell_type": "markdown",
   "metadata": {},
   "source": [
    "We will extract all the genres and styles:\n",
    "\n"
   ]
  },
  {
   "cell_type": "code",
   "execution_count": 9,
   "metadata": {
    "ExecuteTime": {
     "end_time": "2020-02-20T03:09:22.404447Z",
     "start_time": "2020-02-20T03:09:22.402072Z"
    }
   },
   "outputs": [],
   "source": [
    "tag = 'span'"
   ]
  },
  {
   "cell_type": "code",
   "execution_count": 10,
   "metadata": {
    "ExecuteTime": {
     "end_time": "2020-02-20T03:09:22.457661Z",
     "start_time": "2020-02-20T03:09:22.406140Z"
    }
   },
   "outputs": [
    {
     "data": {
      "text/plain": [
       "['Rock', 'Electronic', 'Pop', 'Folk, World, & Country', 'Jazz']"
      ]
     },
     "execution_count": 10,
     "metadata": {},
     "output_type": "execute_result"
    }
   ],
   "source": [
    "genres_styles = [element.text for element in soup.find_all(tag, class_=\"facet_name\")]\n",
    "\n",
    "genres_styles[:5]\n"
   ]
  },
  {
   "cell_type": "markdown",
   "metadata": {},
   "source": [
    "We'll store this list for later use."
   ]
  },
  {
   "cell_type": "markdown",
   "metadata": {},
   "source": [
    "Now we find a problem. The sited is mainly organized by GENRES or STYLES (sub-genres). In order to properly use one of them, we'll need to extract the page link instead of the genre/style name, because each type has its own path:"
   ]
  },
  {
   "cell_type": "code",
   "execution_count": 11,
   "metadata": {
    "ExecuteTime": {
     "end_time": "2020-02-20T03:09:22.461325Z",
     "start_time": "2020-02-20T03:09:22.459142Z"
    }
   },
   "outputs": [],
   "source": [
    "tag = 'a'"
   ]
  },
  {
   "cell_type": "code",
   "execution_count": 12,
   "metadata": {
    "ExecuteTime": {
     "end_time": "2020-02-20T03:09:22.505175Z",
     "start_time": "2020-02-20T03:09:22.462772Z"
    }
   },
   "outputs": [
    {
     "data": {
      "text/plain": [
       "['/search/?sort=have%2Cdesc&genre_exact=Rock&ev=gs_mc&type=master&page=1',\n",
       " '/search/?sort=have%2Cdesc&genre_exact=Electronic&ev=gs_mc&type=master&page=1',\n",
       " '/search/?sort=have%2Cdesc&genre_exact=Pop&ev=gs_mc&type=master&page=1',\n",
       " '/search/?sort=have%2Cdesc&genre_exact=Folk%2C+World%2C+%26+Country&ev=gs_mc&type=master&page=1',\n",
       " '/search/?sort=have%2Cdesc&genre_exact=Jazz&ev=gs_mc&type=master&page=1']"
      ]
     },
     "execution_count": 12,
     "metadata": {},
     "output_type": "execute_result"
    }
   ],
   "source": [
    "genres_link = [element.get('href') for element in soup.find_all(tag, attrs={'href': re.compile(\"genre_exact=\")})]\n",
    "\n",
    "genres_link[:5]"
   ]
  },
  {
   "cell_type": "markdown",
   "metadata": {
    "ExecuteTime": {
     "end_time": "2020-02-19T23:07:29.958550Z",
     "start_time": "2020-02-19T23:07:29.954924Z"
    }
   },
   "source": [
    "Given this strings, we can extract the exact **_'genre_exact=Sample+Genre'_** items:"
   ]
  },
  {
   "cell_type": "code",
   "execution_count": 13,
   "metadata": {
    "ExecuteTime": {
     "end_time": "2020-02-20T03:09:22.511069Z",
     "start_time": "2020-02-20T03:09:22.506802Z"
    }
   },
   "outputs": [
    {
     "data": {
      "text/plain": [
       "['&genre_exact=Blues',\n",
       " '&genre_exact=Folk',\n",
       " '&genre_exact=Latin',\n",
       " '&genre_exact=Jazz',\n",
       " '&genre_exact=Reggae']"
      ]
     },
     "execution_count": 13,
     "metadata": {},
     "output_type": "execute_result"
    }
   ],
   "source": [
    "genres_list = [str(re.findall('&genre_exact=\\w+\\+?\\-?\\w+', link))[2:-2] for link in genres_link ]\n",
    "\n",
    "genres = list(set(genres_list))\n",
    "\n",
    "genres[:5]"
   ]
  },
  {
   "cell_type": "markdown",
   "metadata": {},
   "source": [
    "Similarly, we can extract the **_'style_exact=Sample+Style'_** items:"
   ]
  },
  {
   "cell_type": "code",
   "execution_count": 14,
   "metadata": {
    "ExecuteTime": {
     "end_time": "2020-02-20T03:09:22.555919Z",
     "start_time": "2020-02-20T03:09:22.512489Z"
    }
   },
   "outputs": [
    {
     "data": {
      "text/plain": [
       "['/search/?sort=have%2Cdesc&style_exact=House&ev=gs_mc&type=master&page=1',\n",
       " '/search/?sort=have%2Cdesc&style_exact=Pop+Rock&ev=gs_mc&type=master&page=1',\n",
       " '/search/?sort=have%2Cdesc&style_exact=Punk&ev=gs_mc&type=master&page=1',\n",
       " '/search/?sort=have%2Cdesc&style_exact=Vocal&ev=gs_mc&type=master&page=1',\n",
       " '/search/?sort=have%2Cdesc&style_exact=Techno&ev=gs_mc&type=master&page=1']"
      ]
     },
     "execution_count": 14,
     "metadata": {},
     "output_type": "execute_result"
    }
   ],
   "source": [
    "styles_list = [element.get('href') for element in soup.find_all(tag, attrs={'href': re.compile(\"style_exact=\")})]\n",
    "\n",
    "styles_list[:5]"
   ]
  },
  {
   "cell_type": "code",
   "execution_count": 15,
   "metadata": {
    "ExecuteTime": {
     "end_time": "2020-02-20T03:09:22.562992Z",
     "start_time": "2020-02-20T03:09:22.557477Z"
    }
   },
   "outputs": [
    {
     "data": {
      "text/plain": [
       "['&style_exact=House',\n",
       " '&style_exact=Pop+Rock',\n",
       " '&style_exact=Punk',\n",
       " '&style_exact=Vocal',\n",
       " '&style_exact=Techno']"
      ]
     },
     "execution_count": 15,
     "metadata": {},
     "output_type": "execute_result"
    }
   ],
   "source": [
    "styles = [str(re.findall('&style_exact=\\w+\\+?\\w\\+?\\-?\\w+', link))[2:-2] for link in styles_list]\n",
    "\n",
    "styles[:5]\n"
   ]
  },
  {
   "cell_type": "markdown",
   "metadata": {},
   "source": [
    "We'll define a function that searches for a Genre or Style, and returns it's link piece, with the format ' &'GENRE/STYLE'_exact=ENTRY'\n",
    "For that matter, we'll filter if the keyword belongs to Genre or Style, then we'll apply the link piece format."
   ]
  },
  {
   "cell_type": "code",
   "execution_count": 16,
   "metadata": {
    "ExecuteTime": {
     "end_time": "2020-02-20T03:09:22.570167Z",
     "start_time": "2020-02-20T03:09:22.564374Z"
    }
   },
   "outputs": [
    {
     "data": {
      "text/plain": [
       "'&genre_exact=Rock'"
      ]
     },
     "execution_count": 16,
     "metadata": {},
     "output_type": "execute_result"
    }
   ],
   "source": [
    "def genre_link(string, genres=genres, styles=styles):\n",
    "    '''\n",
    "    This function takes as an input a genre or style name, and returns a piece of link depending on its category\n",
    "    ''' \n",
    "    \n",
    "    string = re.sub(' ', '+', string).title()\n",
    "    link_piece = ''\n",
    "    \n",
    "    if ('&genre_exact=' + string) in genres:\n",
    "        link_piece = ('&genre_exact=' + string)\n",
    "        \n",
    "    elif ('&style_exact=' + string) in styles:\n",
    "        link_piece = ('&style_exact=' + string)\n",
    "    else:\n",
    "        raise ValueError('The selected genre doesnt exist')\n",
    "    \n",
    "    return link_piece\n",
    "\n",
    "genre_link(string ='Rock')"
   ]
  },
  {
   "cell_type": "markdown",
   "metadata": {},
   "source": [
    "We can clearly see that there are some elements which are repeated, so to find 'n' artists we'll iterate over the webpage until our list meets the requirements."
   ]
  },
  {
   "cell_type": "code",
   "execution_count": 17,
   "metadata": {
    "ExecuteTime": {
     "end_time": "2020-02-20T03:09:22.578109Z",
     "start_time": "2020-02-20T03:09:22.571588Z"
    },
    "code_folding": []
   },
   "outputs": [],
   "source": [
    "def artist_scrape(genres='Rock', n=10):\n",
    "    '''\n",
    "    This function scrapes the Discogs.com webpage to get 'n' artist names, sorted by popularity and filtered by genre.\n",
    "    Returns a list with artist names.\n",
    "    \n",
    "    Takes 2 arguments:\n",
    "    \n",
    "        genre= type str or type list: Selects the genre(s) you're interested on.\n",
    "        \n",
    "        n= type int: Indicates the number of artist returned\n",
    "    \n",
    "    '''\n",
    "    \n",
    "    i = 0\n",
    "    \n",
    "    artists = []\n",
    "    \n",
    "    \n",
    "    \n",
    "    if type(genres) == list:\n",
    "        genre_link_list = [genre_link(genre) for genre in genres]\n",
    "        genres = ''.join(genre_link_list)\n",
    "    \n",
    "    else:\n",
    "        genres = genre_link(genres)    \n",
    "    \n",
    "    while len(artists) < n:\n",
    "                \n",
    "        i += 1\n",
    "        \n",
    "        url = 'https://www.discogs.com/search/?sort=have%2Cdesc' + genres + '&ev=gs_mc&type=master&page=' + str(i)\n",
    "        html = requests.get(url).content\n",
    "        soup = BeautifulSoup(html, 'lxml')\n",
    "        tag = 'h5'\n",
    "        \n",
    "        text = [element.text for element in soup.find_all(tag)]\n",
    "        clean_text = [clean_artist(elem) for elem in text[:-5]]\n",
    "        \n",
    "        for elem in clean_text:\n",
    "            if len(artists) < n:\n",
    "                if elem not in artists:\n",
    "                    artists.append(elem)\n",
    "                    \n",
    "    return artists"
   ]
  },
  {
   "cell_type": "code",
   "execution_count": 18,
   "metadata": {
    "ExecuteTime": {
     "end_time": "2020-02-20T03:09:25.407817Z",
     "start_time": "2020-02-20T03:09:22.579465Z"
    }
   },
   "outputs": [],
   "source": [
    "rock_bands = artist_scrape(genres=['rock'], n=10)"
   ]
  },
  {
   "cell_type": "code",
   "execution_count": 19,
   "metadata": {
    "ExecuteTime": {
     "end_time": "2020-02-20T03:09:25.413028Z",
     "start_time": "2020-02-20T03:09:25.409517Z"
    }
   },
   "outputs": [
    {
     "data": {
      "text/plain": [
       "['Pink Floyd',\n",
       " 'The Beatles',\n",
       " 'Led Zeppelin',\n",
       " 'Fleetwood Mac',\n",
       " 'Nirvana',\n",
       " 'Dire Straits',\n",
       " 'David Bowie',\n",
       " 'AC/DC',\n",
       " 'Black Sabbath',\n",
       " 'Eagles']"
      ]
     },
     "execution_count": 19,
     "metadata": {},
     "output_type": "execute_result"
    }
   ],
   "source": [
    "rock_bands"
   ]
  },
  {
   "cell_type": "markdown",
   "metadata": {},
   "source": [
    "# 2.  Songkick API Querying"
   ]
  },
  {
   "cell_type": "code",
   "execution_count": 20,
   "metadata": {
    "ExecuteTime": {
     "end_time": "2020-02-20T03:09:25.417209Z",
     "start_time": "2020-02-20T03:09:25.414946Z"
    }
   },
   "outputs": [],
   "source": [
    "apikey = '-'"
   ]
  },
  {
   "cell_type": "markdown",
   "metadata": {},
   "source": [
    "Now that we have the bands list, we want to find out how many concerts they made, when and where. Because of the structure of this API and the data we collected, we'll have to break this step in two parts:"
   ]
  },
  {
   "cell_type": "markdown",
   "metadata": {},
   "source": [
    "### 2.1 Artist ID gathering"
   ]
  },
  {
   "cell_type": "markdown",
   "metadata": {},
   "source": [
    "In order to locate an artist we're interested in, we'll have to find the unique ID of this artist on a separated part of the API of Songkick.\n",
    "https://www.songkick.com/developer/artist-search"
   ]
  },
  {
   "cell_type": "code",
   "execution_count": 21,
   "metadata": {
    "ExecuteTime": {
     "end_time": "2020-02-20T03:09:25.421152Z",
     "start_time": "2020-02-20T03:09:25.418855Z"
    }
   },
   "outputs": [],
   "source": [
    "id_url = 'https://api.songkick.com/api/3.0/search/artists.json?apikey={your_api_key}&query={artist_name}'"
   ]
  },
  {
   "cell_type": "markdown",
   "metadata": {},
   "source": [
    "We'll test our code with just one band: Pink Floyd"
   ]
  },
  {
   "cell_type": "markdown",
   "metadata": {},
   "source": [
    "First thing we find out is that in order to correctly acces the band name, we'll have to replace all whitespaces with '_' (underscores). So we're making a function for it:"
   ]
  },
  {
   "cell_type": "code",
   "execution_count": 22,
   "metadata": {
    "ExecuteTime": {
     "end_time": "2020-02-20T03:09:25.425432Z",
     "start_time": "2020-02-20T03:09:25.422815Z"
    }
   },
   "outputs": [],
   "source": [
    "def underscore_artist(artist):\n",
    "    '''\n",
    "    This function takes an artist name and transforms its string into \n",
    "    a 'Str_Str' format\n",
    "    '''\n",
    "    return artist.replace(' ', '_') \n"
   ]
  },
  {
   "cell_type": "code",
   "execution_count": 23,
   "metadata": {
    "ExecuteTime": {
     "end_time": "2020-02-20T03:09:25.435017Z",
     "start_time": "2020-02-20T03:09:25.430599Z"
    }
   },
   "outputs": [
    {
     "data": {
      "text/plain": [
       "'Pink_Floyd'"
      ]
     },
     "execution_count": 23,
     "metadata": {},
     "output_type": "execute_result"
    }
   ],
   "source": [
    "underscore_artist('Pink Floyd')"
   ]
  },
  {
   "cell_type": "code",
   "execution_count": 24,
   "metadata": {
    "ExecuteTime": {
     "end_time": "2020-02-20T03:09:25.442326Z",
     "start_time": "2020-02-20T03:09:25.439515Z"
    }
   },
   "outputs": [],
   "source": [
    "# FIND ARTIST ID:\n",
    "\n",
    "band_name = 'Pink_Floyd'\n",
    "\n",
    "pinkfloyd_url = 'https://api.songkick.com/api/3.0/search/artists.json?apikey=' + apikey + '&query=Pink_Floyd'"
   ]
  },
  {
   "cell_type": "code",
   "execution_count": 25,
   "metadata": {
    "ExecuteTime": {
     "end_time": "2020-02-20T03:09:25.669767Z",
     "start_time": "2020-02-20T03:09:25.444085Z"
    }
   },
   "outputs": [],
   "source": [
    "# Doing the request to the api\n",
    "response = requests.get(pinkfloyd_url)\n",
    "results = response.json()"
   ]
  },
  {
   "cell_type": "markdown",
   "metadata": {},
   "source": [
    "After examining the JSON Dictionary, we find out that the ID Key it's stored in the following path:"
   ]
  },
  {
   "cell_type": "code",
   "execution_count": 26,
   "metadata": {
    "ExecuteTime": {
     "end_time": "2020-02-20T03:09:25.675210Z",
     "start_time": "2020-02-20T03:09:25.671380Z"
    }
   },
   "outputs": [
    {
     "data": {
      "text/plain": [
       "400904"
      ]
     },
     "execution_count": 26,
     "metadata": {},
     "output_type": "execute_result"
    }
   ],
   "source": [
    "# Display the naked json\n",
    "artist_id = results['resultsPage']['results']['artist'][0]['id']\n",
    "\n",
    "artist_id"
   ]
  },
  {
   "cell_type": "markdown",
   "metadata": {},
   "source": [
    "Similarly to the Discogs.com process, we'll make a function that returns all the Artists IDs (in the same order)"
   ]
  },
  {
   "cell_type": "code",
   "execution_count": 27,
   "metadata": {
    "ExecuteTime": {
     "end_time": "2020-02-20T03:09:25.682272Z",
     "start_time": "2020-02-20T03:09:25.676818Z"
    }
   },
   "outputs": [],
   "source": [
    "def songkick_artist_id(artist_list, apikey = apikey):\n",
    "    '''\n",
    "    This function locates an Songkick ID number for a given list of artists. Then, it creates a tuple\n",
    "    with the band ID and the band name\n",
    "    \n",
    "    Takes two arguments:\n",
    "        \n",
    "        artist_list = type lst: List of artist names to be found. If an input it's a string, transform it\n",
    "                                into a list for a correct processing.\n",
    "                                \n",
    "        api_key = type str: Your Songkick API key\n",
    "    \n",
    "    The output is a tuple composed of two parts:\n",
    "    \n",
    "        output[0]= type int: List of Songkick IDs\n",
    "        output[1]= type str: Artist names\n",
    "        \n",
    "    '''\n",
    "    \n",
    "    \n",
    "    if type(artist_list) == str:\n",
    "        artist_list = [artist_list]\n",
    "    \n",
    "    IDs = []\n",
    "    not_found = []\n",
    "    \n",
    "    \n",
    "    for artist in artist_list:\n",
    "        \n",
    "        url = 'https://api.songkick.com/api/3.0/search/artists.json?apikey=' + apikey +'&query=' +underscore_artist(artist)\n",
    "        response = requests.get(url)\n",
    "        results = response.json()\n",
    "        try:\n",
    "            songkick_id = results['resultsPage']['results']['artist'][0]['id']\n",
    "            IDs.append((str(songkick_id), str(artist)))\n",
    "        except:\n",
    "            not_found.append(artist)\n",
    "        \n",
    "        print(f'Found the artist {artist}, with Songkick ID: {songkick_id}')\n",
    "        \n",
    "    if len(not_found) > 0:\n",
    "        print(f'The following artist couldnt be found: {not_found}')\n",
    "        \n",
    "    return IDs\n",
    "    \n",
    "    "
   ]
  },
  {
   "cell_type": "code",
   "execution_count": 28,
   "metadata": {
    "ExecuteTime": {
     "end_time": "2020-02-20T03:09:25.918147Z",
     "start_time": "2020-02-20T03:09:25.683732Z"
    }
   },
   "outputs": [
    {
     "name": "stdout",
     "output_type": "stream",
     "text": [
      "Found the artist Pink Floyd, with Songkick ID: 400904\n"
     ]
    }
   ],
   "source": [
    "bands = songkick_artist_id(artist_list = 'Pink Floyd')"
   ]
  },
  {
   "cell_type": "markdown",
   "metadata": {},
   "source": [
    "We want to store the IDs and the Artist Name, because later on we found out that if an Artist plays in a Festival, this artist ID it's kinda randomized on the API"
   ]
  },
  {
   "cell_type": "markdown",
   "metadata": {},
   "source": [
    "### 2.2 Getting data from the API"
   ]
  },
  {
   "cell_type": "markdown",
   "metadata": {},
   "source": [
    "Now that we have the artist name and the artist id, we can now find some more data we're interested on.\n",
    "We want to find:\n",
    "    - The concert name\n",
    "    - The concert date\n",
    "    - The concert time\n",
    "    - The city where the concert was done\n",
    "    - The venue where the concert was done\n",
    "    - The coordinates of that venue\n",
    "    - If the artist was headlining the concert (billing)\n",
    "    "
   ]
  },
  {
   "cell_type": "markdown",
   "metadata": {},
   "source": [
    "https://www.songkick.com/developer/past-events-for-artist"
   ]
  },
  {
   "cell_type": "markdown",
   "metadata": {},
   "source": [
    "All the data we're looking for it's located on this API link, we'll have to explore the JSON object to find it out:"
   ]
  },
  {
   "cell_type": "markdown",
   "metadata": {},
   "source": [
    "`https://api.songkick.com/api/3.0/artists/{artist_id}/gigography.json?apikey={your_api_key}`"
   ]
  },
  {
   "cell_type": "markdown",
   "metadata": {},
   "source": [
    "Again, we'll use Pink Floyd and its ID for testing:"
   ]
  },
  {
   "cell_type": "code",
   "execution_count": 29,
   "metadata": {
    "ExecuteTime": {
     "end_time": "2020-02-20T03:09:26.644497Z",
     "start_time": "2020-02-20T03:09:25.919486Z"
    }
   },
   "outputs": [
    {
     "name": "stdout",
     "output_type": "stream",
     "text": [
      "Found the artist Pink Floyd, with Songkick ID: 400904\n"
     ]
    },
    {
     "data": {
      "text/plain": [
       "'400904'"
      ]
     },
     "execution_count": 29,
     "metadata": {},
     "output_type": "execute_result"
    }
   ],
   "source": [
    "pinkfloyd_id = songkick_artist_id(['Pink Floyd'])[0][0]\n",
    "pinkfloyd_id"
   ]
  },
  {
   "cell_type": "markdown",
   "metadata": {},
   "source": [
    "This would be the URL where the Pink Floyd data is stored:"
   ]
  },
  {
   "cell_type": "code",
   "execution_count": 136,
   "metadata": {
    "ExecuteTime": {
     "end_time": "2020-02-20T20:31:09.922075Z",
     "start_time": "2020-02-20T20:31:09.912407Z"
    }
   },
   "outputs": [
    {
     "ename": "NameError",
     "evalue": "name 'api_key' is not defined",
     "output_type": "error",
     "traceback": [
      "\u001b[0;31m---------------------------------------------------------------------------\u001b[0m",
      "\u001b[0;31mNameError\u001b[0m                                 Traceback (most recent call last)",
      "\u001b[0;32m<ipython-input-136-fe05da2c5bf4>\u001b[0m in \u001b[0;36m<module>\u001b[0;34m\u001b[0m\n\u001b[0;32m----> 1\u001b[0;31m \u001b[0mpinkfloyd_url\u001b[0m \u001b[0;34m=\u001b[0m \u001b[0;34m'https://api.songkick.com/api/3.0/artists/'\u001b[0m\u001b[0;34m+\u001b[0m\u001b[0mpinkfloyd_id\u001b[0m \u001b[0;34m+\u001b[0m\u001b[0;34m'/gigography.json?apikey='\u001b[0m \u001b[0;34m+\u001b[0m \u001b[0mapi_key\u001b[0m\u001b[0;34m\u001b[0m\u001b[0;34m\u001b[0m\u001b[0m\n\u001b[0m\u001b[1;32m      2\u001b[0m \u001b[0mpinkfloyd_url\u001b[0m\u001b[0;34m\u001b[0m\u001b[0;34m\u001b[0m\u001b[0m\n",
      "\u001b[0;31mNameError\u001b[0m: name 'api_key' is not defined"
     ]
    }
   ],
   "source": [
    "pinkfloyd_url = 'https://api.songkick.com/api/3.0/artists/'+pinkfloyd_id +'/gigography.json?apikey=' + api_key\n",
    "pinkfloyd_url"
   ]
  },
  {
   "cell_type": "markdown",
   "metadata": {},
   "source": [
    "Calling the API:"
   ]
  },
  {
   "cell_type": "code",
   "execution_count": 31,
   "metadata": {
    "ExecuteTime": {
     "end_time": "2020-02-20T03:09:26.881989Z",
     "start_time": "2020-02-20T03:09:26.651958Z"
    }
   },
   "outputs": [
    {
     "data": {
      "text/plain": [
       "<Response [200]>"
      ]
     },
     "execution_count": 31,
     "metadata": {},
     "output_type": "execute_result"
    }
   ],
   "source": [
    "response = requests.get(pinkfloyd_url)\n",
    "response"
   ]
  },
  {
   "cell_type": "markdown",
   "metadata": {},
   "source": [
    "Works!"
   ]
  },
  {
   "cell_type": "code",
   "execution_count": 32,
   "metadata": {
    "ExecuteTime": {
     "end_time": "2020-02-20T03:09:26.886944Z",
     "start_time": "2020-02-20T03:09:26.883610Z"
    }
   },
   "outputs": [],
   "source": [
    "result = response.json()"
   ]
  },
  {
   "cell_type": "markdown",
   "metadata": {},
   "source": [
    "### 2.2.1 Finding the concert name"
   ]
  },
  {
   "cell_type": "markdown",
   "metadata": {
    "ExecuteTime": {
     "end_time": "2020-02-20T02:36:26.906286Z",
     "start_time": "2020-02-20T02:36:26.902687Z"
    }
   },
   "source": [
    "In this phase, we're doing a bit of exploration. After finding the right information navegating through the `.keys()` dictionary method, since we're working with a `json` file"
   ]
  },
  {
   "cell_type": "code",
   "execution_count": 33,
   "metadata": {
    "ExecuteTime": {
     "end_time": "2020-02-20T03:09:26.892483Z",
     "start_time": "2020-02-20T03:09:26.888695Z"
    }
   },
   "outputs": [
    {
     "data": {
      "text/plain": [
       "'Pink Floyd at Homerton College (May 22, 1965)'"
      ]
     },
     "execution_count": 33,
     "metadata": {},
     "output_type": "execute_result"
    }
   ],
   "source": [
    "result['resultsPage']['results']['event'][0]['displayName']\n",
    "\n",
    "# Show name"
   ]
  },
  {
   "cell_type": "markdown",
   "metadata": {},
   "source": [
    "How many results are on the page?"
   ]
  },
  {
   "cell_type": "code",
   "execution_count": 34,
   "metadata": {
    "ExecuteTime": {
     "end_time": "2020-02-20T03:09:26.897226Z",
     "start_time": "2020-02-20T03:09:26.893921Z"
    }
   },
   "outputs": [
    {
     "data": {
      "text/plain": [
       "50"
      ]
     },
     "execution_count": 34,
     "metadata": {},
     "output_type": "execute_result"
    }
   ],
   "source": [
    "len(result['resultsPage']['results']['event'])\n",
    "\n",
    "# Results per page"
   ]
  },
  {
   "cell_type": "markdown",
   "metadata": {},
   "source": [
    "### 2.2.2 Finding the concert date"
   ]
  },
  {
   "cell_type": "code",
   "execution_count": 35,
   "metadata": {
    "ExecuteTime": {
     "end_time": "2020-02-20T03:09:26.902143Z",
     "start_time": "2020-02-20T03:09:26.898582Z"
    }
   },
   "outputs": [
    {
     "data": {
      "text/plain": [
       "'1965-05-22'"
      ]
     },
     "execution_count": 35,
     "metadata": {},
     "output_type": "execute_result"
    }
   ],
   "source": [
    "result['resultsPage']['results']['event'][0]['start']['date']\n",
    "\n",
    "# Show date"
   ]
  },
  {
   "cell_type": "markdown",
   "metadata": {},
   "source": [
    "### 2.2.3 Finding the concert time"
   ]
  },
  {
   "cell_type": "code",
   "execution_count": 36,
   "metadata": {
    "ExecuteTime": {
     "end_time": "2020-02-20T03:09:26.906242Z",
     "start_time": "2020-02-20T03:09:26.903674Z"
    }
   },
   "outputs": [],
   "source": [
    "result['resultsPage']['results']['event'][0]['start']['time'] \n",
    "\n",
    "# Show time\n",
    "# In this particular case we have no info, so the result is None."
   ]
  },
  {
   "cell_type": "markdown",
   "metadata": {},
   "source": [
    "### 2.2.4 Finding the city where the concert was done"
   ]
  },
  {
   "cell_type": "code",
   "execution_count": 37,
   "metadata": {
    "ExecuteTime": {
     "end_time": "2020-02-20T03:09:26.911396Z",
     "start_time": "2020-02-20T03:09:26.907638Z"
    }
   },
   "outputs": [
    {
     "data": {
      "text/plain": [
       "'Cambridge, UK'"
      ]
     },
     "execution_count": 37,
     "metadata": {},
     "output_type": "execute_result"
    }
   ],
   "source": [
    "result['resultsPage']['results']['event'][0]['location']['city']\n",
    "\n",
    "# Show city"
   ]
  },
  {
   "cell_type": "markdown",
   "metadata": {},
   "source": [
    "### 2.2.5 Finding the venue name where the concert was played\n",
    "\n"
   ]
  },
  {
   "cell_type": "code",
   "execution_count": 38,
   "metadata": {
    "ExecuteTime": {
     "end_time": "2020-02-20T03:09:26.916839Z",
     "start_time": "2020-02-20T03:09:26.912972Z"
    }
   },
   "outputs": [
    {
     "data": {
      "text/plain": [
       "'Homerton College'"
      ]
     },
     "execution_count": 38,
     "metadata": {},
     "output_type": "execute_result"
    }
   ],
   "source": [
    "result['resultsPage']['results']['event'][0]['venue']['displayName']\n",
    "\n",
    "# Venue name"
   ]
  },
  {
   "cell_type": "markdown",
   "metadata": {},
   "source": [
    "### 2.2.6 Finding the coordinates of that venue"
   ]
  },
  {
   "cell_type": "code",
   "execution_count": 39,
   "metadata": {
    "ExecuteTime": {
     "end_time": "2020-02-20T03:09:26.921352Z",
     "start_time": "2020-02-20T03:09:26.918421Z"
    }
   },
   "outputs": [],
   "source": [
    "result['resultsPage']['results']['event'][0]['venue']['lat'] # This particular show has no info"
   ]
  },
  {
   "cell_type": "code",
   "execution_count": 40,
   "metadata": {
    "ExecuteTime": {
     "end_time": "2020-02-20T03:09:26.926632Z",
     "start_time": "2020-02-20T03:09:26.923450Z"
    }
   },
   "outputs": [],
   "source": [
    "result['resultsPage']['results']['event'][0]['venue']['lng'] # This particular show has no info"
   ]
  },
  {
   "cell_type": "markdown",
   "metadata": {},
   "source": [
    "### 2.2.7 Finding out if the artist was headlining the concert ( billing )"
   ]
  },
  {
   "cell_type": "code",
   "execution_count": 41,
   "metadata": {
    "ExecuteTime": {
     "end_time": "2020-02-20T03:09:26.932590Z",
     "start_time": "2020-02-20T03:09:26.928225Z"
    }
   },
   "outputs": [
    {
     "data": {
      "text/plain": [
       "'headline'"
      ]
     },
     "execution_count": 41,
     "metadata": {},
     "output_type": "execute_result"
    }
   ],
   "source": [
    "result['resultsPage']['results']['event'][0]['performance'][0]['billing']\n",
    "\n",
    "# Was the artist the headliner of the show?"
   ]
  },
  {
   "cell_type": "markdown",
   "metadata": {},
   "source": [
    "### 2.2.8 Getting the artist's name\n",
    "We are doing this to directly assing the artist in a row for each lecture of the data"
   ]
  },
  {
   "cell_type": "code",
   "execution_count": 42,
   "metadata": {
    "ExecuteTime": {
     "end_time": "2020-02-20T03:09:26.937496Z",
     "start_time": "2020-02-20T03:09:26.933932Z"
    }
   },
   "outputs": [
    {
     "data": {
      "text/plain": [
       "'Pink Floyd'"
      ]
     },
     "execution_count": 42,
     "metadata": {},
     "output_type": "execute_result"
    }
   ],
   "source": [
    "result['resultsPage']['results']['event'][0]['performance'][0]['displayName']"
   ]
  },
  {
   "cell_type": "markdown",
   "metadata": {},
   "source": [
    "## 2.3 Defining a function for our data rows:\n",
    "Finding out that the pagination comes as an argument in the link= '&page=%s'. We have 50 entries per page"
   ]
  },
  {
   "cell_type": "code",
   "execution_count": 43,
   "metadata": {
    "ExecuteTime": {
     "end_time": "2020-02-20T03:09:26.945420Z",
     "start_time": "2020-02-20T03:09:26.939149Z"
    }
   },
   "outputs": [
    {
     "name": "stdout",
     "output_type": "stream",
     "text": [
      "The number of pages on each ID will be equal to its entries (1104), \n",
      "divided by the elements by page (50). \n",
      "For example, 1104/50=22.08 pages. \n",
      "Since the number of pages is not an integer, we'll round up this number to iter on the elements that are left. \n",
      "If the pages are 22.08, we'll iter over 23 pages\n"
     ]
    }
   ],
   "source": [
    "entries = result['resultsPage']['totalEntries']\n",
    "\n",
    "elm_per_page = result['resultsPage']['perPage']\n",
    "\n",
    "pages = entries / elm_per_page\n",
    "\n",
    "print(f\"The number of pages on each ID will be equal to its entries ({entries}), \\ndivided by the elements by page ({elm_per_page}). \\nFor example, {entries}/{elm_per_page}={pages} pages. \\nSince the number of pages is not an integer, we'll round up this number to iter on the elements that are left. \\nIf the pages are {pages}, we'll iter over {round(pages) + 1} pages\" )\n",
    "      \n",
    "      \n",
    "      "
   ]
  },
  {
   "cell_type": "markdown",
   "metadata": {},
   "source": [
    "Now, we're making a function to collect the data of each show for every artist id we pass on the list #artist_id"
   ]
  },
  {
   "cell_type": "code",
   "execution_count": 44,
   "metadata": {
    "ExecuteTime": {
     "end_time": "2020-02-20T03:09:26.958772Z",
     "start_time": "2020-02-20T03:09:26.947372Z"
    }
   },
   "outputs": [],
   "source": [
    "def collect_data(artist_id_list, apikey='-'):  \n",
    "    '''\n",
    "    This function iterates over an artist id list to get the links on each artist.\n",
    "    Calculates in how many pages the data is stored, and iterates on all of them.\n",
    "    Then, for each page, requests the information to the API and fetchs all the data we need.\n",
    "    Stores this data as a list of lists object to ensure compatibility with Pandas Dataframes.\n",
    "    '''\n",
    "    \n",
    "    artist_data = []\n",
    "    \n",
    "    for artist in artist_id_list:\n",
    "        url = 'https://api.songkick.com/api/3.0/artists/'+str(artist[0]) +'/gigography.json?apikey=' + apikey\n",
    "        response = requests.get(url)\n",
    "        result = response.json()\n",
    "        \n",
    "        ## Iterating over different pages:\n",
    "        entries = result['resultsPage']['totalEntries'] \n",
    "        per_page = result['resultsPage']['perPage']\n",
    "        \n",
    "        pages_round= int(math.ceil(entries/per_page))\n",
    "        \n",
    "        print('\\n')\n",
    "        \n",
    "    \n",
    "        for z in range(pages_round):\n",
    "                \n",
    "                # Page 0 and Page 1 are equal, so we'll start from page 1\n",
    "                url = 'https://api.songkick.com/api/3.0/artists/'+str(artist[0]) +'/gigography.json?&page='+ str(z+1) +'&apikey=' + apikey\n",
    "                response = requests.get(url)\n",
    "                result = response.json()\n",
    "        \n",
    "    \n",
    "                for i in range(len(result['resultsPage']['results']['event'])):\n",
    "                        \n",
    "                    print(f'Fetching {artist[1]} data... entry nº {str(z*50+i+1)} of {entries}', end='\\r', flush=True)\n",
    "\n",
    "        \n",
    "                    band = artist[1]\n",
    "                    b_id = artist[0]\n",
    "                    bill = result['resultsPage']['results']['event'][i]['performance'][0]['billing']\n",
    "                    name = result['resultsPage']['results']['event'][i]['displayName']\n",
    "                    date = result['resultsPage']['results']['event'][i]['start']['date']\n",
    "                    time = result['resultsPage']['results']['event'][i]['start']['time']\n",
    "                    city = result['resultsPage']['results']['event'][i]['location']['city']\n",
    "                    venu = result['resultsPage']['results']['event'][i]['venue']['displayName']\n",
    "                    lat = result['resultsPage']['results']['event'][i]['venue']['lat'] \n",
    "                    lng = result['resultsPage']['results']['event'][i]['venue']['lng'] \n",
    "        \n",
    "                    artist_data.append([band, b_id, bill, name, date, time, city, venu, lat, lng])\n",
    "    \n",
    "    return artist_data\n"
   ]
  },
  {
   "cell_type": "code",
   "execution_count": 45,
   "metadata": {
    "ExecuteTime": {
     "end_time": "2020-02-20T03:09:40.979049Z",
     "start_time": "2020-02-20T03:09:26.960429Z"
    }
   },
   "outputs": [
    {
     "name": "stdout",
     "output_type": "stream",
     "text": [
      "\n",
      "\n",
      "Fetching Pink Floyd data... entry nº 1104 of 1104\r"
     ]
    }
   ],
   "source": [
    "data = collect_data(bands)"
   ]
  },
  {
   "cell_type": "markdown",
   "metadata": {},
   "source": [
    "## Bringing it all together"
   ]
  },
  {
   "cell_type": "markdown",
   "metadata": {
    "ExecuteTime": {
     "end_time": "2020-02-17T23:37:39.771130Z",
     "start_time": "2020-02-17T23:37:39.766883Z"
    }
   },
   "source": [
    "Our goal is to make a dataframe with the gathered data, to be able to study it.\n",
    "We'll define a function with the scripts we used through the process.\n",
    "This function is called get_shows_data():"
   ]
  },
  {
   "cell_type": "code",
   "execution_count": 49,
   "metadata": {
    "ExecuteTime": {
     "end_time": "2020-02-20T03:11:14.325736Z",
     "start_time": "2020-02-20T03:11:14.321813Z"
    }
   },
   "outputs": [],
   "source": [
    "def get_shows_data(n=10, genres='Rock', apikey=apikey, artists = None):\n",
    "    '''\n",
    "    This function returns an organized Dataframe which contains information about all the shows played\n",
    "    by that artist over its history. Contains the following variables:\n",
    "        n = type int: Tells the function hoy many artists to get info\n",
    "        \n",
    "        genre = type str or type list: Tells the function which genre (or genres) of music to scrape\n",
    "        \n",
    "        apikey = type str: (needed) your Songkick API key\n",
    "        \n",
    "        artist = type str or type lst: By default, set to None. This means that artist will be chosen\n",
    "                                       based on all-time popularity. If specified, tells what artist to scrape'''\n",
    "    \n",
    "    if artists == None:\n",
    "\n",
    "        artists = artist_scrape(n=n, genres=genres)\n",
    "    \n",
    "    \n",
    "    ids = songkick_artist_id(artists)\n",
    "    \n",
    "    data = collect_data(ids)\n",
    "    \n",
    "    print('\\n\\n-Done-')\n",
    "    \n",
    "    return data"
   ]
  },
  {
   "cell_type": "markdown",
   "metadata": {},
   "source": [
    "To test it, we have a lot of genres to choose from!"
   ]
  },
  {
   "cell_type": "code",
   "execution_count": 50,
   "metadata": {
    "ExecuteTime": {
     "end_time": "2020-02-20T03:11:15.151894Z",
     "start_time": "2020-02-20T03:11:15.141642Z"
    }
   },
   "outputs": [
    {
     "data": {
      "text/plain": [
       "['Rock',\n",
       " 'Electronic',\n",
       " 'Pop',\n",
       " 'Folk, World, & Country',\n",
       " 'Jazz',\n",
       " 'Rock',\n",
       " 'Electronic',\n",
       " 'Pop',\n",
       " 'Folk, World, & Country',\n",
       " 'Jazz',\n",
       " 'Funk / Soul',\n",
       " 'Classical',\n",
       " 'Hip Hop',\n",
       " 'Latin',\n",
       " 'Reggae',\n",
       " 'Stage & Screen',\n",
       " 'Blues',\n",
       " 'Non-Music',\n",
       " \"Children's\",\n",
       " 'Brass & Military',\n",
       " 'House',\n",
       " 'Pop Rock',\n",
       " 'Punk',\n",
       " 'Vocal',\n",
       " 'Techno',\n",
       " 'House',\n",
       " 'Pop Rock',\n",
       " 'Punk',\n",
       " 'Vocal',\n",
       " 'Techno',\n",
       " 'Experimental',\n",
       " 'Hardcore',\n",
       " 'Synth-pop',\n",
       " 'Soul',\n",
       " 'Indie Rock',\n",
       " 'Disco',\n",
       " 'Alternative Rock',\n",
       " 'Ambient',\n",
       " 'Electro',\n",
       " 'Country',\n",
       " 'Trance',\n",
       " 'Folk',\n",
       " 'Chanson',\n",
       " 'Ballad',\n",
       " 'Rock & Roll',\n",
       " 'Downtempo',\n",
       " 'Hard Rock',\n",
       " 'Psychedelic Rock',\n",
       " 'Funk',\n",
       " 'Heavy Metal',\n",
       " 'Drum n Bass',\n",
       " 'Tech House',\n",
       " 'Deep House',\n",
       " 'Folk Rock',\n",
       " 'Schlager',\n",
       " 'Euro House',\n",
       " 'Easy Listening',\n",
       " 'Black Metal',\n",
       " 'Soundtrack',\n",
       " 'Romantic',\n",
       " 'Rhythm & Blues',\n",
       " 'Industrial',\n",
       " 'Prog Rock',\n",
       " 'New Wave',\n",
       " 'Garage Rock',\n",
       " 'Noise',\n",
       " 'Minimal',\n",
       " 'Progressive House',\n",
       " 'Death Metal',\n",
       " 'Classic Rock',\n",
       " 'Europop',\n",
       " 'Abstract',\n",
       " 'Classical',\n",
       " 'Blues Rock',\n",
       " 'Dub',\n",
       " 'Breakbeat',\n",
       " 'Soft Rock',\n",
       " 'Acoustic',\n",
       " 'Big Band',\n",
       " 'Progressive Trance',\n",
       " 'Swing',\n",
       " 'Thrash',\n",
       " 'Baroque',\n",
       " 'RnB/Swing',\n",
       " 'Modern',\n",
       " 'Contemporary Jazz',\n",
       " 'Dancehall',\n",
       " 'Reggae',\n",
       " 'Hard Trance',\n",
       " 'Drone',\n",
       " 'IDM',\n",
       " 'Country Rock',\n",
       " 'Gospel',\n",
       " 'Acid',\n",
       " 'Roots Reggae',\n",
       " 'Breaks',\n",
       " 'Doom Metal',\n",
       " 'Gangsta',\n",
       " 'Rockabilly',\n",
       " 'Avantgarde',\n",
       " 'Opera',\n",
       " 'Jazz-Funk',\n",
       " 'Indie Pop',\n",
       " 'Fusion',\n",
       " 'Leftfield',\n",
       " 'Post Rock',\n",
       " 'Contemporary',\n",
       " 'Post-Punk',\n",
       " 'Dark Ambient',\n",
       " 'Pop Rap',\n",
       " 'Beat',\n",
       " 'Art Rock',\n",
       " 'Ska',\n",
       " 'Instrumental',\n",
       " 'Comedy',\n",
       " 'Soul-Jazz',\n",
       " 'Grindcore',\n",
       " 'Hip Hop',\n",
       " 'Hard House',\n",
       " 'Lo-Fi',\n",
       " 'Dubstep',\n",
       " 'Garage House',\n",
       " 'Power Pop',\n",
       " 'Italo-Disco',\n",
       " 'Modern Classical',\n",
       " 'Goth Rock',\n",
       " 'Salsa',\n",
       " 'Score',\n",
       " 'Oi',\n",
       " 'African',\n",
       " 'Jungle',\n",
       " 'EBM',\n",
       " 'Trip Hop',\n",
       " 'Theme',\n",
       " 'Religious',\n",
       " 'Conscious',\n",
       " 'Bop',\n",
       " 'Tribal',\n",
       " 'Doo Wop',\n",
       " 'New Age',\n",
       " 'Shoegaze',\n",
       " 'Latin Jazz',\n",
       " 'Jazz-Rock',\n",
       " 'Stoner Rock',\n",
       " 'Spoken Word',\n",
       " 'Italodance',\n",
       " 'Future Jazz',\n",
       " 'Psy-Trance',\n",
       " 'Emo',\n",
       " 'Glam',\n",
       " 'Happy Hardcore',\n",
       " 'Surf',\n",
       " 'Bolero',\n",
       " 'Free Jazz',\n",
       " 'Laïkó',\n",
       " 'UK Garage',\n",
       " 'Musical',\n",
       " 'Electro House',\n",
       " 'Novelty',\n",
       " 'J-pop',\n",
       " 'MPB',\n",
       " 'Free Improvisation',\n",
       " 'Smooth Jazz',\n",
       " 'Cool Jazz',\n",
       " 'Bluegrass',\n",
       " 'Gabber',\n",
       " 'Story',\n",
       " 'Dance-pop',\n",
       " 'Latin',\n",
       " 'Samba',\n",
       " 'Radioplay',\n",
       " 'Field Recording',\n",
       " 'Hardstyle',\n",
       " 'Dixieland',\n",
       " 'Darkwave',\n",
       " 'Post Bop',\n",
       " 'Dub Techno',\n",
       " 'Parody',\n",
       " 'Symphonic Rock',\n",
       " 'Hard Bop',\n",
       " 'Acid House',\n",
       " 'Hi NRG',\n",
       " 'Celtic',\n",
       " 'Eurodance',\n",
       " 'Krautrock',\n",
       " 'Space Rock',\n",
       " 'Flamenco',\n",
       " 'Cha-Cha',\n",
       " 'Cumbia',\n",
       " 'Glitch',\n",
       " 'Freestyle',\n",
       " 'Tribal House',\n",
       " 'Pop Punk',\n",
       " 'Tango',\n",
       " 'Hindustani',\n",
       " 'Rumba',\n",
       " 'Grunge',\n",
       " 'Rocksteady',\n",
       " 'Acid Jazz',\n",
       " 'Thug Rap',\n",
       " 'Southern Rock',\n",
       " 'Polka',\n",
       " 'Vaporwave',\n",
       " 'Bollywood',\n",
       " 'Mod',\n",
       " 'Bossa Nova',\n",
       " 'Broken Beat',\n",
       " 'Hardcore Hip-Hop',\n",
       " 'Reggae-Pop',\n",
       " 'Bass Music',\n",
       " 'Merengue',\n",
       " 'Goa Trance',\n",
       " 'Power Electronics',\n",
       " 'Arena Rock',\n",
       " 'Synthwave',\n",
       " 'Neo-Classical',\n",
       " 'Boogie',\n",
       " 'Contemporary R&B',\n",
       " 'Neofolk',\n",
       " 'Country Blues',\n",
       " 'Mambo',\n",
       " 'Speed Metal',\n",
       " 'Breakcore',\n",
       " 'Math Rock',\n",
       " 'Jazzy Hip-Hop',\n",
       " 'Bossanova',\n",
       " 'Sludge Metal',\n",
       " 'Big Beat',\n",
       " 'Musique Concrète',\n",
       " 'Power Metal',\n",
       " 'Metalcore',\n",
       " 'Poetry',\n",
       " 'Brit Pop',\n",
       " 'Electric Blues',\n",
       " 'AOR',\n",
       " 'Ethereal',\n",
       " 'Renaissance',\n",
       " 'Nu Metal',\n",
       " 'Afrobeat',\n",
       " 'Progressive Metal',\n",
       " 'Calypso',\n",
       " 'Lovers Rock',\n",
       " 'Hip-House',\n",
       " 'Chicago Blues',\n",
       " 'Psychedelic',\n",
       " 'Avant-garde Jazz',\n",
       " 'Éntekhno',\n",
       " 'Guaguancó',\n",
       " 'Afro-Cuban',\n",
       " 'Psychobilly',\n",
       " 'Crust',\n",
       " 'Ragtime',\n",
       " 'Audiobook',\n",
       " 'Volksmusik',\n",
       " 'Chiptune',\n",
       " 'Grime',\n",
       " 'Ragga',\n",
       " 'Lounge',\n",
       " 'Modal',\n",
       " 'Neo Soul',\n",
       " 'Tech Trance',\n",
       " 'Post-Hardcore',\n",
       " 'Marches',\n",
       " 'Choral',\n",
       " 'Interview',\n",
       " 'Trap',\n",
       " 'Berlin-School',\n",
       " 'Pacific',\n",
       " 'Rhythmic Noise',\n",
       " 'Boom Bap',\n",
       " 'Space-Age',\n",
       " 'Honky Tonk',\n",
       " 'Ragga HipHop',\n",
       " 'Guaracha',\n",
       " 'Jazzdance',\n",
       " 'Impressionist',\n",
       " 'Son',\n",
       " 'G-Funk',\n",
       " 'Medieval',\n",
       " 'Cut-up/DJ',\n",
       " 'New Beat',\n",
       " 'Makina',\n",
       " 'Indian Classical',\n",
       " 'Euro-Disco',\n",
       " 'Nursery Rhymes',\n",
       " 'Speedcore',\n",
       " 'Neo-Romantic',\n",
       " 'Twist',\n",
       " 'Afro-Cuban Jazz',\n",
       " 'Nu-Disco',\n",
       " 'Soca',\n",
       " 'Zouk',\n",
       " 'Minimal Techno',\n",
       " 'Operetta',\n",
       " 'Brass Band',\n",
       " 'Eurobeat',\n",
       " 'Ranchera',\n",
       " 'Dialogue',\n",
       " 'Delta Blues',\n",
       " 'Music Hall',\n",
       " 'Acid Rock',\n",
       " 'Gothic Metal',\n",
       " 'Education',\n",
       " 'Piano Blues',\n",
       " 'New Jack Swing',\n",
       " 'Political',\n",
       " 'Educational',\n",
       " 'Soukous',\n",
       " 'Nordic',\n",
       " 'Military',\n",
       " 'Monolog',\n",
       " 'Funk Metal',\n",
       " 'Fado',\n",
       " 'Viking Metal',\n",
       " 'Boogaloo',\n",
       " 'Folk Metal',\n",
       " 'Dungeon Synth',\n",
       " 'Highlife',\n",
       " 'Melodic Hardcore',\n",
       " 'Italo House',\n",
       " 'Light Music',\n",
       " 'Romani',\n",
       " 'Modern Electric Blues',\n",
       " 'Descarga',\n",
       " 'Melodic Death Metal',\n",
       " 'Gypsy Jazz',\n",
       " 'Speed Garage',\n",
       " 'Ghetto',\n",
       " 'Canzone Napoletana',\n",
       " 'Horrorcore',\n",
       " 'Speech',\n",
       " 'Cubano',\n",
       " 'Kayōkyoku',\n",
       " 'Mariachi',\n",
       " 'Chillwave',\n",
       " 'Harmonica Blues',\n",
       " 'Texas Blues',\n",
       " 'Jump Blues',\n",
       " 'P.Funk',\n",
       " 'Jumpstyle',\n",
       " 'No Wave',\n",
       " 'Deep Techno',\n",
       " 'Illbient',\n",
       " 'Pub Rock',\n",
       " 'Cajun',\n",
       " 'Rebetiko',\n",
       " 'Guajira',\n",
       " 'Louisiana Blues',\n",
       " 'Son Montuno',\n",
       " 'Deathcore',\n",
       " 'Hard Techno',\n",
       " 'Post-Modern',\n",
       " 'K-pop',\n",
       " 'Pachanga',\n",
       " 'Coldwave',\n",
       " 'Bubblegum',\n",
       " 'Special Effects',\n",
       " 'Goregrind',\n",
       " 'Harsh Noise Wall',\n",
       " 'Reggaeton',\n",
       " 'Charanga',\n",
       " 'Oratorio',\n",
       " 'Hands Up',\n",
       " 'Deathrock',\n",
       " 'Hawaiian',\n",
       " 'Promotional',\n",
       " 'Witch House',\n",
       " 'Swingbeat',\n",
       " 'Boogie Woogie',\n",
       " 'Népzene',\n",
       " 'Norteño',\n",
       " 'Sound Collage',\n",
       " 'Nueva Cancion',\n",
       " 'DJ Battle Tool',\n",
       " 'Vallenato',\n",
       " 'Hillbilly',\n",
       " 'Therapy',\n",
       " 'Atmospheric Black Metal',\n",
       " 'Disco Polo',\n",
       " 'Forró',\n",
       " 'Porro',\n",
       " 'Compas',\n",
       " 'Post-Metal',\n",
       " 'Screw',\n",
       " 'Dream Pop',\n",
       " 'Juke',\n",
       " 'Depressive Black Metal',\n",
       " 'Free Funk',\n",
       " 'Beguine',\n",
       " 'Bounce',\n",
       " 'Crunk',\n",
       " 'Klezmer',\n",
       " 'Yé-Yé',\n",
       " 'Corrido',\n",
       " 'Western Swing',\n",
       " 'Steel Band',\n",
       " 'Britcore',\n",
       " 'Aboriginal',\n",
       " 'Zydeco',\n",
       " 'Miami Bass',\n",
       " 'Bleep',\n",
       " 'Electroclash',\n",
       " 'Power Violence',\n",
       " 'Technical',\n",
       " 'Batucada',\n",
       " 'Séga',\n",
       " 'Noisecore',\n",
       " 'Bayou Funk',\n",
       " 'Copla',\n",
       " 'Tejano',\n",
       " 'Danzon',\n",
       " 'Raï',\n",
       " 'Tropical House',\n",
       " 'Sound Art',\n",
       " 'Funeral Doom Metal',\n",
       " 'Skiffle',\n",
       " 'Doomcore',\n",
       " 'Halftime',\n",
       " 'Bassline',\n",
       " 'Cloud Rap',\n",
       " 'Technical Death Metal',\n",
       " 'Early',\n",
       " 'Sermon',\n",
       " 'Health-Fitness',\n",
       " 'Donk',\n",
       " 'Go-Go',\n",
       " 'Pipe & Drum',\n",
       " 'Plena',\n",
       " 'Bachata',\n",
       " 'Turntablism',\n",
       " 'Public Broadcast',\n",
       " 'Movie Effects',\n",
       " 'Chinese Classical',\n",
       " 'Bhangra',\n",
       " 'Quechua',\n",
       " 'Swamp Pop',\n",
       " 'Catalan Music',\n",
       " 'Progressive Breaks',\n",
       " 'Lambada',\n",
       " 'Sea Shanties',\n",
       " 'Gamelan',\n",
       " 'Appalachian Music',\n",
       " 'Conjunto',\n",
       " 'Erotic',\n",
       " \"Min'yō\",\n",
       " 'Pornogrind',\n",
       " 'Schranz',\n",
       " 'Cretan',\n",
       " 'Axé',\n",
       " 'East Coast Blues',\n",
       " 'Pasodoble',\n",
       " 'Enka',\n",
       " 'UK Street Soul',\n",
       " 'Mento',\n",
       " 'Ottoman Classical',\n",
       " 'Karaoke',\n",
       " 'Beatdown',\n",
       " 'Memphis Blues',\n",
       " 'Persian Classical',\n",
       " 'Barbershop',\n",
       " 'City Pop',\n",
       " 'Nueva Trova',\n",
       " 'Reggae Gospel',\n",
       " 'Twelve-tone',\n",
       " 'Kaseko',\n",
       " 'Gogo',\n",
       " 'Basque Music',\n",
       " 'Ghetto House',\n",
       " 'Zarzuela',\n",
       " 'Dub Poetry',\n",
       " 'J-Core',\n",
       " 'Cape Jazz',\n",
       " 'Trova',\n",
       " 'Levenslied',\n",
       " 'Phleng Phuea Chiwit',\n",
       " 'Música Criolla',\n",
       " 'Piedmont Blues',\n",
       " 'Liscio',\n",
       " 'NDW',\n",
       " 'Timba',\n",
       " 'Sound Poetry',\n",
       " 'Lento Violento',\n",
       " 'Andalusian Classical',\n",
       " 'Choro',\n",
       " 'Marimba',\n",
       " 'Carnatic',\n",
       " 'Griot',\n",
       " 'Overtone Singing',\n",
       " 'Ethno-pop',\n",
       " 'Hiplife',\n",
       " 'Luk Thung',\n",
       " 'Sephardic',\n",
       " 'Joropo',\n",
       " 'Mizrahi',\n",
       " 'Mugham',\n",
       " 'Skweee',\n",
       " 'Hyphy',\n",
       " 'Maloya',\n",
       " 'Minneapolis Sound',\n",
       " 'Neo Trance',\n",
       " 'Hard Beat',\n",
       " 'Industrial Metal',\n",
       " 'Kwaito',\n",
       " 'Jibaro',\n",
       " 'Chutney',\n",
       " 'Serial',\n",
       " 'Mbalax',\n",
       " 'Cuatro',\n",
       " 'Guarania',\n",
       " 'UK Funky',\n",
       " 'Nhạc Vàng',\n",
       " 'Bomba',\n",
       " 'Funaná',\n",
       " 'Horror Rock',\n",
       " 'Junkanoo',\n",
       " 'Public Service Announcement',\n",
       " 'Sonero',\n",
       " 'Ghettotech',\n",
       " 'Rock Opera',\n",
       " 'Beatbox',\n",
       " 'Nerdcore Techno',\n",
       " 'Zamba',\n",
       " 'Break-In',\n",
       " 'Jota',\n",
       " 'Sámi Music',\n",
       " 'Baião',\n",
       " 'Gagaku',\n",
       " 'Salegy',\n",
       " 'Samba-Canção',\n",
       " 'Musette',\n",
       " 'Favela Funk',\n",
       " 'Philippine Classical',\n",
       " 'Mouth Music',\n",
       " 'Chacarera',\n",
       " 'Néo Kyma',\n",
       " 'Luk Krung',\n",
       " 'Gaita',\n",
       " 'Carimbó',\n",
       " 'Keroncong',\n",
       " 'Chamamé',\n",
       " 'Andean Music',\n",
       " 'Baltimore Club',\n",
       " 'Thai Classical',\n",
       " 'Marcha Carnavalesca',\n",
       " 'Candombe',\n",
       " 'Champeta',\n",
       " 'Qawwali',\n",
       " 'Aguinaldo',\n",
       " 'Rune Singing',\n",
       " 'Piobaireachd',\n",
       " 'Zemer Ivri',\n",
       " 'Dangdut',\n",
       " 'Klasik',\n",
       " 'Rapso',\n",
       " 'Yemenite Jewish',\n",
       " 'Cobla',\n",
       " 'Ghazal',\n",
       " 'Progressive Bluegrass',\n",
       " 'Kizomba',\n",
       " 'Korean Court Music',\n",
       " 'Ballroom',\n",
       " 'Jangle Pop',\n",
       " 'Cambodian Classical',\n",
       " 'Hill Country Blues',\n",
       " 'J-Rock',\n",
       " 'Bengali Music',\n",
       " 'Bubbling',\n",
       " 'Funkot',\n",
       " 'Seresta',\n",
       " 'Waiata',\n",
       " 'Bangladeshi Classical',\n",
       " 'Lao Music',\n",
       " 'Mo Lam',\n",
       " 'Occitan',\n",
       " 'Electroacoustic',\n",
       " 'Footwork',\n",
       " 'Groove Metal',\n",
       " 'Għana',\n",
       " 'Stride',\n",
       " 'Bongo Flava',\n",
       " 'Spaza',\n",
       " 'Azonto',\n",
       " 'Filk',\n",
       " 'Nitzhonot',\n",
       " 'Vinyl',\n",
       " 'Album',\n",
       " 'CD',\n",
       " 'LP',\n",
       " '7\"',\n",
       " 'Vinyl',\n",
       " 'Album',\n",
       " 'CD',\n",
       " 'LP',\n",
       " '7\"',\n",
       " '45 RPM',\n",
       " '12\"',\n",
       " 'Single',\n",
       " 'Compilation',\n",
       " 'File',\n",
       " 'EP',\n",
       " 'Limited Edition',\n",
       " '33 ⅓ RPM',\n",
       " 'Stereo',\n",
       " 'Promo',\n",
       " 'MP3',\n",
       " 'Mono',\n",
       " 'Cassette',\n",
       " '10\"',\n",
       " 'Maxi-Single',\n",
       " 'CDr',\n",
       " '78 RPM',\n",
       " 'Shellac',\n",
       " 'Unofficial Release',\n",
       " 'Numbered',\n",
       " 'Reissue',\n",
       " 'FLAC',\n",
       " 'WAV',\n",
       " 'Mixed',\n",
       " 'Single Sided',\n",
       " 'DVD',\n",
       " 'Remastered',\n",
       " 'Enhanced',\n",
       " 'Box Set',\n",
       " 'AAC',\n",
       " 'DVD-Video',\n",
       " 'Mini-Album',\n",
       " 'White Label',\n",
       " 'Repress',\n",
       " 'NTSC',\n",
       " 'Club Edition',\n",
       " 'Sampler',\n",
       " 'PAL',\n",
       " 'All Media',\n",
       " 'Picture Disc',\n",
       " 'Flexi-disc',\n",
       " 'VHS',\n",
       " 'Mini',\n",
       " 'Special Edition',\n",
       " 'Styrene',\n",
       " 'Copy Protected',\n",
       " 'Deluxe Edition',\n",
       " 'Partially Mixed',\n",
       " 'CD-ROM',\n",
       " 'Test Pressing',\n",
       " 'AIFF',\n",
       " 'Multichannel',\n",
       " 'HDCD',\n",
       " 'Lathe Cut',\n",
       " 'Mixtape',\n",
       " 'Etched',\n",
       " 'Misprint',\n",
       " 'Quadraphonic',\n",
       " 'ALAC',\n",
       " 'Jukebox',\n",
       " 'Shape',\n",
       " '8\"',\n",
       " 'Laserdisc',\n",
       " 'ogg-vorbis',\n",
       " 'Blu-ray',\n",
       " 'Hybrid',\n",
       " 'SACD',\n",
       " '5½\"',\n",
       " 'DVDr',\n",
       " 'Card Backed',\n",
       " '6\"',\n",
       " 'Mispress',\n",
       " 'Partially Unofficial',\n",
       " 'Transcription',\n",
       " '5\"',\n",
       " 'Minimax',\n",
       " 'Acetate',\n",
       " '8-Track Cartridge',\n",
       " 'MPEG-4 Video',\n",
       " 'Reel-To-Reel',\n",
       " 'Memory Stick',\n",
       " 'VCD',\n",
       " 'Edison Disc',\n",
       " 'DVD-Audio',\n",
       " 'SECAM',\n",
       " '3.5\"',\n",
       " '80 RPM',\n",
       " 'Advance',\n",
       " 'Floppy Disk',\n",
       " '7 ½ ips',\n",
       " 'Ambisonic',\n",
       " 'WMA',\n",
       " 'MPEG-4',\n",
       " '¼\"',\n",
       " '7\" Cine Reel',\n",
       " 'DVD-Data',\n",
       " 'Double Sided',\n",
       " 'CDV',\n",
       " '4\"',\n",
       " 'DualDisc',\n",
       " 'Business Card',\n",
       " '4-Track Stereo',\n",
       " 'Cylinder',\n",
       " '16 ⅔ RPM',\n",
       " 'Minidisc',\n",
       " 'CDi',\n",
       " '9\"',\n",
       " 'MP3 Surround',\n",
       " 'Blu-ray Audio',\n",
       " '6½\"',\n",
       " 'Pathé Disc',\n",
       " 'Betamax',\n",
       " 'WMV',\n",
       " '11\"',\n",
       " '4 Minute',\n",
       " 'Blu-ray-R',\n",
       " '3 ¾ ips',\n",
       " 'CD+G',\n",
       " '3\"',\n",
       " '5.25\"',\n",
       " '2-Track Stereo',\n",
       " 'MOV',\n",
       " '2 Minute',\n",
       " '29cm',\n",
       " 'Betacam SP',\n",
       " 'AVCD',\n",
       " 'Microcassette',\n",
       " 'DVDplus',\n",
       " 'AVI',\n",
       " 'Pocket Rocker',\n",
       " '2-Track Mono',\n",
       " '25cm',\n",
       " 'PlayTape',\n",
       " 'VinylDisc',\n",
       " '16\"',\n",
       " '27cm',\n",
       " 'AIFC',\n",
       " '3½\"',\n",
       " '5\" Cine Reel',\n",
       " 'DAT',\n",
       " 'MPEG Video',\n",
       " '10.5\" NAB Reel',\n",
       " '15 ips',\n",
       " 'AMR',\n",
       " 'DCC',\n",
       " 'FLV',\n",
       " 'SVCD',\n",
       " 'SelectaVision',\n",
       " '15/16 ips',\n",
       " '4-Track Cartridge',\n",
       " '90 RPM',\n",
       " 'CD-Record',\n",
       " 'DVD-9',\n",
       " 'MP2',\n",
       " 'SHN',\n",
       " 'Tefifon',\n",
       " 'U-matic',\n",
       " '2\"',\n",
       " '4-Track Mono',\n",
       " 'APE',\n",
       " 'DFF',\n",
       " 'DSF',\n",
       " 'HD DVD',\n",
       " 'MiniDV',\n",
       " '3 Minute',\n",
       " '35cm',\n",
       " 'Dolby 5.1',\n",
       " 'Opus',\n",
       " 'SWF',\n",
       " 'UMD',\n",
       " 'Video 2000',\n",
       " 'WavPack',\n",
       " 'Wire Recording',\n",
       " '⅛\"',\n",
       " 'US',\n",
       " 'UK',\n",
       " 'Germany',\n",
       " 'France',\n",
       " 'Italy',\n",
       " 'US',\n",
       " 'UK',\n",
       " 'Germany',\n",
       " 'France',\n",
       " 'Italy',\n",
       " 'Netherlands',\n",
       " 'Europe',\n",
       " 'Japan',\n",
       " 'Canada',\n",
       " 'Spain',\n",
       " 'Unknown',\n",
       " 'Sweden',\n",
       " 'Australia',\n",
       " 'Russia',\n",
       " 'Belgium',\n",
       " 'Jamaica',\n",
       " 'Greece',\n",
       " 'Finland',\n",
       " 'Brazil',\n",
       " 'Poland',\n",
       " 'USSR',\n",
       " 'UK & Europe',\n",
       " 'Denmark',\n",
       " 'Switzerland',\n",
       " 'Norway',\n",
       " 'Austria',\n",
       " 'Yugoslavia',\n",
       " 'Czechoslovakia',\n",
       " 'Mexico',\n",
       " 'Portugal',\n",
       " 'Hungary',\n",
       " 'Argentina',\n",
       " 'Czech Republic',\n",
       " 'USA & Canada',\n",
       " 'Romania',\n",
       " 'New Zealand',\n",
       " 'Turkey',\n",
       " 'Ukraine',\n",
       " 'India',\n",
       " 'Ireland',\n",
       " 'Colombia',\n",
       " 'German Democratic Republic (GDR)',\n",
       " 'Venezuela',\n",
       " 'Scandinavia',\n",
       " 'Chile',\n",
       " 'Israel',\n",
       " 'South Africa',\n",
       " 'Germany, Austria, & Switzerland',\n",
       " 'Croatia',\n",
       " 'Peru',\n",
       " 'UK, Europe & US',\n",
       " 'Lithuania',\n",
       " 'Bulgaria',\n",
       " 'Egypt',\n",
       " 'Indonesia',\n",
       " 'Malaysia',\n",
       " 'Iceland',\n",
       " 'Hong Kong',\n",
       " 'UK & Ireland',\n",
       " 'South Korea',\n",
       " 'USA & Europe',\n",
       " 'Slovakia',\n",
       " 'Serbia',\n",
       " 'Benelux',\n",
       " 'Taiwan',\n",
       " 'UK & US',\n",
       " 'Estonia',\n",
       " 'Cuba',\n",
       " 'Lebanon',\n",
       " 'Middle East',\n",
       " 'Nigeria',\n",
       " 'Australia & New Zealand',\n",
       " 'Ecuador',\n",
       " 'Singapore',\n",
       " 'Uruguay',\n",
       " 'China',\n",
       " 'Slovenia',\n",
       " 'Thailand',\n",
       " 'Puerto Rico',\n",
       " 'USA, Canada & Europe',\n",
       " 'Philippines',\n",
       " 'Panama',\n",
       " 'Trinidad & Tobago',\n",
       " 'Luxembourg',\n",
       " 'Australasia',\n",
       " 'Barbados',\n",
       " 'Belarus',\n",
       " 'USA, Canada & UK',\n",
       " 'Latvia',\n",
       " 'Serbia and Montenegro',\n",
       " 'Bosnia & Herzegovina',\n",
       " 'North America (inc Mexico)',\n",
       " 'France & Benelux',\n",
       " 'Macedonia',\n",
       " 'Czech Republic & Slovakia',\n",
       " 'Ghana',\n",
       " 'Ivory Coast',\n",
       " 'Bolivia',\n",
       " 'Zaire',\n",
       " 'Guatemala',\n",
       " 'Costa Rica',\n",
       " 'Kenya',\n",
       " 'Iran',\n",
       " 'Germany & Switzerland',\n",
       " 'El Salvador',\n",
       " 'Pakistan',\n",
       " 'Dominican Republic',\n",
       " 'Singapore, Malaysia & Hong Kong',\n",
       " 'Reunion',\n",
       " 'Angola',\n",
       " 'Madagascar',\n",
       " 'Zimbabwe',\n",
       " 'Cyprus',\n",
       " 'Morocco',\n",
       " 'UK & France',\n",
       " 'United Arab Emirates',\n",
       " 'Bahamas, The',\n",
       " 'Saudi Arabia',\n",
       " 'Algeria',\n",
       " 'Congo, Democratic Republic of the',\n",
       " 'UK, Europe & Japan',\n",
       " 'Mauritius',\n",
       " 'Georgia',\n",
       " 'Asia',\n",
       " 'Faroe Islands',\n",
       " 'Tunisia',\n",
       " 'Haiti',\n",
       " 'Senegal',\n",
       " 'Gulf Cooperation Council',\n",
       " 'Malta',\n",
       " 'Nicaragua',\n",
       " 'Suriname',\n",
       " 'Guinea',\n",
       " 'Zambia',\n",
       " 'Azerbaijan',\n",
       " 'Guadeloupe',\n",
       " 'Kuwait',\n",
       " 'Liechtenstein',\n",
       " 'Moldova, Republic of',\n",
       " 'Mozambique',\n",
       " 'Kazakhstan',\n",
       " 'Rhodesia',\n",
       " 'Paraguay',\n",
       " 'Cape Verde',\n",
       " 'Ethiopia',\n",
       " 'Martinique',\n",
       " 'South America',\n",
       " 'Bermuda',\n",
       " 'Greenland',\n",
       " 'Netherlands Antilles',\n",
       " 'Andorra',\n",
       " 'French Polynesia',\n",
       " 'Honduras',\n",
       " 'Sudan',\n",
       " 'Benin',\n",
       " 'South East Asia',\n",
       " 'Congo, Republic of the',\n",
       " 'Mongolia',\n",
       " 'South Vietnam',\n",
       " 'Vietnam',\n",
       " 'Syria',\n",
       " 'Guyana',\n",
       " 'Virgin Islands',\n",
       " 'Albania',\n",
       " 'Bahrain',\n",
       " 'Dahomey',\n",
       " 'Mali',\n",
       " 'Burma',\n",
       " 'UK, Europe & Israel',\n",
       " 'Cameroon',\n",
       " 'Central America',\n",
       " 'Montenegro',\n",
       " 'Kosovo',\n",
       " 'North Korea',\n",
       " 'Gabon',\n",
       " 'Jordan',\n",
       " 'Seychelles',\n",
       " 'Southern Rhodesia',\n",
       " 'Antigua & Barbuda',\n",
       " 'Armenia',\n",
       " 'Monaco',\n",
       " 'Sri Lanka',\n",
       " 'Togo',\n",
       " 'Bangladesh',\n",
       " 'Curaçao',\n",
       " 'Nepal',\n",
       " 'Brunei',\n",
       " 'Cambodia',\n",
       " 'Marshall Islands',\n",
       " 'Uganda',\n",
       " 'West Bank',\n",
       " 'Belize',\n",
       " 'Cayman Islands',\n",
       " 'Kyrgyzstan',\n",
       " 'Antigua & Barbuda',\n",
       " 'Botswana',\n",
       " 'Tanzania',\n",
       " 'Yemen',\n",
       " 'Dominica',\n",
       " 'Fiji',\n",
       " 'Iraq',\n",
       " 'Jersey',\n",
       " 'Libya',\n",
       " 'Sierra Leone',\n",
       " 'East Timor',\n",
       " 'French Guiana',\n",
       " 'Qatar',\n",
       " 'Saint Kitts and Nevis',\n",
       " 'Upper Volta',\n",
       " 'Uzbekistan',\n",
       " 'Aruba',\n",
       " 'Burkina Faso',\n",
       " 'Namibia',\n",
       " 'New Caledonia',\n",
       " 'Protectorate of Bohemia and Moravia',\n",
       " 'Afghanistan',\n",
       " 'Dutch East Indies',\n",
       " 'Guam',\n",
       " 'Guinea-Bissau',\n",
       " 'Korea (pre-1945)',\n",
       " 'Liberia',\n",
       " 'Maldives',\n",
       " 'Man, Isle of',\n",
       " 'Saint Vincent and the Grenadines',\n",
       " 'Singapore & Malaysia',\n",
       " 'South Pacific',\n",
       " 'Africa',\n",
       " ...]"
      ]
     },
     "execution_count": 50,
     "metadata": {},
     "output_type": "execute_result"
    }
   ],
   "source": [
    "genres_styles"
   ]
  },
  {
   "cell_type": "code",
   "execution_count": 51,
   "metadata": {
    "ExecuteTime": {
     "end_time": "2020-02-20T03:26:41.784005Z",
     "start_time": "2020-02-20T03:11:19.426058Z"
    }
   },
   "outputs": [
    {
     "name": "stdout",
     "output_type": "stream",
     "text": [
      "Found the artist Led Zeppelin, with Songkick ID: 18833\n",
      "Found the artist Dire Straits, with Songkick ID: 393353\n",
      "Found the artist David Bowie, with Songkick ID: 468870\n",
      "Found the artist Eagles, with Songkick ID: 556496\n",
      "Found the artist Neil Young, with Songkick ID: 1980138\n",
      "Found the artist Queen, with Songkick ID: 469904\n",
      "Found the artist Supertramp, with Songkick ID: 420142\n",
      "Found the artist The Doors, with Songkick ID: 477246\n",
      "Found the artist Simon & Garfunkel, with Songkick ID: 213059\n",
      "Found the artist The Rolling Stones, with Songkick ID: 379603\n",
      "Found the artist Jethro Tull, with Songkick ID: 111953\n",
      "Found the artist Pink Floyd, with Songkick ID: 400904\n",
      "Found the artist Mike Oldfield, with Songkick ID: 486950\n",
      "Found the artist Elton John, with Songkick ID: 371163\n",
      "Found the artist Rolling Stones, with Songkick ID: 379603\n",
      "Found the artist Bruce Springsteen, with Songkick ID: 227030\n",
      "Found the artist Steely Dan, with Songkick ID: 87233\n",
      "Found the artist Bowie, with Songkick ID: 468870\n",
      "Found the artist Creedence Clearwater Revival Featuring John Fogerty, with Songkick ID: 468870\n",
      "Found the artist Creedence Clearwater Revival, with Songkick ID: 87957\n",
      "Found the artist Eric Clapton, with Songkick ID: 387667\n",
      "Found the artist Iron Butterfly, with Songkick ID: 342877\n",
      "Found the artist Janis Joplin, with Songkick ID: 19445\n",
      "Found the artist U2, with Songkick ID: 313388\n",
      "Found the artist Fleetwood Mac, with Songkick ID: 323006\n",
      "Found the artist Van Morrison, with Songkick ID: 156780\n",
      "Found the artist Blind Faith, with Songkick ID: 367356\n",
      "Found the artist Genesis, with Songkick ID: 137873\n",
      "Found the artist Van Halen, with Songkick ID: 185559\n",
      "Found the artist T. Rex, with Songkick ID: 74140\n",
      "Found the artist Jackson Browne, with Songkick ID: 51843\n",
      "Found the artist Cat Stevens, with Songkick ID: 329262\n",
      "Found the artist The Who, with Songkick ID: 69685\n",
      "Found the artist Patti Smith, with Songkick ID: 94437\n",
      "Found the artist Various, with Songkick ID: 2978241\n",
      "Found the artist Neil Young & Crazy Horse, with Songkick ID: 1980138\n",
      "Found the artist Bruce Springsteen & The E Street Band, with Songkick ID: 227030\n",
      "Found the artist ZZ Top, with Songkick ID: 307157\n",
      "Found the artist Emerson, Lake & Palmer, with Songkick ID: 265092\n",
      "Found the artist Aerosmith, with Songkick ID: 224919\n",
      "Found the artist Alice Cooper, with Songkick ID: 538293\n",
      "Found the artist Styx, with Songkick ID: 540471\n",
      "Found the artist Neil Young With Crazy Horse, with Songkick ID: 540471\n",
      "Found the artist REO Speedwagon, with Songkick ID: 12785\n",
      "Found the artist Cream, with Songkick ID: 119202\n",
      "Found the artist Bob Dylan, with Songkick ID: 408511\n",
      "Found the artist Kansas, with Songkick ID: 336136\n",
      "Found the artist The Band, with Songkick ID: 825630\n",
      "Found the artist The Steve Miller Band, with Songkick ID: 2367135\n",
      "Found the artist Foreigner, with Songkick ID: 145855\n",
      "The following artist couldnt be found: ['Creedence Clearwater Revival Featuring John Fogerty', 'Neil Young With Crazy Horse']\n",
      "\n",
      "\n",
      "Fetching Led Zeppelin data... entry nº 515 of 515\n",
      "\n",
      "Fetching Dire Straits data... entry nº 902 of 902\n",
      "\n",
      "Fetching David Bowie data... entry nº 1024 of 1024\n",
      "\n",
      "Fetching Eagles data... entry nº 823 of 823\n",
      "\n",
      "Fetching Neil Young data... entry nº 884 of 884\n",
      "\n",
      "Fetching Queen data... entry nº 940 of 940\n",
      "\n",
      "Fetching Supertramp data... entry nº 172 of 172\n",
      "\n",
      "Fetching The Doors data... entry nº 444 of 444\n",
      "\n",
      "Fetching Simon & Garfunkel data... entry nº 863 of 863\n",
      "\n",
      "Fetching The Rolling Stones data... entry nº 1287 of 1287\n",
      "\n",
      "Fetching Jethro Tull data... entry nº 2613 of 2613\n",
      "\n",
      "Fetching Pink Floyd data... entry nº 1104 of 1104\n",
      "\n",
      "Fetching Mike Oldfield data... entry nº 379 of 379\n",
      "\n",
      "Fetching Elton John data... entry nº 3695 of 3695\n",
      "\n",
      "Fetching Rolling Stones data... entry nº 1287 of 1287\n",
      "\n",
      "Fetching Bruce Springsteen data... entry nº 1920 of 1920\n",
      "\n",
      "Fetching Steely Dan data... entry nº 852 of 852\n",
      "\n",
      "Fetching Bowie data... entry nº 1024 of 1024\n",
      "\n",
      "Fetching Creedence Clearwater Revival data... entry nº 157 of 157\n",
      "\n",
      "Fetching Eric Clapton data... entry nº 1870 of 1870\n",
      "\n",
      "Fetching Iron Butterfly data... entry nº 207 of 207\n",
      "\n",
      "Fetching Janis Joplin data... entry nº 64 of 64\n",
      "\n",
      "Fetching U2 data... entry nº 1741 of 1741\n",
      "\n",
      "Fetching Fleetwood Mac data... entry nº 1635 of 1635\n",
      "\n",
      "Fetching Van Morrison data... entry nº 2525 of 2525\n",
      "\n",
      "Fetching Blind Faith data... entry nº 27 of 27\n",
      "\n",
      "Fetching Genesis data... entry nº 685 of 685\n",
      "\n",
      "Fetching Van Halen data... entry nº 1734 of 1734\n",
      "\n",
      "Fetching T. Rex data... entry nº 207 of 207\n",
      "\n",
      "Fetching Jackson Browne data... entry nº 1408 of 1408\n",
      "\n",
      "Fetching Cat Stevens data... entry nº 159 of 159\n",
      "\n",
      "Fetching The Who data... entry nº 2179 of 2179\n",
      "\n",
      "Fetching Patti Smith data... entry nº 1428 of 1428\n",
      "\n",
      "Fetching Various data... entry nº 109 of 109\n",
      "\n",
      "Fetching Neil Young & Crazy Horse data... entry nº 884 of 884\n",
      "\n",
      "Fetching Bruce Springsteen & The E Street Band data... entry nº 1920 of 1920\n",
      "\n",
      "Fetching ZZ Top data... entry nº 2494 of 2494\n",
      "\n",
      "Fetching Emerson, Lake & Palmer data... entry nº 656 of 656\n",
      "\n",
      "Fetching Aerosmith data... entry nº 2079 of 2079\n",
      "\n",
      "Fetching Alice Cooper data... entry nº 2372 of 2372\n",
      "\n",
      "Fetching Styx data... entry nº 2168 of 2168\n",
      "\n",
      "Fetching REO Speedwagon data... entry nº 1215 of 1215\n",
      "\n",
      "Fetching Cream data... entry nº 328 of 328\n",
      "\n",
      "Fetching Bob Dylan data... entry nº 3738 of 3738\n",
      "\n",
      "Fetching Kansas data... entry nº 2139 of 2139\n",
      "\n",
      "Fetching The Band data... entry nº 710 of 710\n",
      "\n",
      "Fetching The Steve Miller Band data... entry nº 1 of 1\n",
      "\n",
      "Fetching Foreigner data... entry nº 1453 of 1453\n",
      "\n",
      "-Done-\n"
     ]
    }
   ],
   "source": [
    "data = get_shows_data(n=50, genres=['Classic Rock'])"
   ]
  },
  {
   "cell_type": "markdown",
   "metadata": {},
   "source": [
    "Ok, we have our data in a tidy way (as a list of lists for each show). Now, it's time to construct our DataFrame with this data:"
   ]
  },
  {
   "cell_type": "markdown",
   "metadata": {},
   "source": [
    "## 4. Building the DataFrame"
   ]
  },
  {
   "cell_type": "markdown",
   "metadata": {},
   "source": [
    "We stored our values in a convenient list of arrays for each show we collected. So, to construct it, we'll just have to call `pd.DataFrame` and introduce the list we created, along with the columns names:"
   ]
  },
  {
   "cell_type": "code",
   "execution_count": 90,
   "metadata": {
    "ExecuteTime": {
     "end_time": "2020-02-20T17:40:48.320338Z",
     "start_time": "2020-02-20T17:40:48.033596Z"
    }
   },
   "outputs": [],
   "source": [
    "df = pd.DataFrame(data)"
   ]
  },
  {
   "cell_type": "code",
   "execution_count": 91,
   "metadata": {
    "ExecuteTime": {
     "end_time": "2020-02-20T17:40:57.870055Z",
     "start_time": "2020-02-20T17:40:57.862543Z"
    }
   },
   "outputs": [
    {
     "data": {
      "text/plain": [
       "(59020, 10)"
      ]
     },
     "execution_count": 91,
     "metadata": {},
     "output_type": "execute_result"
    }
   ],
   "source": [
    "df.shape"
   ]
  },
  {
   "cell_type": "code",
   "execution_count": 92,
   "metadata": {
    "ExecuteTime": {
     "end_time": "2020-02-20T17:41:12.393225Z",
     "start_time": "2020-02-20T17:41:12.378524Z"
    }
   },
   "outputs": [
    {
     "data": {
      "text/html": [
       "<div>\n",
       "<style scoped>\n",
       "    .dataframe tbody tr th:only-of-type {\n",
       "        vertical-align: middle;\n",
       "    }\n",
       "\n",
       "    .dataframe tbody tr th {\n",
       "        vertical-align: top;\n",
       "    }\n",
       "\n",
       "    .dataframe thead th {\n",
       "        text-align: right;\n",
       "    }\n",
       "</style>\n",
       "<table border=\"1\" class=\"dataframe\">\n",
       "  <thead>\n",
       "    <tr style=\"text-align: right;\">\n",
       "      <th></th>\n",
       "      <th>0</th>\n",
       "      <th>1</th>\n",
       "      <th>2</th>\n",
       "      <th>3</th>\n",
       "      <th>4</th>\n",
       "      <th>5</th>\n",
       "      <th>6</th>\n",
       "      <th>7</th>\n",
       "      <th>8</th>\n",
       "      <th>9</th>\n",
       "    </tr>\n",
       "  </thead>\n",
       "  <tbody>\n",
       "    <tr>\n",
       "      <td>0</td>\n",
       "      <td>Led Zeppelin</td>\n",
       "      <td>18833</td>\n",
       "      <td>headline</td>\n",
       "      <td>Led Zeppelin at Teen Club Box 45 (September 7,...</td>\n",
       "      <td>1968-09-07</td>\n",
       "      <td>None</td>\n",
       "      <td>Copenhagen, Denmark</td>\n",
       "      <td>Teen Club Box 45</td>\n",
       "      <td>NaN</td>\n",
       "      <td>NaN</td>\n",
       "    </tr>\n",
       "    <tr>\n",
       "      <td>1</td>\n",
       "      <td>Led Zeppelin</td>\n",
       "      <td>18833</td>\n",
       "      <td>headline</td>\n",
       "      <td>Led Zeppelin at Fjordvilla Club (September 8, ...</td>\n",
       "      <td>1968-09-08</td>\n",
       "      <td>None</td>\n",
       "      <td>Roskilde, Denmark</td>\n",
       "      <td>Fjordvilla Club</td>\n",
       "      <td>NaN</td>\n",
       "      <td>NaN</td>\n",
       "    </tr>\n",
       "    <tr>\n",
       "      <td>2</td>\n",
       "      <td>Led Zeppelin</td>\n",
       "      <td>18833</td>\n",
       "      <td>headline</td>\n",
       "      <td>Led Zeppelin at Gröna Lund (September 12, 1968)</td>\n",
       "      <td>1968-09-12</td>\n",
       "      <td>None</td>\n",
       "      <td>Stockholm, Sweden</td>\n",
       "      <td>Gröna Lund</td>\n",
       "      <td>59.323487</td>\n",
       "      <td>18.097393</td>\n",
       "    </tr>\n",
       "    <tr>\n",
       "      <td>3</td>\n",
       "      <td>Led Zeppelin</td>\n",
       "      <td>18833</td>\n",
       "      <td>headline</td>\n",
       "      <td>Led Zeppelin at Inside Club (September 13, 1968)</td>\n",
       "      <td>1968-09-13</td>\n",
       "      <td>None</td>\n",
       "      <td>Stockholm, Sweden</td>\n",
       "      <td>Inside Club</td>\n",
       "      <td>NaN</td>\n",
       "      <td>NaN</td>\n",
       "    </tr>\n",
       "    <tr>\n",
       "      <td>4</td>\n",
       "      <td>Led Zeppelin</td>\n",
       "      <td>18833</td>\n",
       "      <td>headline</td>\n",
       "      <td>Led Zeppelin at Angby Park (September 14, 1968)</td>\n",
       "      <td>1968-09-14</td>\n",
       "      <td>None</td>\n",
       "      <td>Stockholm, Sweden</td>\n",
       "      <td>Angby Park</td>\n",
       "      <td>NaN</td>\n",
       "      <td>NaN</td>\n",
       "    </tr>\n",
       "  </tbody>\n",
       "</table>\n",
       "</div>"
      ],
      "text/plain": [
       "              0      1         2  \\\n",
       "0  Led Zeppelin  18833  headline   \n",
       "1  Led Zeppelin  18833  headline   \n",
       "2  Led Zeppelin  18833  headline   \n",
       "3  Led Zeppelin  18833  headline   \n",
       "4  Led Zeppelin  18833  headline   \n",
       "\n",
       "                                                   3           4     5  \\\n",
       "0  Led Zeppelin at Teen Club Box 45 (September 7,...  1968-09-07  None   \n",
       "1  Led Zeppelin at Fjordvilla Club (September 8, ...  1968-09-08  None   \n",
       "2    Led Zeppelin at Gröna Lund (September 12, 1968)  1968-09-12  None   \n",
       "3   Led Zeppelin at Inside Club (September 13, 1968)  1968-09-13  None   \n",
       "4    Led Zeppelin at Angby Park (September 14, 1968)  1968-09-14  None   \n",
       "\n",
       "                     6                 7          8          9  \n",
       "0  Copenhagen, Denmark  Teen Club Box 45        NaN        NaN  \n",
       "1    Roskilde, Denmark   Fjordvilla Club        NaN        NaN  \n",
       "2    Stockholm, Sweden        Gröna Lund  59.323487  18.097393  \n",
       "3    Stockholm, Sweden       Inside Club        NaN        NaN  \n",
       "4    Stockholm, Sweden        Angby Park        NaN        NaN  "
      ]
     },
     "execution_count": 92,
     "metadata": {},
     "output_type": "execute_result"
    }
   ],
   "source": [
    "df.head()"
   ]
  },
  {
   "cell_type": "code",
   "execution_count": 93,
   "metadata": {
    "ExecuteTime": {
     "end_time": "2020-02-20T17:41:22.189399Z",
     "start_time": "2020-02-20T17:41:22.186117Z"
    }
   },
   "outputs": [],
   "source": [
    "df.columns = ['artist', 'artist_id', 'relevance', 'show_name', 'date', 'time', 'city', 'venue', 'lat', 'lng']"
   ]
  },
  {
   "cell_type": "code",
   "execution_count": 94,
   "metadata": {
    "ExecuteTime": {
     "end_time": "2020-02-20T17:41:31.707854Z",
     "start_time": "2020-02-20T17:41:31.695614Z"
    }
   },
   "outputs": [
    {
     "data": {
      "text/html": [
       "<div>\n",
       "<style scoped>\n",
       "    .dataframe tbody tr th:only-of-type {\n",
       "        vertical-align: middle;\n",
       "    }\n",
       "\n",
       "    .dataframe tbody tr th {\n",
       "        vertical-align: top;\n",
       "    }\n",
       "\n",
       "    .dataframe thead th {\n",
       "        text-align: right;\n",
       "    }\n",
       "</style>\n",
       "<table border=\"1\" class=\"dataframe\">\n",
       "  <thead>\n",
       "    <tr style=\"text-align: right;\">\n",
       "      <th></th>\n",
       "      <th>artist</th>\n",
       "      <th>artist_id</th>\n",
       "      <th>relevance</th>\n",
       "      <th>show_name</th>\n",
       "      <th>date</th>\n",
       "      <th>time</th>\n",
       "      <th>city</th>\n",
       "      <th>venue</th>\n",
       "      <th>lat</th>\n",
       "      <th>lng</th>\n",
       "    </tr>\n",
       "  </thead>\n",
       "  <tbody>\n",
       "    <tr>\n",
       "      <td>0</td>\n",
       "      <td>Led Zeppelin</td>\n",
       "      <td>18833</td>\n",
       "      <td>headline</td>\n",
       "      <td>Led Zeppelin at Teen Club Box 45 (September 7,...</td>\n",
       "      <td>1968-09-07</td>\n",
       "      <td>None</td>\n",
       "      <td>Copenhagen, Denmark</td>\n",
       "      <td>Teen Club Box 45</td>\n",
       "      <td>NaN</td>\n",
       "      <td>NaN</td>\n",
       "    </tr>\n",
       "    <tr>\n",
       "      <td>1</td>\n",
       "      <td>Led Zeppelin</td>\n",
       "      <td>18833</td>\n",
       "      <td>headline</td>\n",
       "      <td>Led Zeppelin at Fjordvilla Club (September 8, ...</td>\n",
       "      <td>1968-09-08</td>\n",
       "      <td>None</td>\n",
       "      <td>Roskilde, Denmark</td>\n",
       "      <td>Fjordvilla Club</td>\n",
       "      <td>NaN</td>\n",
       "      <td>NaN</td>\n",
       "    </tr>\n",
       "    <tr>\n",
       "      <td>2</td>\n",
       "      <td>Led Zeppelin</td>\n",
       "      <td>18833</td>\n",
       "      <td>headline</td>\n",
       "      <td>Led Zeppelin at Gröna Lund (September 12, 1968)</td>\n",
       "      <td>1968-09-12</td>\n",
       "      <td>None</td>\n",
       "      <td>Stockholm, Sweden</td>\n",
       "      <td>Gröna Lund</td>\n",
       "      <td>59.323487</td>\n",
       "      <td>18.097393</td>\n",
       "    </tr>\n",
       "    <tr>\n",
       "      <td>3</td>\n",
       "      <td>Led Zeppelin</td>\n",
       "      <td>18833</td>\n",
       "      <td>headline</td>\n",
       "      <td>Led Zeppelin at Inside Club (September 13, 1968)</td>\n",
       "      <td>1968-09-13</td>\n",
       "      <td>None</td>\n",
       "      <td>Stockholm, Sweden</td>\n",
       "      <td>Inside Club</td>\n",
       "      <td>NaN</td>\n",
       "      <td>NaN</td>\n",
       "    </tr>\n",
       "    <tr>\n",
       "      <td>4</td>\n",
       "      <td>Led Zeppelin</td>\n",
       "      <td>18833</td>\n",
       "      <td>headline</td>\n",
       "      <td>Led Zeppelin at Angby Park (September 14, 1968)</td>\n",
       "      <td>1968-09-14</td>\n",
       "      <td>None</td>\n",
       "      <td>Stockholm, Sweden</td>\n",
       "      <td>Angby Park</td>\n",
       "      <td>NaN</td>\n",
       "      <td>NaN</td>\n",
       "    </tr>\n",
       "  </tbody>\n",
       "</table>\n",
       "</div>"
      ],
      "text/plain": [
       "         artist artist_id relevance  \\\n",
       "0  Led Zeppelin     18833  headline   \n",
       "1  Led Zeppelin     18833  headline   \n",
       "2  Led Zeppelin     18833  headline   \n",
       "3  Led Zeppelin     18833  headline   \n",
       "4  Led Zeppelin     18833  headline   \n",
       "\n",
       "                                           show_name        date  time  \\\n",
       "0  Led Zeppelin at Teen Club Box 45 (September 7,...  1968-09-07  None   \n",
       "1  Led Zeppelin at Fjordvilla Club (September 8, ...  1968-09-08  None   \n",
       "2    Led Zeppelin at Gröna Lund (September 12, 1968)  1968-09-12  None   \n",
       "3   Led Zeppelin at Inside Club (September 13, 1968)  1968-09-13  None   \n",
       "4    Led Zeppelin at Angby Park (September 14, 1968)  1968-09-14  None   \n",
       "\n",
       "                  city             venue        lat        lng  \n",
       "0  Copenhagen, Denmark  Teen Club Box 45        NaN        NaN  \n",
       "1    Roskilde, Denmark   Fjordvilla Club        NaN        NaN  \n",
       "2    Stockholm, Sweden        Gröna Lund  59.323487  18.097393  \n",
       "3    Stockholm, Sweden       Inside Club        NaN        NaN  \n",
       "4    Stockholm, Sweden        Angby Park        NaN        NaN  "
      ]
     },
     "execution_count": 94,
     "metadata": {},
     "output_type": "execute_result"
    }
   ],
   "source": [
    "df.head()"
   ]
  },
  {
   "cell_type": "code",
   "execution_count": 95,
   "metadata": {
    "ExecuteTime": {
     "end_time": "2020-02-20T17:41:41.389019Z",
     "start_time": "2020-02-20T17:41:41.346178Z"
    }
   },
   "outputs": [
    {
     "name": "stdout",
     "output_type": "stream",
     "text": [
      "<class 'pandas.core.frame.DataFrame'>\n",
      "RangeIndex: 59020 entries, 0 to 59019\n",
      "Data columns (total 10 columns):\n",
      "artist       59020 non-null object\n",
      "artist_id    59020 non-null object\n",
      "relevance    59020 non-null object\n",
      "show_name    59020 non-null object\n",
      "date         59020 non-null object\n",
      "time         12935 non-null object\n",
      "city         59020 non-null object\n",
      "venue        59020 non-null object\n",
      "lat          48889 non-null float64\n",
      "lng          48889 non-null float64\n",
      "dtypes: float64(2), object(8)\n",
      "memory usage: 4.5+ MB\n"
     ]
    }
   ],
   "source": [
    "df.info()"
   ]
  },
  {
   "cell_type": "markdown",
   "metadata": {
    "ExecuteTime": {
     "end_time": "2020-02-20T03:30:55.813271Z",
     "start_time": "2020-02-20T03:30:55.809937Z"
    }
   },
   "source": [
    "Setting a datetime column:"
   ]
  },
  {
   "cell_type": "code",
   "execution_count": 96,
   "metadata": {
    "ExecuteTime": {
     "end_time": "2020-02-20T17:59:00.760656Z",
     "start_time": "2020-02-20T17:59:00.738842Z"
    }
   },
   "outputs": [],
   "source": [
    "df_time = df['date']\n",
    "\n",
    "df_time = pd.to_datetime(df_time, errors='coerce')"
   ]
  },
  {
   "cell_type": "markdown",
   "metadata": {
    "ExecuteTime": {
     "end_time": "2020-02-20T03:00:56.119170Z",
     "start_time": "2020-02-20T03:00:56.108212Z"
    }
   },
   "source": [
    "We'll use a function to know the percentage of NA values:"
   ]
  },
  {
   "cell_type": "code",
   "execution_count": 97,
   "metadata": {
    "ExecuteTime": {
     "end_time": "2020-02-20T17:59:10.227055Z",
     "start_time": "2020-02-20T17:59:10.220725Z"
    }
   },
   "outputs": [],
   "source": [
    "def df_total_na(df):\n",
    "    '''\n",
    "    Returns the percentage of total NULL values in the dataset\n",
    "    '''\n",
    "    total_obs = df.count().sum()\n",
    "    total_nas = df.isna().sum().sum()\n",
    "    nas_percentage = total_nas *100 / total_obs\n",
    "    \n",
    "    print(f'Our dataset has {round(nas_percentage, 2)}% missing values overall' )"
   ]
  },
  {
   "cell_type": "code",
   "execution_count": 98,
   "metadata": {
    "ExecuteTime": {
     "end_time": "2020-02-20T17:59:19.607962Z",
     "start_time": "2020-02-20T17:59:19.535067Z"
    }
   },
   "outputs": [
    {
     "name": "stdout",
     "output_type": "stream",
     "text": [
      "Our dataset has 12.67% missing values overall\n"
     ]
    }
   ],
   "source": [
    "df_total_na(df)"
   ]
  },
  {
   "cell_type": "markdown",
   "metadata": {},
   "source": [
    "Also checking what columns have more percentage of null values"
   ]
  },
  {
   "cell_type": "code",
   "execution_count": 99,
   "metadata": {
    "ExecuteTime": {
     "end_time": "2020-02-20T18:10:34.747063Z",
     "start_time": "2020-02-20T18:10:34.705307Z"
    }
   },
   "outputs": [
    {
     "name": "stdout",
     "output_type": "stream",
     "text": [
      "artist        0.00\n",
      "artist_id     0.00\n",
      "relevance     0.00\n",
      "show_name     0.00\n",
      "date          0.00\n",
      "time         78.08\n",
      "city          0.00\n",
      "venue         0.00\n",
      "lat          17.17\n",
      "lng          17.17\n",
      "dtype: float64\n"
     ]
    }
   ],
   "source": [
    "def column_nulls_percentage(df):\n",
    "    '''\n",
    "    Returns a series indicating percentage of NULLS per column\n",
    "    '''\n",
    "    # .mean() gets the NULL values and divides it by the total length of the column\n",
    "    \n",
    "    return df.isna().mean().round(4) * 100\n",
    "\n",
    "\n",
    "print(column_nulls_percentage(df))"
   ]
  },
  {
   "cell_type": "markdown",
   "metadata": {
    "ExecuteTime": {
     "end_time": "2020-02-20T03:00:42.221609Z",
     "start_time": "2020-02-20T03:00:42.218147Z"
    }
   },
   "source": [
    "We find out that `time` column has a considerable amount of `NAs` an is not useful for us. We'll arrange the dataframe and don't preserve it for now.\n",
    "`artist_id`, and `show_name` are also not useful for us for the moment."
   ]
  },
  {
   "cell_type": "code",
   "execution_count": 100,
   "metadata": {
    "ExecuteTime": {
     "end_time": "2020-02-20T18:10:48.488392Z",
     "start_time": "2020-02-20T18:10:48.476132Z"
    }
   },
   "outputs": [],
   "source": [
    "df_original = df\n",
    "\n",
    "df = df[['artist', 'date', 'time', 'venue', 'city', 'relevance', 'lat', 'lng']]"
   ]
  },
  {
   "cell_type": "code",
   "execution_count": 101,
   "metadata": {
    "ExecuteTime": {
     "end_time": "2020-02-20T18:10:57.892568Z",
     "start_time": "2020-02-20T18:10:57.881658Z"
    }
   },
   "outputs": [
    {
     "data": {
      "text/html": [
       "<div>\n",
       "<style scoped>\n",
       "    .dataframe tbody tr th:only-of-type {\n",
       "        vertical-align: middle;\n",
       "    }\n",
       "\n",
       "    .dataframe tbody tr th {\n",
       "        vertical-align: top;\n",
       "    }\n",
       "\n",
       "    .dataframe thead th {\n",
       "        text-align: right;\n",
       "    }\n",
       "</style>\n",
       "<table border=\"1\" class=\"dataframe\">\n",
       "  <thead>\n",
       "    <tr style=\"text-align: right;\">\n",
       "      <th></th>\n",
       "      <th>artist</th>\n",
       "      <th>date</th>\n",
       "      <th>time</th>\n",
       "      <th>venue</th>\n",
       "      <th>city</th>\n",
       "      <th>relevance</th>\n",
       "      <th>lat</th>\n",
       "      <th>lng</th>\n",
       "    </tr>\n",
       "  </thead>\n",
       "  <tbody>\n",
       "    <tr>\n",
       "      <td>0</td>\n",
       "      <td>Led Zeppelin</td>\n",
       "      <td>1968-09-07</td>\n",
       "      <td>None</td>\n",
       "      <td>Teen Club Box 45</td>\n",
       "      <td>Copenhagen, Denmark</td>\n",
       "      <td>headline</td>\n",
       "      <td>NaN</td>\n",
       "      <td>NaN</td>\n",
       "    </tr>\n",
       "    <tr>\n",
       "      <td>1</td>\n",
       "      <td>Led Zeppelin</td>\n",
       "      <td>1968-09-08</td>\n",
       "      <td>None</td>\n",
       "      <td>Fjordvilla Club</td>\n",
       "      <td>Roskilde, Denmark</td>\n",
       "      <td>headline</td>\n",
       "      <td>NaN</td>\n",
       "      <td>NaN</td>\n",
       "    </tr>\n",
       "    <tr>\n",
       "      <td>2</td>\n",
       "      <td>Led Zeppelin</td>\n",
       "      <td>1968-09-12</td>\n",
       "      <td>None</td>\n",
       "      <td>Gröna Lund</td>\n",
       "      <td>Stockholm, Sweden</td>\n",
       "      <td>headline</td>\n",
       "      <td>59.323487</td>\n",
       "      <td>18.097393</td>\n",
       "    </tr>\n",
       "    <tr>\n",
       "      <td>3</td>\n",
       "      <td>Led Zeppelin</td>\n",
       "      <td>1968-09-13</td>\n",
       "      <td>None</td>\n",
       "      <td>Inside Club</td>\n",
       "      <td>Stockholm, Sweden</td>\n",
       "      <td>headline</td>\n",
       "      <td>NaN</td>\n",
       "      <td>NaN</td>\n",
       "    </tr>\n",
       "    <tr>\n",
       "      <td>4</td>\n",
       "      <td>Led Zeppelin</td>\n",
       "      <td>1968-09-14</td>\n",
       "      <td>None</td>\n",
       "      <td>Angby Park</td>\n",
       "      <td>Stockholm, Sweden</td>\n",
       "      <td>headline</td>\n",
       "      <td>NaN</td>\n",
       "      <td>NaN</td>\n",
       "    </tr>\n",
       "  </tbody>\n",
       "</table>\n",
       "</div>"
      ],
      "text/plain": [
       "         artist        date  time             venue                 city  \\\n",
       "0  Led Zeppelin  1968-09-07  None  Teen Club Box 45  Copenhagen, Denmark   \n",
       "1  Led Zeppelin  1968-09-08  None   Fjordvilla Club    Roskilde, Denmark   \n",
       "2  Led Zeppelin  1968-09-12  None        Gröna Lund    Stockholm, Sweden   \n",
       "3  Led Zeppelin  1968-09-13  None       Inside Club    Stockholm, Sweden   \n",
       "4  Led Zeppelin  1968-09-14  None        Angby Park    Stockholm, Sweden   \n",
       "\n",
       "  relevance        lat        lng  \n",
       "0  headline        NaN        NaN  \n",
       "1  headline        NaN        NaN  \n",
       "2  headline  59.323487  18.097393  \n",
       "3  headline        NaN        NaN  \n",
       "4  headline        NaN        NaN  "
      ]
     },
     "execution_count": 101,
     "metadata": {},
     "output_type": "execute_result"
    }
   ],
   "source": [
    "df.head()"
   ]
  },
  {
   "cell_type": "markdown",
   "metadata": {
    "ExecuteTime": {
     "end_time": "2020-02-20T02:53:34.986095Z",
     "start_time": "2020-02-20T02:53:34.982605Z"
    }
   },
   "source": [
    "## 5. Usage of the data"
   ]
  },
  {
   "cell_type": "markdown",
   "metadata": {},
   "source": [
    "This dataframe is very interesting to understand the music movement and artists. For example, how many concerts did Bob Dylan made as a headliner since he started music compared to other ones?"
   ]
  },
  {
   "cell_type": "code",
   "execution_count": 125,
   "metadata": {
    "ExecuteTime": {
     "end_time": "2020-02-20T19:16:45.441734Z",
     "start_time": "2020-02-20T19:16:45.431048Z"
    }
   },
   "outputs": [
    {
     "data": {
      "text/plain": [
       "headline    3738\n",
       "Name: relevance, dtype: int64"
      ]
     },
     "execution_count": 125,
     "metadata": {},
     "output_type": "execute_result"
    }
   ],
   "source": [
    "df[df.artist == 'Bob Dylan'].relevance.value_counts()"
   ]
  },
  {
   "cell_type": "code",
   "execution_count": 135,
   "metadata": {
    "ExecuteTime": {
     "end_time": "2020-02-20T19:36:38.781762Z",
     "start_time": "2020-02-20T19:36:38.771272Z"
    }
   },
   "outputs": [
    {
     "data": {
      "text/plain": [
       "headline    1104\n",
       "Name: relevance, dtype: int64"
      ]
     },
     "execution_count": 135,
     "metadata": {},
     "output_type": "execute_result"
    }
   ],
   "source": [
    "df[df.artist == 'Pink Floyd'].relevance.value_counts()"
   ]
  },
  {
   "cell_type": "code",
   "execution_count": null,
   "metadata": {},
   "outputs": [],
   "source": []
  }
 ],
 "metadata": {
  "kernelspec": {
   "display_name": "Python 3",
   "language": "python",
   "name": "python3"
  },
  "language_info": {
   "codemirror_mode": {
    "name": "ipython",
    "version": 3
   },
   "file_extension": ".py",
   "mimetype": "text/x-python",
   "name": "python",
   "nbconvert_exporter": "python",
   "pygments_lexer": "ipython3",
   "version": "3.7.4"
  },
  "toc": {
   "base_numbering": 1,
   "nav_menu": {},
   "number_sections": true,
   "sideBar": true,
   "skip_h1_title": false,
   "title_cell": "Table of Contents",
   "title_sidebar": "Contents",
   "toc_cell": false,
   "toc_position": {},
   "toc_section_display": true,
   "toc_window_display": false
  },
  "varInspector": {
   "cols": {
    "lenName": 16,
    "lenType": 16,
    "lenVar": 40
   },
   "kernels_config": {
    "python": {
     "delete_cmd_postfix": "",
     "delete_cmd_prefix": "del ",
     "library": "var_list.py",
     "varRefreshCmd": "print(var_dic_list())"
    },
    "r": {
     "delete_cmd_postfix": ") ",
     "delete_cmd_prefix": "rm(",
     "library": "var_list.r",
     "varRefreshCmd": "cat(var_dic_list()) "
    }
   },
   "types_to_exclude": [
    "module",
    "function",
    "builtin_function_or_method",
    "instance",
    "_Feature"
   ],
   "window_display": false
  }
 },
 "nbformat": 4,
 "nbformat_minor": 2
}
