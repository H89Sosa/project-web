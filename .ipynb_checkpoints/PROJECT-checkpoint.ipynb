{
 "cells": [
  {
   "cell_type": "markdown",
   "metadata": {},
   "source": [
    "# 0. Setting up the environment"
   ]
  },
  {
   "cell_type": "code",
   "execution_count": null,
   "metadata": {
    "ExecuteTime": {
     "end_time": "2020-02-19T19:15:09.247416Z",
     "start_time": "2020-02-19T19:15:08.590802Z"
    }
   },
   "outputs": [],
   "source": [
    "import requests\n",
    "import json\n",
    "from bs4 import BeautifulSoup\n",
    "import pandas as pd\n",
    "from pandas.io.json import json_normalize\n",
    "import re\n",
    "import math\n",
    "import numpy as np"
   ]
  },
  {
   "cell_type": "markdown",
   "metadata": {},
   "source": [
    "# 1. Web scraping: Getting artists from Discogs.com"
   ]
  },
  {
   "cell_type": "markdown",
   "metadata": {},
   "source": [
    "We want to get a list with 'n' artists, searching by most popular albums by style in discogs.com. By changing the style in the link, we can apply the same job on other music styles.\n",
    "The style code in the link its noted as '&style_exact=Sample+Style'. By concatenating them, we can choose multiple styles.\n",
    "\n",
    "Using 'Rock' genre to find results:"
   ]
  },
  {
   "cell_type": "code",
   "execution_count": null,
   "metadata": {
    "ExecuteTime": {
     "end_time": "2020-02-19T20:50:14.790110Z",
     "start_time": "2020-02-19T20:50:14.787399Z"
    }
   },
   "outputs": [],
   "source": [
    "url = 'https://www.discogs.com/search/?sort=have%2Cdesc&genre_exact=Rock&ev=gs_mc&type=master&page=1'"
   ]
  },
  {
   "cell_type": "markdown",
   "metadata": {},
   "source": [
    "Iterating over page 1 of the website"
   ]
  },
  {
   "cell_type": "code",
   "execution_count": null,
   "metadata": {
    "ExecuteTime": {
     "end_time": "2020-02-19T20:50:19.076748Z",
     "start_time": "2020-02-19T20:50:17.268027Z"
    }
   },
   "outputs": [],
   "source": [
    "html = requests.get(url).content"
   ]
  },
  {
   "cell_type": "code",
   "execution_count": null,
   "metadata": {
    "ExecuteTime": {
     "end_time": "2020-02-19T20:50:21.723646Z",
     "start_time": "2020-02-19T20:50:21.425371Z"
    }
   },
   "outputs": [],
   "source": [
    "soup = BeautifulSoup(html, 'lxml')"
   ]
  },
  {
   "cell_type": "markdown",
   "metadata": {},
   "source": [
    "\n",
    "We will extract the artist name for each record stored in the page. The tag for the artist is named 'h5'."
   ]
  },
  {
   "cell_type": "code",
   "execution_count": null,
   "metadata": {
    "ExecuteTime": {
     "end_time": "2020-02-19T20:50:23.901125Z",
     "start_time": "2020-02-19T20:50:23.898549Z"
    }
   },
   "outputs": [],
   "source": [
    "tag = ['h5']"
   ]
  },
  {
   "cell_type": "code",
   "execution_count": null,
   "metadata": {
    "ExecuteTime": {
     "end_time": "2020-02-19T20:50:26.128039Z",
     "start_time": "2020-02-19T20:50:26.080061Z"
    },
    "code_folding": []
   },
   "outputs": [],
   "source": [
    "#\n",
    "artists = [element.text for element in soup.find_all(tag)]\n",
    "print(artists[:-5]) # last five elements are not useful for us"
   ]
  },
  {
   "cell_type": "markdown",
   "metadata": {},
   "source": [
    "We will extract all the genres:\n",
    "\n"
   ]
  },
  {
   "cell_type": "code",
   "execution_count": 260,
   "metadata": {
    "ExecuteTime": {
     "end_time": "2020-02-19T21:50:50.453708Z",
     "start_time": "2020-02-19T21:50:50.451235Z"
    }
   },
   "outputs": [],
   "source": [
    "tag = 'span'"
   ]
  },
  {
   "cell_type": "code",
   "execution_count": 264,
   "metadata": {
    "ExecuteTime": {
     "end_time": "2020-02-19T21:59:09.951465Z",
     "start_time": "2020-02-19T21:59:09.903094Z"
    }
   },
   "outputs": [
    {
     "data": {
      "text/plain": [
       "['Pop',\n",
       " 'Electronic',\n",
       " 'Folk, World, & Country',\n",
       " 'Funk / Soul',\n",
       " 'Blues',\n",
       " 'Pop',\n",
       " 'Electronic',\n",
       " 'Folk, World, & Country',\n",
       " 'Funk / Soul',\n",
       " 'Blues']"
      ]
     },
     "execution_count": 264,
     "metadata": {},
     "output_type": "execute_result"
    }
   ],
   "source": [
    "genres = [element.text for element in soup.find_all(tag, class_=\"facet_name\")]\n",
    "\n",
    "genres[:10]\n"
   ]
  },
  {
   "cell_type": "markdown",
   "metadata": {},
   "source": [
    "Now we find a problem. The sited is mainly organized by GENRES or STYLES (sub-genres). In order to properly use one of them, we'll need to extract the page link instead of the genre/style name, because each one has its own path:"
   ]
  },
  {
   "cell_type": "code",
   "execution_count": null,
   "metadata": {},
   "outputs": [],
   "source": []
  },
  {
   "cell_type": "code",
   "execution_count": null,
   "metadata": {},
   "outputs": [],
   "source": []
  },
  {
   "cell_type": "code",
   "execution_count": null,
   "metadata": {},
   "outputs": [],
   "source": []
  },
  {
   "cell_type": "markdown",
   "metadata": {
    "ExecuteTime": {
     "end_time": "2020-02-17T18:44:30.164658Z",
     "start_time": "2020-02-17T18:44:30.159746Z"
    }
   },
   "source": [
    "We create a function to clean up the string. Luckily for us, these strings come pretty clean."
   ]
  },
  {
   "cell_type": "code",
   "execution_count": null,
   "metadata": {
    "ExecuteTime": {
     "end_time": "2020-02-19T19:15:11.712930Z",
     "start_time": "2020-02-19T19:15:11.710152Z"
    }
   },
   "outputs": [],
   "source": [
    "a = '\\n\\nThe String (5)*'"
   ]
  },
  {
   "cell_type": "code",
   "execution_count": null,
   "metadata": {
    "ExecuteTime": {
     "end_time": "2020-02-19T19:15:11.718627Z",
     "start_time": "2020-02-19T19:15:11.715426Z"
    },
    "code_folding": []
   },
   "outputs": [],
   "source": [
    "def clean_artist(string):\n",
    "    '''\n",
    "    This function takes a string and erases the skipline '\\n', parenthesis '()' and stars '*'\n",
    "    '''\n",
    "    \n",
    "    new_str = re.sub('\\s\\(\\d\\)', '', string).replace('\\n\\n', '').replace('*', '')\n",
    "    \n",
    "    \n",
    "    return new_str"
   ]
  },
  {
   "cell_type": "code",
   "execution_count": null,
   "metadata": {
    "ExecuteTime": {
     "end_time": "2020-02-19T19:15:11.730650Z",
     "start_time": "2020-02-19T19:15:11.721616Z"
    }
   },
   "outputs": [],
   "source": [
    "clean_text = [clean_artist(elem) for elem in text[:-5]]\n",
    "clean_text\n"
   ]
  },
  {
   "cell_type": "markdown",
   "metadata": {},
   "source": [
    "We can clearly see that there are some elements which are repeated, so to find 'n' artists we'll iterate over the webpage until our list meets the requirements."
   ]
  },
  {
   "cell_type": "code",
   "execution_count": null,
   "metadata": {
    "ExecuteTime": {
     "end_time": "2020-02-19T20:54:46.592464Z",
     "start_time": "2020-02-19T20:54:46.586493Z"
    },
    "code_folding": []
   },
   "outputs": [],
   "source": [
    "def artist_scrape(genre='Rock', n=100):\n",
    "    '''\n",
    "    This function scrapes the Discogs.com webpage to see artist names, sorted by popularity.\n",
    "    Returns a list with artist names.\n",
    "    \n",
    "    Takes 2 arguments:\n",
    "    \n",
    "        genre='string': Selects the genre you're interested on.\n",
    "        \n",
    "        n='int': Indicates the length of the list returned\n",
    "    \n",
    "    '''\n",
    "    \n",
    "    i = 0\n",
    "    artists = []\n",
    "    \n",
    "    selected_genre= '&genre_exact=' + genre\n",
    "    \n",
    "    while len(artists) < n:\n",
    "        \n",
    "        i += 1\n",
    "        \n",
    "        url = 'https://www.discogs.com/search/?sort=have%2Cdesc' + selected_genre + '&ev=gs_mc&type=master&page=' + str(i)\n",
    "        html = requests.get(url).content\n",
    "        soup = BeautifulSoup(html, 'lxml')\n",
    "        tag = 'h5'\n",
    "        \n",
    "        text = [element.text for element in soup.find_all(tag)]\n",
    "        clean_text = [clean_artist(elem) for elem in text[:-5]]\n",
    "        \n",
    "        for elem in clean_text:\n",
    "            if len(artists) < n:\n",
    "                if elem not in artists:\n",
    "                    artists.append(elem)\n",
    "                    \n",
    "    return artists"
   ]
  },
  {
   "cell_type": "code",
   "execution_count": null,
   "metadata": {
    "ExecuteTime": {
     "end_time": "2020-02-19T20:54:53.711390Z",
     "start_time": "2020-02-19T20:54:48.765713Z"
    }
   },
   "outputs": [],
   "source": [
    "bands = artist_scrape(genre='Rock', n=10)"
   ]
  },
  {
   "cell_type": "code",
   "execution_count": null,
   "metadata": {
    "ExecuteTime": {
     "end_time": "2020-02-19T20:55:07.059395Z",
     "start_time": "2020-02-19T20:55:07.055806Z"
    }
   },
   "outputs": [],
   "source": [
    "len(bands)"
   ]
  },
  {
   "cell_type": "markdown",
   "metadata": {},
   "source": [
    "# 2.  Songkick API Querying"
   ]
  },
  {
   "cell_type": "code",
   "execution_count": null,
   "metadata": {
    "ExecuteTime": {
     "end_time": "2020-02-19T20:55:12.977117Z",
     "start_time": "2020-02-19T20:55:12.974493Z"
    }
   },
   "outputs": [],
   "source": [
    "apikey = 'PxrJ1AnxJlC6uT7i'"
   ]
  },
  {
   "cell_type": "markdown",
   "metadata": {},
   "source": [
    "Now that we have the bands list, we want to find out how many concerts they made, when and where. Because of the structure of this API and the data we collected, we'll have to break this step in two parts:"
   ]
  },
  {
   "cell_type": "markdown",
   "metadata": {},
   "source": [
    "### 2.1 Artist ID gathering"
   ]
  },
  {
   "cell_type": "markdown",
   "metadata": {},
   "source": [
    "In order to locate an artist we're interested in, we'll have to find the unique ID of this artist on a separated part of the API of Songkick.\n",
    "https://www.songkick.com/developer/artist-search"
   ]
  },
  {
   "cell_type": "code",
   "execution_count": null,
   "metadata": {
    "ExecuteTime": {
     "end_time": "2020-02-19T20:55:19.537595Z",
     "start_time": "2020-02-19T20:55:19.534931Z"
    }
   },
   "outputs": [],
   "source": [
    "id_url = 'https://api.songkick.com/api/3.0/search/artists.json?apikey={your_api_key}&query={artist_name}'"
   ]
  },
  {
   "cell_type": "markdown",
   "metadata": {},
   "source": [
    "We'll test our code with just one band: Pink Floyd"
   ]
  },
  {
   "cell_type": "markdown",
   "metadata": {},
   "source": [
    "First thing we find out is that in order to correctly acces the band name, we'll have to replace all whitespaces with '_' (underscores). So we're making a function for it:"
   ]
  },
  {
   "cell_type": "code",
   "execution_count": null,
   "metadata": {
    "ExecuteTime": {
     "end_time": "2020-02-19T20:55:34.321650Z",
     "start_time": "2020-02-19T20:55:34.318779Z"
    }
   },
   "outputs": [],
   "source": [
    "def underscore_artist(artist):\n",
    "    '''\n",
    "    This function takes an artist name and transforms its string into \n",
    "    a 'Str_Str' format\n",
    "    '''\n",
    "    return artist.replace(' ', '_') \n"
   ]
  },
  {
   "cell_type": "code",
   "execution_count": null,
   "metadata": {
    "ExecuteTime": {
     "end_time": "2020-02-19T20:55:36.586345Z",
     "start_time": "2020-02-19T20:55:36.582365Z"
    }
   },
   "outputs": [],
   "source": [
    "underscore_artist('Pink Floyd')"
   ]
  },
  {
   "cell_type": "code",
   "execution_count": null,
   "metadata": {
    "ExecuteTime": {
     "end_time": "2020-02-19T19:15:14.578569Z",
     "start_time": "2020-02-19T19:15:14.575458Z"
    }
   },
   "outputs": [],
   "source": [
    "# FIND ARTIST ID:\n",
    "\n",
    "band_name = 'Pink_Floyd'\n",
    "\n",
    "pinkfloyd_url = 'https://api.songkick.com/api/3.0/search/artists.json?apikey=' + apikey + '&query=Pink_Floyd'"
   ]
  },
  {
   "cell_type": "code",
   "execution_count": null,
   "metadata": {
    "ExecuteTime": {
     "end_time": "2020-02-19T20:55:47.520219Z",
     "start_time": "2020-02-19T20:55:47.205207Z"
    }
   },
   "outputs": [],
   "source": [
    "# Doing the request to the api\n",
    "response = requests.get(pinkfloyd_url)\n",
    "results = response.json()"
   ]
  },
  {
   "cell_type": "markdown",
   "metadata": {},
   "source": [
    "After examining the JSON Dictionary, we find out that the ID Key it's stored in the following path:"
   ]
  },
  {
   "cell_type": "code",
   "execution_count": null,
   "metadata": {
    "ExecuteTime": {
     "end_time": "2020-02-19T20:55:49.712700Z",
     "start_time": "2020-02-19T20:55:49.703953Z"
    }
   },
   "outputs": [],
   "source": [
    "# Display the naked json\n",
    "artist_id = results['resultsPage']['results']['artist'][0]['id']\n",
    "\n",
    "artist_id"
   ]
  },
  {
   "cell_type": "markdown",
   "metadata": {},
   "source": [
    "Similarly to the Discogs.com process, we'll make a function that returns all the Artists IDs (in the same order)"
   ]
  },
  {
   "cell_type": "code",
   "execution_count": 252,
   "metadata": {
    "ExecuteTime": {
     "end_time": "2020-02-19T21:42:34.695810Z",
     "start_time": "2020-02-19T21:42:34.689696Z"
    }
   },
   "outputs": [],
   "source": [
    "def songkick_artist_id(artist_list, apikey = apikey):\n",
    "    '''\n",
    "    This function locates an Songkick ID number for a given list of artists. Then, it creates a tuple\n",
    "    with the band ID and the band name\n",
    "    \n",
    "    Takes two arguments:\n",
    "        \n",
    "        artist_list = type lst: List of artist names to be found. If an input it's a string, transform it\n",
    "                                into a list for a correct processing.\n",
    "                                \n",
    "        api_key = type str: Your Songkick API key\n",
    "    \n",
    "    The output is a tuple composed of two parts:\n",
    "    \n",
    "        output[0]= type int: List of Songkick IDs\n",
    "        output[1]= type str: Artist names\n",
    "        \n",
    "    '''\n",
    "    \n",
    "    \n",
    "    if type(artist_list) == str:\n",
    "        artist_list = [artist_list]\n",
    "    \n",
    "    IDs = []\n",
    "    not_found = []\n",
    "    \n",
    "    \n",
    "    for artist in artist_list:\n",
    "        \n",
    "        url = 'https://api.songkick.com/api/3.0/search/artists.json?apikey=' + apikey +'&query=' +underscore_artist(artist)\n",
    "        response = requests.get(url)\n",
    "        results = response.json()\n",
    "        try:\n",
    "            songkick_id = results['resultsPage']['results']['artist'][0]['id']\n",
    "            IDs.append((str(songkick_id), str(artist)))\n",
    "        except:\n",
    "            not_found.append(artist)\n",
    "        \n",
    "        print(f'Found the artist {artist}, with Songkick ID: {songkick_id}')\n",
    "        \n",
    "    if len(not_found) > 0:\n",
    "        print(f'The following artist couldnt be found: {not_found}')\n",
    "        \n",
    "    return IDs\n",
    "    \n",
    "    "
   ]
  },
  {
   "cell_type": "code",
   "execution_count": 247,
   "metadata": {
    "ExecuteTime": {
     "end_time": "2020-02-19T21:40:03.664422Z",
     "start_time": "2020-02-19T21:40:03.349108Z"
    }
   },
   "outputs": [
    {
     "name": "stdout",
     "output_type": "stream",
     "text": [
      "Found the artist Pink Floyd, with ID: 400904\n"
     ]
    }
   ],
   "source": [
    "bands = songkick_artist_id(artist_list = 'Pink Floyd')"
   ]
  },
  {
   "cell_type": "markdown",
   "metadata": {},
   "source": [
    "We want to store the IDs and the Artist Name, because later on we found out that if an Artist plays in a Festival, this artist ID it's kinda randomized on the API"
   ]
  },
  {
   "cell_type": "markdown",
   "metadata": {},
   "source": [
    "### 2.2 Getting data from the API"
   ]
  },
  {
   "cell_type": "markdown",
   "metadata": {},
   "source": [
    "Now that we have the artist name and the artist id, we can now find some more data we're interested on.\n",
    "We want to find:\n",
    "    - The concert name\n",
    "    - The concert date\n",
    "    - The concert time\n",
    "    - The city where the concert was done\n",
    "    - The venue where the concert was done\n",
    "    - The coordinates of that venue\n",
    "    - If the artist was headlining the concert (billing)\n",
    "    "
   ]
  },
  {
   "cell_type": "markdown",
   "metadata": {},
   "source": [
    "https://www.songkick.com/developer/past-events-for-artist"
   ]
  },
  {
   "cell_type": "markdown",
   "metadata": {},
   "source": [
    "All the data we're looking for it's located on this API link, we'll have to explore the JSON object to find it out:"
   ]
  },
  {
   "cell_type": "markdown",
   "metadata": {},
   "source": [
    "https://api.songkick.com/api/3.0/artists/{artist_id}/gigography.json?apikey={your_api_key}"
   ]
  },
  {
   "cell_type": "markdown",
   "metadata": {},
   "source": [
    "Again, we'll use Pink Floyd and its ID for testing:"
   ]
  },
  {
   "cell_type": "code",
   "execution_count": null,
   "metadata": {
    "ExecuteTime": {
     "end_time": "2020-02-19T19:20:34.235730Z",
     "start_time": "2020-02-19T19:20:33.991280Z"
    }
   },
   "outputs": [],
   "source": [
    "pinkfloyd_id = songkick_artist_id(['Pink Floyd'])[0][0]\n",
    "pinkfloyd_id"
   ]
  },
  {
   "cell_type": "code",
   "execution_count": null,
   "metadata": {
    "ExecuteTime": {
     "end_time": "2020-02-19T19:21:17.632826Z",
     "start_time": "2020-02-19T19:21:17.629112Z"
    }
   },
   "outputs": [],
   "source": [
    "pinkfloyd_url = 'https://api.songkick.com/api/3.0/artists/'+pinkfloyd_id +'/gigography.json?apikey=' + apikey\n",
    "pinkfloyd_url"
   ]
  },
  {
   "cell_type": "code",
   "execution_count": null,
   "metadata": {
    "ExecuteTime": {
     "end_time": "2020-02-19T19:21:23.292331Z",
     "start_time": "2020-02-19T19:21:23.061171Z"
    }
   },
   "outputs": [],
   "source": [
    "response = requests.get(pinkfloyd_url)\n",
    "response"
   ]
  },
  {
   "cell_type": "markdown",
   "metadata": {},
   "source": [
    "Works!"
   ]
  },
  {
   "cell_type": "code",
   "execution_count": null,
   "metadata": {
    "ExecuteTime": {
     "end_time": "2020-02-19T19:21:25.195343Z",
     "start_time": "2020-02-19T19:21:25.154823Z"
    }
   },
   "outputs": [],
   "source": [
    "result = response.json()\n",
    "result"
   ]
  },
  {
   "cell_type": "markdown",
   "metadata": {},
   "source": [
    "### 2.2.1 Finding the concert name"
   ]
  },
  {
   "cell_type": "code",
   "execution_count": null,
   "metadata": {
    "ExecuteTime": {
     "end_time": "2020-02-19T19:21:29.607976Z",
     "start_time": "2020-02-19T19:21:29.603715Z"
    }
   },
   "outputs": [],
   "source": [
    "result['resultsPage']['results']['event'][0]['displayName']"
   ]
  },
  {
   "cell_type": "markdown",
   "metadata": {},
   "source": [
    "How many results are on the page?"
   ]
  },
  {
   "cell_type": "code",
   "execution_count": null,
   "metadata": {
    "ExecuteTime": {
     "end_time": "2020-02-19T19:21:41.144006Z",
     "start_time": "2020-02-19T19:21:41.140187Z"
    }
   },
   "outputs": [],
   "source": [
    "len(result['resultsPage']['results']['event'])"
   ]
  },
  {
   "cell_type": "markdown",
   "metadata": {},
   "source": [
    "### 2.2.2 Finding the concert date"
   ]
  },
  {
   "cell_type": "code",
   "execution_count": null,
   "metadata": {
    "ExecuteTime": {
     "end_time": "2020-02-19T19:21:44.439506Z",
     "start_time": "2020-02-19T19:21:44.435361Z"
    }
   },
   "outputs": [],
   "source": [
    "result['resultsPage']['results']['event'][0]['start']['date']"
   ]
  },
  {
   "cell_type": "markdown",
   "metadata": {},
   "source": [
    "### 2.2.3 Finding the concert time"
   ]
  },
  {
   "cell_type": "code",
   "execution_count": null,
   "metadata": {
    "ExecuteTime": {
     "end_time": "2020-02-19T19:21:46.910431Z",
     "start_time": "2020-02-19T19:21:46.907136Z"
    }
   },
   "outputs": [],
   "source": [
    "result['resultsPage']['results']['event'][0]['start']['time'] \n",
    "\n",
    "# In this particular case we have no info, so the result is None.\n"
   ]
  },
  {
   "cell_type": "markdown",
   "metadata": {},
   "source": [
    "### 2.2.4 Finding the city where the concert was done"
   ]
  },
  {
   "cell_type": "code",
   "execution_count": null,
   "metadata": {
    "ExecuteTime": {
     "end_time": "2020-02-19T19:21:48.620707Z",
     "start_time": "2020-02-19T19:21:48.616879Z"
    }
   },
   "outputs": [],
   "source": [
    "result['resultsPage']['results']['event'][0]['location']['city']"
   ]
  },
  {
   "cell_type": "markdown",
   "metadata": {},
   "source": [
    "### 2.2.5 Finding the venue name where the concert was played\n",
    "\n"
   ]
  },
  {
   "cell_type": "code",
   "execution_count": null,
   "metadata": {
    "ExecuteTime": {
     "end_time": "2020-02-19T19:21:50.311831Z",
     "start_time": "2020-02-19T19:21:50.308005Z"
    }
   },
   "outputs": [],
   "source": [
    "result['resultsPage']['results']['event'][0]['venue']['displayName']"
   ]
  },
  {
   "cell_type": "markdown",
   "metadata": {},
   "source": [
    "### 2.2.6 Finding the coordinates of that venue"
   ]
  },
  {
   "cell_type": "code",
   "execution_count": null,
   "metadata": {
    "ExecuteTime": {
     "end_time": "2020-02-19T19:21:52.008880Z",
     "start_time": "2020-02-19T19:21:52.005975Z"
    }
   },
   "outputs": [],
   "source": [
    "result['resultsPage']['results']['event'][0]['venue']['lat'] # This particular show has no info"
   ]
  },
  {
   "cell_type": "code",
   "execution_count": null,
   "metadata": {
    "ExecuteTime": {
     "end_time": "2020-02-19T19:21:53.698077Z",
     "start_time": "2020-02-19T19:21:53.695299Z"
    }
   },
   "outputs": [],
   "source": [
    "result['resultsPage']['results']['event'][0]['venue']['lng'] # This particular show has no info"
   ]
  },
  {
   "cell_type": "markdown",
   "metadata": {},
   "source": [
    "### 2.2.7 Finding out if the artist was headlining the concert ( billing )"
   ]
  },
  {
   "cell_type": "code",
   "execution_count": null,
   "metadata": {
    "ExecuteTime": {
     "end_time": "2020-02-19T19:21:55.710685Z",
     "start_time": "2020-02-19T19:21:55.706446Z"
    }
   },
   "outputs": [],
   "source": [
    "result['resultsPage']['results']['event'][0]['performance'][0]['billing']"
   ]
  },
  {
   "cell_type": "markdown",
   "metadata": {},
   "source": [
    "### 2.2.8 Getting the artist's name\n",
    "We are doing this to directly assing the artist in a row for each lecture of the data"
   ]
  },
  {
   "cell_type": "code",
   "execution_count": null,
   "metadata": {
    "ExecuteTime": {
     "end_time": "2020-02-19T19:21:59.528242Z",
     "start_time": "2020-02-19T19:21:59.523972Z"
    }
   },
   "outputs": [],
   "source": [
    "result['resultsPage']['results']['event'][0]['performance'][0]['displayName']"
   ]
  },
  {
   "cell_type": "code",
   "execution_count": null,
   "metadata": {},
   "outputs": [],
   "source": []
  },
  {
   "cell_type": "markdown",
   "metadata": {},
   "source": [
    "## 2.3 Defining a function for our data rows:\n",
    "Finding out that the pagination comes as an argument in the link= '&page=%s'. We have 50 entries per page"
   ]
  },
  {
   "cell_type": "code",
   "execution_count": null,
   "metadata": {
    "ExecuteTime": {
     "end_time": "2020-02-19T19:26:26.365451Z",
     "start_time": "2020-02-19T19:26:26.361351Z"
    }
   },
   "outputs": [],
   "source": [
    "entries = result['resultsPage']['totalEntries']\n",
    "\n",
    "elm_per_page = result['resultsPage']['perPage']\n",
    "\n",
    "pages = entries / elm_per_page\n",
    "\n",
    "print(f\"The number of pages on each ID will be equal to its entries ({entries}), \\ndivided by the elements by page ({elm_per_page}). \\nFor example, {entries}/{elm_per_page}={pages} pages. \\nSince the number of pages is not an integer, we'll round up this number to iter on the elements that are left. \\nIf the pages are {pages}, we'll iter over {round(pages) + 1} pages\" )\n",
    "      \n",
    "      \n",
    "      "
   ]
  },
  {
   "cell_type": "markdown",
   "metadata": {},
   "source": [
    "Now, we're making a function to collect the data of each show for every artist id we pass on the list #artist_id"
   ]
  },
  {
   "cell_type": "code",
   "execution_count": null,
   "metadata": {},
   "outputs": [],
   "source": []
  },
  {
   "cell_type": "code",
   "execution_count": null,
   "metadata": {
    "ExecuteTime": {
     "end_time": "2020-02-19T20:57:38.277664Z",
     "start_time": "2020-02-19T20:57:38.265877Z"
    }
   },
   "outputs": [],
   "source": [
    "def collect_data(artist_id_list, apikey='PxrJ1AnxJlC6uT7i'):  \n",
    "    \n",
    "    artist_data = []\n",
    "    \n",
    "    for artist in artist_id_list:\n",
    "        url = 'https://api.songkick.com/api/3.0/artists/'+str(artist[0]) +'/gigography.json?apikey=' + apikey\n",
    "        response = requests.get(url)\n",
    "        result = response.json()\n",
    "        \n",
    "        ## Iterating over different pages:\n",
    "        pages = result['resultsPage']['totalEntries'] / result['resultsPage']['perPage']\n",
    "        \n",
    "        pages_round= int(math.ceil(pages))\n",
    "        \n",
    "    \n",
    "        for z in range(pages_round):\n",
    "                \n",
    "                # Page 0 and Page 1 are equal, so we'll start from page 1\n",
    "                url = 'https://api.songkick.com/api/3.0/artists/'+str(artist[0]) +'/gigography.json?&page='+ str(z+1) +'&apikey=' + apikey\n",
    "                response = requests.get(url)\n",
    "                result = response.json()\n",
    "        \n",
    "    \n",
    "                for i in range(len(result['resultsPage']['results']['event'])):\n",
    "                        \n",
    "                    print(f'Fetching artist {artist[1]}... entry no.{str(z*50+i)}', end='\\r')\n",
    "\n",
    "        \n",
    "                    band = artist[1]\n",
    "                    b_id = artist[0]\n",
    "                    bill = result['resultsPage']['results']['event'][i]['performance'][0]['billing']\n",
    "                    name = result['resultsPage']['results']['event'][i]['displayName']\n",
    "                    date = result['resultsPage']['results']['event'][i]['start']['date']\n",
    "                    time = result['resultsPage']['results']['event'][i]['start']['time']\n",
    "                    city = result['resultsPage']['results']['event'][i]['location']['city']\n",
    "                    venu = result['resultsPage']['results']['event'][i]['venue']['displayName']\n",
    "                    lat = result['resultsPage']['results']['event'][i]['venue']['lat'] \n",
    "                    lng = result['resultsPage']['results']['event'][i]['venue']['lng'] \n",
    "        \n",
    "                    artist_data.append([band, b_id, bill, name, date, time, city, venu, lat, lng])\n",
    "    \n",
    "    return artist_data\n"
   ]
  },
  {
   "cell_type": "code",
   "execution_count": null,
   "metadata": {
    "ExecuteTime": {
     "end_time": "2020-02-19T21:01:55.204292Z",
     "start_time": "2020-02-19T20:58:12.431965Z"
    }
   },
   "outputs": [],
   "source": [
    "data = collect_data(bands)"
   ]
  },
  {
   "cell_type": "markdown",
   "metadata": {},
   "source": [
    "## Bringing it all together"
   ]
  },
  {
   "cell_type": "markdown",
   "metadata": {
    "ExecuteTime": {
     "end_time": "2020-02-17T23:37:39.771130Z",
     "start_time": "2020-02-17T23:37:39.766883Z"
    }
   },
   "source": [
    "Our goal is to make a dataframe with the gathered data, to be able to study it.\n",
    "We'll define a function with the scripts we used through the process.\n",
    "This function is called run_process():"
   ]
  },
  {
   "cell_type": "code",
   "execution_count": 216,
   "metadata": {
    "ExecuteTime": {
     "end_time": "2020-02-19T21:28:22.965049Z",
     "start_time": "2020-02-19T21:28:22.962526Z"
    }
   },
   "outputs": [],
   "source": [
    "bands= 'Metallica'"
   ]
  },
  {
   "cell_type": "code",
   "execution_count": 253,
   "metadata": {
    "ExecuteTime": {
     "end_time": "2020-02-19T21:45:47.298794Z",
     "start_time": "2020-02-19T21:45:47.293301Z"
    }
   },
   "outputs": [],
   "source": [
    "def get_shows_info(n=10, genre='Rock', apikey='PxrJ1AnxJlC6uT7i', artists = None):\n",
    "    '''\n",
    "    This function returns an organized Dataframe which contains information about all the shows played\n",
    "    by that artist over its history. Contains the following variables:\n",
    "        n = type int: '''\n",
    "    \n",
    "    if artists == None:\n",
    "\n",
    "        artists = artist_scrape(n=n, genre=genre)\n",
    "    \n",
    "    \n",
    "    ids = songkick_artist_id(artists)\n",
    "    \n",
    "    data = collect_data(ids)\n",
    "    \n",
    "    df = pd.DataFrame(data, columns = ['artist', 'band_id', 'headline', 'show_name', 'date', 'time',\n",
    "                                       'city', 'venue', 'lat', 'lng'])\n",
    "        \n",
    "    print('\\n-Done-')\n",
    "    \n",
    "    return df"
   ]
  },
  {
   "cell_type": "code",
   "execution_count": 254,
   "metadata": {
    "ExecuteTime": {
     "end_time": "2020-02-19T21:46:15.516120Z",
     "start_time": "2020-02-19T21:45:50.182781Z"
    }
   },
   "outputs": [
    {
     "name": "stdout",
     "output_type": "stream",
     "text": [
      "Found the artist Metallica, with Songkick ID: 331163\n",
      "Fetching artist Metallica... entry no.2036\n",
      "-Done-\n"
     ]
    }
   ],
   "source": [
    "data = get_shows_info(artists='Metallica')"
   ]
  },
  {
   "cell_type": "code",
   "execution_count": 259,
   "metadata": {
    "ExecuteTime": {
     "end_time": "2020-02-19T21:48:00.369582Z",
     "start_time": "2020-02-19T21:48:00.361938Z"
    }
   },
   "outputs": [
    {
     "name": "stdout",
     "output_type": "stream",
     "text": [
      "<class 'pandas.core.frame.DataFrame'>\n",
      "RangeIndex: 2037 entries, 0 to 2036\n",
      "Data columns (total 10 columns):\n",
      "artist       2037 non-null object\n",
      "band_id      2037 non-null object\n",
      "headline     2037 non-null object\n",
      "show_name    2037 non-null object\n",
      "date         2037 non-null object\n",
      "time         284 non-null object\n",
      "city         2037 non-null object\n",
      "venue        2037 non-null object\n",
      "lat          1620 non-null float64\n",
      "lng          1620 non-null float64\n",
      "dtypes: float64(2), object(8)\n",
      "memory usage: 159.3+ KB\n"
     ]
    }
   ],
   "source": [
    "data.info()"
   ]
  },
  {
   "cell_type": "code",
   "execution_count": null,
   "metadata": {},
   "outputs": [],
   "source": []
  }
 ],
 "metadata": {
  "kernelspec": {
   "display_name": "Python 3",
   "language": "python",
   "name": "python3"
  },
  "language_info": {
   "codemirror_mode": {
    "name": "ipython",
    "version": 3
   },
   "file_extension": ".py",
   "mimetype": "text/x-python",
   "name": "python",
   "nbconvert_exporter": "python",
   "pygments_lexer": "ipython3",
   "version": "3.7.4"
  },
  "toc": {
   "base_numbering": 1,
   "nav_menu": {},
   "number_sections": true,
   "sideBar": true,
   "skip_h1_title": false,
   "title_cell": "Table of Contents",
   "title_sidebar": "Contents",
   "toc_cell": false,
   "toc_position": {},
   "toc_section_display": true,
   "toc_window_display": false
  },
  "varInspector": {
   "cols": {
    "lenName": 16,
    "lenType": 16,
    "lenVar": 40
   },
   "kernels_config": {
    "python": {
     "delete_cmd_postfix": "",
     "delete_cmd_prefix": "del ",
     "library": "var_list.py",
     "varRefreshCmd": "print(var_dic_list())"
    },
    "r": {
     "delete_cmd_postfix": ") ",
     "delete_cmd_prefix": "rm(",
     "library": "var_list.r",
     "varRefreshCmd": "cat(var_dic_list()) "
    }
   },
   "types_to_exclude": [
    "module",
    "function",
    "builtin_function_or_method",
    "instance",
    "_Feature"
   ],
   "window_display": false
  }
 },
 "nbformat": 4,
 "nbformat_minor": 2
}
