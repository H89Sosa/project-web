{
 "cells": [
  {
   "cell_type": "markdown",
   "metadata": {},
   "source": [
    "## En la API de Songkick, extraer también los futuros conciertos\n",
    "\n",
    "## Selector de géneros multiopción con la lista de styles de Discogs\n",
    "\n",
    "## Hacer un heatmap de países donde se escuche más cierto género\n",
    "\n",
    "## Tenemos datos de salas, útil para grupos que tocan\n",
    "\n",
    "## Dado a la geolocalización, podemos extraer información por países y tiempo\n",
    "\n",
    "## Examinar fechas de eventos mundiales para ver si influyen en la cantidad de conciertos\n",
    "\n",
    "## Comparar numero de conciertos de bandas antiguas y nuevas, y si hay correlación entender el porqué\n",
    "\n",
    "## Qué géneros son más dados a tocar en directo?\n",
    "\n",
    "## Scatterplot geolocalizado de género más escuchado\n",
    "\n",
    "## Barplot de conciertos de una banda por países\n",
    "\n",
    "## Habían más conciertos antes o ahora?\n",
    "\n",
    "## Investigar el número de festivales actual\n",
    "\n",
    "## Ver en qué sitios han tocado mas grupos de x\n"
   ]
  },
  {
   "cell_type": "markdown",
   "metadata": {},
   "source": [
    "![IronHack Logo](https://s3-eu-west-1.amazonaws.com/ih-materials/uploads/upload_d5c5793015fec3be28a63c4fa3dd4d55.png)\n",
    "\n",
    "# *WEB PROJECT* #\n",
    "## by Hernán Sosa.\n",
    "\n",
    "Our objective for this project will be creating a function that gives us information about all the shows an artist has done. \n",
    "This function should give us:\n",
    "- Data for an artist or a list or artists.\n",
    "- Data for a genre or a list of genres.\n",
    "- We'll have to be able to specify how many artist to get\n",
    "\n",
    "This data has to be clean, readable and organized. We'll have to use both web and API scraping\n"
   ]
  }
 ],
 "metadata": {
  "kernelspec": {
   "display_name": "Python 3",
   "language": "python",
   "name": "python3"
  },
  "language_info": {
   "codemirror_mode": {
    "name": "ipython",
    "version": 3
   },
   "file_extension": ".py",
   "mimetype": "text/x-python",
   "name": "python",
   "nbconvert_exporter": "python",
   "pygments_lexer": "ipython3",
   "version": "3.7.4"
  },
  "toc": {
   "base_numbering": 1,
   "nav_menu": {},
   "number_sections": true,
   "sideBar": true,
   "skip_h1_title": false,
   "title_cell": "Table of Contents",
   "title_sidebar": "Contents",
   "toc_cell": false,
   "toc_position": {},
   "toc_section_display": true,
   "toc_window_display": false
  },
  "varInspector": {
   "cols": {
    "lenName": 16,
    "lenType": 16,
    "lenVar": 40
   },
   "kernels_config": {
    "python": {
     "delete_cmd_postfix": "",
     "delete_cmd_prefix": "del ",
     "library": "var_list.py",
     "varRefreshCmd": "print(var_dic_list())"
    },
    "r": {
     "delete_cmd_postfix": ") ",
     "delete_cmd_prefix": "rm(",
     "library": "var_list.r",
     "varRefreshCmd": "cat(var_dic_list()) "
    }
   },
   "types_to_exclude": [
    "module",
    "function",
    "builtin_function_or_method",
    "instance",
    "_Feature"
   ],
   "window_display": false
  }
 },
 "nbformat": 4,
 "nbformat_minor": 2
}
